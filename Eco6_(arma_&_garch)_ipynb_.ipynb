{
  "nbformat": 4,
  "nbformat_minor": 0,
  "metadata": {
    "colab": {
      "name": "Eco6 (arma & garch).ipynb\"",
      "provenance": []
    },
    "kernelspec": {
      "name": "python3",
      "display_name": "Python 3"
    },
    "language_info": {
      "name": "python"
    }
  },
  "cells": [
    {
      "cell_type": "code",
      "metadata": {
        "colab": {
          "base_uri": "https://localhost:8080/"
        },
        "id": "vc31RbVNabuR",
        "outputId": "97a25991-117a-4ad3-e291-4cc6b830f7ff"
      },
      "source": [
        "!pip install yfinance"
      ],
      "execution_count": null,
      "outputs": [
        {
          "output_type": "stream",
          "text": [
            "Collecting yfinance\n",
            "  Downloading https://files.pythonhosted.org/packages/a7/ee/315752b9ef281ba83c62aa7ec2e2074f85223da6e7e74efb4d3e11c0f510/yfinance-0.1.59.tar.gz\n",
            "Requirement already satisfied: pandas>=0.24 in /usr/local/lib/python3.7/dist-packages (from yfinance) (1.1.5)\n",
            "Requirement already satisfied: numpy>=1.15 in /usr/local/lib/python3.7/dist-packages (from yfinance) (1.19.5)\n",
            "Requirement already satisfied: requests>=2.20 in /usr/local/lib/python3.7/dist-packages (from yfinance) (2.23.0)\n",
            "Requirement already satisfied: multitasking>=0.0.7 in /usr/local/lib/python3.7/dist-packages (from yfinance) (0.0.9)\n",
            "Collecting lxml>=4.5.1\n",
            "\u001b[?25l  Downloading https://files.pythonhosted.org/packages/cf/4d/6537313bf58fe22b508f08cf3eb86b29b6f9edf68e00454224539421073b/lxml-4.6.3-cp37-cp37m-manylinux1_x86_64.whl (5.5MB)\n",
            "\u001b[K     |████████████████████████████████| 5.5MB 5.3MB/s \n",
            "\u001b[?25hRequirement already satisfied: python-dateutil>=2.7.3 in /usr/local/lib/python3.7/dist-packages (from pandas>=0.24->yfinance) (2.8.1)\n",
            "Requirement already satisfied: pytz>=2017.2 in /usr/local/lib/python3.7/dist-packages (from pandas>=0.24->yfinance) (2018.9)\n",
            "Requirement already satisfied: certifi>=2017.4.17 in /usr/local/lib/python3.7/dist-packages (from requests>=2.20->yfinance) (2020.12.5)\n",
            "Requirement already satisfied: chardet<4,>=3.0.2 in /usr/local/lib/python3.7/dist-packages (from requests>=2.20->yfinance) (3.0.4)\n",
            "Requirement already satisfied: idna<3,>=2.5 in /usr/local/lib/python3.7/dist-packages (from requests>=2.20->yfinance) (2.10)\n",
            "Requirement already satisfied: urllib3!=1.25.0,!=1.25.1,<1.26,>=1.21.1 in /usr/local/lib/python3.7/dist-packages (from requests>=2.20->yfinance) (1.24.3)\n",
            "Requirement already satisfied: six>=1.5 in /usr/local/lib/python3.7/dist-packages (from python-dateutil>=2.7.3->pandas>=0.24->yfinance) (1.15.0)\n",
            "Building wheels for collected packages: yfinance\n",
            "  Building wheel for yfinance (setup.py) ... \u001b[?25l\u001b[?25hdone\n",
            "  Created wheel for yfinance: filename=yfinance-0.1.59-py2.py3-none-any.whl size=23442 sha256=9b5454205603d8ab4662f78521f9ec08931bfde21587cda6d8516c18bcebb0b3\n",
            "  Stored in directory: /root/.cache/pip/wheels/f8/2a/0f/4b5a86e1d52e451757eb6bc17fd899629f0925c777741b6d04\n",
            "Successfully built yfinance\n",
            "Installing collected packages: lxml, yfinance\n",
            "  Found existing installation: lxml 4.2.6\n",
            "    Uninstalling lxml-4.2.6:\n",
            "      Successfully uninstalled lxml-4.2.6\n",
            "Successfully installed lxml-4.6.3 yfinance-0.1.59\n"
          ],
          "name": "stdout"
        }
      ]
    },
    {
      "cell_type": "code",
      "metadata": {
        "colab": {
          "base_uri": "https://localhost:8080/"
        },
        "id": "ATmdz5vrDsWH",
        "outputId": "e7691254-ae36-4762-9cf8-f0160ecb0182"
      },
      "source": [
        "!pip install chowtest\n"
      ],
      "execution_count": null,
      "outputs": [
        {
          "output_type": "stream",
          "text": [
            "Collecting chowtest\n",
            "  Downloading https://files.pythonhosted.org/packages/18/c8/5262bd5752339c6b5cd41bf41c9828fdc651491d03ca9a421e8fb95cec93/chowtest-0.1.3-py3-none-any.whl\n",
            "Requirement already satisfied: scipy in /usr/local/lib/python3.7/dist-packages (from chowtest) (1.4.1)\n",
            "Requirement already satisfied: pandas in /usr/local/lib/python3.7/dist-packages (from chowtest) (1.1.5)\n",
            "Requirement already satisfied: sklearn in /usr/local/lib/python3.7/dist-packages (from chowtest) (0.0)\n",
            "Requirement already satisfied: numpy in /usr/local/lib/python3.7/dist-packages (from chowtest) (1.19.5)\n",
            "Requirement already satisfied: pytz>=2017.2 in /usr/local/lib/python3.7/dist-packages (from pandas->chowtest) (2018.9)\n",
            "Requirement already satisfied: python-dateutil>=2.7.3 in /usr/local/lib/python3.7/dist-packages (from pandas->chowtest) (2.8.1)\n",
            "Requirement already satisfied: scikit-learn in /usr/local/lib/python3.7/dist-packages (from sklearn->chowtest) (0.22.2.post1)\n",
            "Requirement already satisfied: six>=1.5 in /usr/local/lib/python3.7/dist-packages (from python-dateutil>=2.7.3->pandas->chowtest) (1.15.0)\n",
            "Requirement already satisfied: joblib>=0.11 in /usr/local/lib/python3.7/dist-packages (from scikit-learn->sklearn->chowtest) (1.0.1)\n",
            "Installing collected packages: chowtest\n",
            "Successfully installed chowtest-0.1.3\n"
          ],
          "name": "stdout"
        }
      ]
    },
    {
      "cell_type": "code",
      "metadata": {
        "colab": {
          "base_uri": "https://localhost:8080/"
        },
        "id": "-5GnC4tLY2RP",
        "outputId": "caf5e604-a620-4546-f651-36f3a2d82159"
      },
      "source": [
        "!pip install arch"
      ],
      "execution_count": null,
      "outputs": [
        {
          "output_type": "stream",
          "text": [
            "Collecting arch\n",
            "\u001b[?25l  Downloading https://files.pythonhosted.org/packages/5f/a8/a85dad77039d2884547d4fb83d54edfc13a12e31981934d6d0fb6303b791/arch-4.19-cp37-cp37m-manylinux1_x86_64.whl (807kB)\n",
            "\u001b[K     |████████████████████████████████| 808kB 5.8MB/s \n",
            "\u001b[?25hRequirement already satisfied: numpy>=1.14 in /usr/local/lib/python3.7/dist-packages (from arch) (1.19.5)\n",
            "Requirement already satisfied: cython>=0.29.14 in /usr/local/lib/python3.7/dist-packages (from arch) (0.29.22)\n",
            "Requirement already satisfied: statsmodels>=0.10 in /usr/local/lib/python3.7/dist-packages (from arch) (0.10.2)\n",
            "Collecting property-cached>=1.6.4\n",
            "  Downloading https://files.pythonhosted.org/packages/5c/6c/94d8e520b20a2502e508e1c558f338061cf409cbee78fd6a3a5c6ae812bd/property_cached-1.6.4-py2.py3-none-any.whl\n",
            "Requirement already satisfied: pandas>=0.23 in /usr/local/lib/python3.7/dist-packages (from arch) (1.1.5)\n",
            "Requirement already satisfied: scipy>=1.2.3 in /usr/local/lib/python3.7/dist-packages (from arch) (1.4.1)\n",
            "Requirement already satisfied: patsy>=0.4.0 in /usr/local/lib/python3.7/dist-packages (from statsmodels>=0.10->arch) (0.5.1)\n",
            "Requirement already satisfied: pytz>=2017.2 in /usr/local/lib/python3.7/dist-packages (from pandas>=0.23->arch) (2018.9)\n",
            "Requirement already satisfied: python-dateutil>=2.7.3 in /usr/local/lib/python3.7/dist-packages (from pandas>=0.23->arch) (2.8.1)\n",
            "Requirement already satisfied: six in /usr/local/lib/python3.7/dist-packages (from patsy>=0.4.0->statsmodels>=0.10->arch) (1.15.0)\n",
            "Installing collected packages: property-cached, arch\n",
            "Successfully installed arch-4.19 property-cached-1.6.4\n"
          ],
          "name": "stdout"
        }
      ]
    },
    {
      "cell_type": "code",
      "metadata": {
        "id": "v3TCtyuQajGv"
      },
      "source": [
        "import numpy as np\n",
        "import pandas as pd\n",
        "import matplotlib.pyplot as plt\n",
        "from pandas_datareader import data\n",
        "import yfinance as yf\n",
        "import os\n",
        "import matplotlib.patches as mpatches\n",
        "import scipy.stats as stats\n",
        "from statsmodels.stats import stattools\n",
        "import statsmodels.api as sm\n",
        "\n",
        "from chow_test import chowtest\n",
        "from statsmodels.tsa.stattools import adfuller\n",
        "import arch"
      ],
      "execution_count": null,
      "outputs": []
    },
    {
      "cell_type": "code",
      "metadata": {
        "id": "k3kQEBnfaoZD"
      },
      "source": [
        "#downloading NTAP prices: \n",
        "start_date = \"2000-01-01\"\n",
        "end_date = \"2019-12-31\"\n",
        "equity_px = \"NTAP\"\n",
        "equity_df = yf.download(equity_px, start_date, end_date, progress=False)"
      ],
      "execution_count": null,
      "outputs": []
    },
    {
      "cell_type": "code",
      "metadata": {
        "colab": {
          "base_uri": "https://localhost:8080/",
          "height": 378
        },
        "id": "rIxgspvuU-sx",
        "outputId": "1b54ccc8-6eee-45bd-9e39-32a8bcdf00e6"
      },
      "source": [
        "equity_df.head(10)\n"
      ],
      "execution_count": null,
      "outputs": [
        {
          "output_type": "execute_result",
          "data": {
            "text/html": [
              "<div>\n",
              "<style scoped>\n",
              "    .dataframe tbody tr th:only-of-type {\n",
              "        vertical-align: middle;\n",
              "    }\n",
              "\n",
              "    .dataframe tbody tr th {\n",
              "        vertical-align: top;\n",
              "    }\n",
              "\n",
              "    .dataframe thead th {\n",
              "        text-align: right;\n",
              "    }\n",
              "</style>\n",
              "<table border=\"1\" class=\"dataframe\">\n",
              "  <thead>\n",
              "    <tr style=\"text-align: right;\">\n",
              "      <th></th>\n",
              "      <th>Open</th>\n",
              "      <th>High</th>\n",
              "      <th>Low</th>\n",
              "      <th>Close</th>\n",
              "      <th>Adj Close</th>\n",
              "      <th>Volume</th>\n",
              "    </tr>\n",
              "    <tr>\n",
              "      <th>Date</th>\n",
              "      <th></th>\n",
              "      <th></th>\n",
              "      <th></th>\n",
              "      <th></th>\n",
              "      <th></th>\n",
              "      <th></th>\n",
              "    </tr>\n",
              "  </thead>\n",
              "  <tbody>\n",
              "    <tr>\n",
              "      <th>2000-01-03</th>\n",
              "      <td>44.93750</td>\n",
              "      <td>45.06250</td>\n",
              "      <td>40.0000</td>\n",
              "      <td>42.500000</td>\n",
              "      <td>35.065536</td>\n",
              "      <td>5426000</td>\n",
              "    </tr>\n",
              "    <tr>\n",
              "      <th>2000-01-04</th>\n",
              "      <td>41.18750</td>\n",
              "      <td>42.43750</td>\n",
              "      <td>37.0000</td>\n",
              "      <td>37.125000</td>\n",
              "      <td>30.630770</td>\n",
              "      <td>4511400</td>\n",
              "    </tr>\n",
              "    <tr>\n",
              "      <th>2000-01-05</th>\n",
              "      <td>40.37500</td>\n",
              "      <td>42.25000</td>\n",
              "      <td>35.0000</td>\n",
              "      <td>39.187500</td>\n",
              "      <td>32.332481</td>\n",
              "      <td>6633800</td>\n",
              "    </tr>\n",
              "    <tr>\n",
              "      <th>2000-01-06</th>\n",
              "      <td>38.50000</td>\n",
              "      <td>38.90625</td>\n",
              "      <td>35.0000</td>\n",
              "      <td>35.031250</td>\n",
              "      <td>28.903280</td>\n",
              "      <td>5589600</td>\n",
              "    </tr>\n",
              "    <tr>\n",
              "      <th>2000-01-07</th>\n",
              "      <td>34.50000</td>\n",
              "      <td>42.50000</td>\n",
              "      <td>33.8750</td>\n",
              "      <td>42.500000</td>\n",
              "      <td>35.065536</td>\n",
              "      <td>8510400</td>\n",
              "    </tr>\n",
              "    <tr>\n",
              "      <th>2000-01-10</th>\n",
              "      <td>44.28125</td>\n",
              "      <td>45.90625</td>\n",
              "      <td>43.2500</td>\n",
              "      <td>44.312500</td>\n",
              "      <td>36.560970</td>\n",
              "      <td>6348600</td>\n",
              "    </tr>\n",
              "    <tr>\n",
              "      <th>2000-01-11</th>\n",
              "      <td>45.50000</td>\n",
              "      <td>46.81250</td>\n",
              "      <td>40.8750</td>\n",
              "      <td>41.250000</td>\n",
              "      <td>34.034195</td>\n",
              "      <td>4730800</td>\n",
              "    </tr>\n",
              "    <tr>\n",
              "      <th>2000-01-12</th>\n",
              "      <td>41.00000</td>\n",
              "      <td>44.37500</td>\n",
              "      <td>39.3125</td>\n",
              "      <td>43.562500</td>\n",
              "      <td>35.942177</td>\n",
              "      <td>4356800</td>\n",
              "    </tr>\n",
              "    <tr>\n",
              "      <th>2000-01-13</th>\n",
              "      <td>44.00000</td>\n",
              "      <td>45.00000</td>\n",
              "      <td>41.6250</td>\n",
              "      <td>42.859375</td>\n",
              "      <td>35.362041</td>\n",
              "      <td>5144000</td>\n",
              "    </tr>\n",
              "    <tr>\n",
              "      <th>2000-01-14</th>\n",
              "      <td>44.00000</td>\n",
              "      <td>47.62500</td>\n",
              "      <td>43.5000</td>\n",
              "      <td>46.843750</td>\n",
              "      <td>38.649452</td>\n",
              "      <td>6007600</td>\n",
              "    </tr>\n",
              "  </tbody>\n",
              "</table>\n",
              "</div>"
            ],
            "text/plain": [
              "                Open      High      Low      Close  Adj Close   Volume\n",
              "Date                                                                  \n",
              "2000-01-03  44.93750  45.06250  40.0000  42.500000  35.065536  5426000\n",
              "2000-01-04  41.18750  42.43750  37.0000  37.125000  30.630770  4511400\n",
              "2000-01-05  40.37500  42.25000  35.0000  39.187500  32.332481  6633800\n",
              "2000-01-06  38.50000  38.90625  35.0000  35.031250  28.903280  5589600\n",
              "2000-01-07  34.50000  42.50000  33.8750  42.500000  35.065536  8510400\n",
              "2000-01-10  44.28125  45.90625  43.2500  44.312500  36.560970  6348600\n",
              "2000-01-11  45.50000  46.81250  40.8750  41.250000  34.034195  4730800\n",
              "2000-01-12  41.00000  44.37500  39.3125  43.562500  35.942177  4356800\n",
              "2000-01-13  44.00000  45.00000  41.6250  42.859375  35.362041  5144000\n",
              "2000-01-14  44.00000  47.62500  43.5000  46.843750  38.649452  6007600"
            ]
          },
          "metadata": {
            "tags": []
          },
          "execution_count": 5
        }
      ]
    },
    {
      "cell_type": "code",
      "metadata": {
        "id": "Dkm2xtdaasXw"
      },
      "source": [
        "mrkt_df = pd.read_excel('/content/Project Data.xlsx')\n",
        "mrkt_df.set_index(\"Calendar Date\", inplace=True)\n",
        "mrkt_df.drop(mrkt_df.tail(1).index, inplace=True)"
      ],
      "execution_count": null,
      "outputs": []
    },
    {
      "cell_type": "code",
      "metadata": {
        "colab": {
          "base_uri": "https://localhost:8080/",
          "height": 228
        },
        "id": "tSO_rnylazoR",
        "outputId": "5dcde05d-0b4e-40da-b6e8-92a9d51a4dc0"
      },
      "source": [
        "mrkt_df['equity px'] = equity_df['Adj Close']\n",
        "mrkt_df.head()\n"
      ],
      "execution_count": null,
      "outputs": [
        {
          "output_type": "execute_result",
          "data": {
            "text/html": [
              "<div>\n",
              "<style scoped>\n",
              "    .dataframe tbody tr th:only-of-type {\n",
              "        vertical-align: middle;\n",
              "    }\n",
              "\n",
              "    .dataframe tbody tr th {\n",
              "        vertical-align: top;\n",
              "    }\n",
              "\n",
              "    .dataframe thead th {\n",
              "        text-align: right;\n",
              "    }\n",
              "</style>\n",
              "<table border=\"1\" class=\"dataframe\">\n",
              "  <thead>\n",
              "    <tr style=\"text-align: right;\">\n",
              "      <th></th>\n",
              "      <th>Index</th>\n",
              "      <th>1M Tbill Yield</th>\n",
              "      <th>Excess Return on the Market</th>\n",
              "      <th>equity px</th>\n",
              "    </tr>\n",
              "    <tr>\n",
              "      <th>Calendar Date</th>\n",
              "      <th></th>\n",
              "      <th></th>\n",
              "      <th></th>\n",
              "      <th></th>\n",
              "    </tr>\n",
              "  </thead>\n",
              "  <tbody>\n",
              "    <tr>\n",
              "      <th>2000-01-03</th>\n",
              "      <td>3006.741</td>\n",
              "      <td>0.00021</td>\n",
              "      <td>-0.0071</td>\n",
              "      <td>35.065536</td>\n",
              "    </tr>\n",
              "    <tr>\n",
              "      <th>2000-01-04</th>\n",
              "      <td>2887.517</td>\n",
              "      <td>0.00021</td>\n",
              "      <td>-0.0406</td>\n",
              "      <td>30.630770</td>\n",
              "    </tr>\n",
              "    <tr>\n",
              "      <th>2000-01-05</th>\n",
              "      <td>2884.818</td>\n",
              "      <td>0.00021</td>\n",
              "      <td>-0.0009</td>\n",
              "      <td>32.332481</td>\n",
              "    </tr>\n",
              "    <tr>\n",
              "      <th>2000-01-06</th>\n",
              "      <td>2863.497</td>\n",
              "      <td>0.00021</td>\n",
              "      <td>-0.0073</td>\n",
              "      <td>28.903280</td>\n",
              "    </tr>\n",
              "    <tr>\n",
              "      <th>2000-01-07</th>\n",
              "      <td>2956.607</td>\n",
              "      <td>0.00021</td>\n",
              "      <td>0.0321</td>\n",
              "      <td>35.065536</td>\n",
              "    </tr>\n",
              "  </tbody>\n",
              "</table>\n",
              "</div>"
            ],
            "text/plain": [
              "                  Index  1M Tbill Yield  Excess Return on the Market  equity px\n",
              "Calendar Date                                                                  \n",
              "2000-01-03     3006.741         0.00021                      -0.0071  35.065536\n",
              "2000-01-04     2887.517         0.00021                      -0.0406  30.630770\n",
              "2000-01-05     2884.818         0.00021                      -0.0009  32.332481\n",
              "2000-01-06     2863.497         0.00021                      -0.0073  28.903280\n",
              "2000-01-07     2956.607         0.00021                       0.0321  35.065536"
            ]
          },
          "metadata": {
            "tags": []
          },
          "execution_count": 7
        }
      ]
    },
    {
      "cell_type": "code",
      "metadata": {
        "id": "DpKROGYJa1tb"
      },
      "source": [
        "# Calculating log returns for NTAP\n",
        "array_equity_px = np.array(equity_df[\"Adj Close\"])\n",
        "equity_log_px = np.log(array_equity_px)\n",
        "equity_compound_return = equity_log_px[1:len(equity_log_px)] - equity_log_px[0:(len(equity_log_px) - 1)]\n",
        "# Add zero value as the first element in the array to account for lost value when calculating the return\n",
        "equity_compound_return = np.insert(equity_compound_return, 0,0)\n",
        "mrkt_df['equity cont compound return'] = equity_compound_return"
      ],
      "execution_count": null,
      "outputs": []
    },
    {
      "cell_type": "code",
      "metadata": {
        "id": "NdsEyTsra8wv"
      },
      "source": [
        "# Calculating log returns for the market data\n",
        "array_index_px = np.array(mrkt_df['Index'])\n",
        "index_log_px = np.log(array_index_px)\n",
        "index_compound_return = index_log_px[1:len(index_log_px)] - index_log_px[0:(len(index_log_px) - 1)]\n",
        "index_compound_return = np.insert(index_compound_return, 0,0)\n",
        "mrkt_df['index cont compound return'] = index_compound_return"
      ],
      "execution_count": null,
      "outputs": []
    },
    {
      "cell_type": "code",
      "metadata": {
        "colab": {
          "base_uri": "https://localhost:8080/"
        },
        "id": "Cx3USjCHbrqY",
        "outputId": "f16596cc-01c4-499d-ef6b-1d8adc393ef4"
      },
      "source": [
        "# Drop the first row to account for \n",
        "mrkt_df.drop(mrkt_df.head(1).index, inplace=True)\n",
        "mrkt_df.head(10)\n",
        "len(mrkt_df)"
      ],
      "execution_count": null,
      "outputs": [
        {
          "output_type": "execute_result",
          "data": {
            "text/plain": [
              "5029"
            ]
          },
          "metadata": {
            "tags": []
          },
          "execution_count": 10
        }
      ]
    },
    {
      "cell_type": "code",
      "metadata": {
        "id": "FCrhbrTVPWag"
      },
      "source": [
        "# define a function for RMRF and Risk free rate data aggregation:\n",
        "\n",
        "def ffm_data_agg(array_like):\n",
        "  return(np.prod(1+array_like)-1)\n"
      ],
      "execution_count": null,
      "outputs": []
    },
    {
      "cell_type": "code",
      "metadata": {
        "colab": {
          "base_uri": "https://localhost:8080/"
        },
        "id": "WYJ_cl8Cbue7",
        "outputId": "47661966-c4d7-4660-c67c-16426e99b8d0"
      },
      "source": [
        "# Create a dataframe resampling from daily to weekly data\n",
        "weekly_df = pd.DataFrame() # create new DF\n",
        "weekly_df['Index'] = mrkt_df['Index'].resample('W', label='right', loffset=pd.Timedelta(days=-2)).mean()\n",
        "weekly_df['1M TBill Yield'] = mrkt_df['1M Tbill Yield'].resample('W', label='right', loffset=pd.Timedelta(days=-2)).apply(ffm_data_agg)\n",
        "weekly_df['RMRF'] = mrkt_df['Excess Return on the Market'].resample('W', label= 'right', loffset=pd.Timedelta(days=-2)).apply(ffm_data_agg)\n",
        "weekly_df['NTAP stock price'] = mrkt_df['equity px'].resample('W', label = 'right', loffset=pd.Timedelta(days=-2)).mean()\n",
        "weekly_df['NTAP cont compounded return'] = mrkt_df['equity cont compound return'].resample('W', label = 'right', loffset=pd.Timedelta(days=-2)).sum()\n",
        "weekly_df['index cont compounded return'] = mrkt_df['index cont compound return'].resample('W', label = 'right', loffset=pd.Timedelta(days=-2)).sum()\n"
      ],
      "execution_count": null,
      "outputs": [
        {
          "output_type": "stream",
          "text": [
            "/usr/local/lib/python3.7/dist-packages/ipykernel_launcher.py:3: FutureWarning: 'loffset' in .resample() and in Grouper() is deprecated.\n",
            "\n",
            ">>> df.resample(freq=\"3s\", loffset=\"8H\")\n",
            "\n",
            "becomes:\n",
            "\n",
            ">>> from pandas.tseries.frequencies import to_offset\n",
            ">>> df = df.resample(freq=\"3s\").mean()\n",
            ">>> df.index = df.index.to_timestamp() + to_offset(\"8H\")\n",
            "\n",
            "  This is separate from the ipykernel package so we can avoid doing imports until\n",
            "/usr/local/lib/python3.7/dist-packages/ipykernel_launcher.py:4: FutureWarning: 'loffset' in .resample() and in Grouper() is deprecated.\n",
            "\n",
            ">>> df.resample(freq=\"3s\", loffset=\"8H\")\n",
            "\n",
            "becomes:\n",
            "\n",
            ">>> from pandas.tseries.frequencies import to_offset\n",
            ">>> df = df.resample(freq=\"3s\").mean()\n",
            ">>> df.index = df.index.to_timestamp() + to_offset(\"8H\")\n",
            "\n",
            "  after removing the cwd from sys.path.\n",
            "/usr/local/lib/python3.7/dist-packages/ipykernel_launcher.py:5: FutureWarning: 'loffset' in .resample() and in Grouper() is deprecated.\n",
            "\n",
            ">>> df.resample(freq=\"3s\", loffset=\"8H\")\n",
            "\n",
            "becomes:\n",
            "\n",
            ">>> from pandas.tseries.frequencies import to_offset\n",
            ">>> df = df.resample(freq=\"3s\").mean()\n",
            ">>> df.index = df.index.to_timestamp() + to_offset(\"8H\")\n",
            "\n",
            "  \"\"\"\n",
            "/usr/local/lib/python3.7/dist-packages/ipykernel_launcher.py:6: FutureWarning: 'loffset' in .resample() and in Grouper() is deprecated.\n",
            "\n",
            ">>> df.resample(freq=\"3s\", loffset=\"8H\")\n",
            "\n",
            "becomes:\n",
            "\n",
            ">>> from pandas.tseries.frequencies import to_offset\n",
            ">>> df = df.resample(freq=\"3s\").mean()\n",
            ">>> df.index = df.index.to_timestamp() + to_offset(\"8H\")\n",
            "\n",
            "  \n",
            "/usr/local/lib/python3.7/dist-packages/ipykernel_launcher.py:7: FutureWarning: 'loffset' in .resample() and in Grouper() is deprecated.\n",
            "\n",
            ">>> df.resample(freq=\"3s\", loffset=\"8H\")\n",
            "\n",
            "becomes:\n",
            "\n",
            ">>> from pandas.tseries.frequencies import to_offset\n",
            ">>> df = df.resample(freq=\"3s\").mean()\n",
            ">>> df.index = df.index.to_timestamp() + to_offset(\"8H\")\n",
            "\n",
            "  import sys\n",
            "/usr/local/lib/python3.7/dist-packages/ipykernel_launcher.py:8: FutureWarning: 'loffset' in .resample() and in Grouper() is deprecated.\n",
            "\n",
            ">>> df.resample(freq=\"3s\", loffset=\"8H\")\n",
            "\n",
            "becomes:\n",
            "\n",
            ">>> from pandas.tseries.frequencies import to_offset\n",
            ">>> df = df.resample(freq=\"3s\").mean()\n",
            ">>> df.index = df.index.to_timestamp() + to_offset(\"8H\")\n",
            "\n",
            "  \n"
          ],
          "name": "stderr"
        }
      ]
    },
    {
      "cell_type": "code",
      "metadata": {
        "colab": {
          "base_uri": "https://localhost:8080/",
          "height": 437
        },
        "id": "uemwIuBtgkUY",
        "outputId": "f50b06ac-f2d6-4b8c-8d72-4286300e96eb"
      },
      "source": [
        "weekly_df.drop(weekly_df.tail(1).index, inplace=True)\n",
        "weekly_df"
      ],
      "execution_count": null,
      "outputs": [
        {
          "output_type": "execute_result",
          "data": {
            "text/html": [
              "<div>\n",
              "<style scoped>\n",
              "    .dataframe tbody tr th:only-of-type {\n",
              "        vertical-align: middle;\n",
              "    }\n",
              "\n",
              "    .dataframe tbody tr th {\n",
              "        vertical-align: top;\n",
              "    }\n",
              "\n",
              "    .dataframe thead th {\n",
              "        text-align: right;\n",
              "    }\n",
              "</style>\n",
              "<table border=\"1\" class=\"dataframe\">\n",
              "  <thead>\n",
              "    <tr style=\"text-align: right;\">\n",
              "      <th></th>\n",
              "      <th>Index</th>\n",
              "      <th>1M TBill Yield</th>\n",
              "      <th>RMRF</th>\n",
              "      <th>NTAP stock price</th>\n",
              "      <th>NTAP cont compounded return</th>\n",
              "      <th>index cont compounded return</th>\n",
              "    </tr>\n",
              "    <tr>\n",
              "      <th>Calendar Date</th>\n",
              "      <th></th>\n",
              "      <th></th>\n",
              "      <th></th>\n",
              "      <th></th>\n",
              "      <th></th>\n",
              "      <th></th>\n",
              "    </tr>\n",
              "  </thead>\n",
              "  <tbody>\n",
              "    <tr>\n",
              "      <th>2000-01-07</th>\n",
              "      <td>2898.10975</td>\n",
              "      <td>0.00084</td>\n",
              "      <td>-0.017916</td>\n",
              "      <td>31.733017</td>\n",
              "      <td>0.000000</td>\n",
              "      <td>-0.016814</td>\n",
              "    </tr>\n",
              "    <tr>\n",
              "      <th>2000-01-14</th>\n",
              "      <td>2984.29340</td>\n",
              "      <td>0.00105</td>\n",
              "      <td>0.020696</td>\n",
              "      <td>36.109767</td>\n",
              "      <td>0.097314</td>\n",
              "      <td>0.021613</td>\n",
              "    </tr>\n",
              "    <tr>\n",
              "      <th>2000-01-21</th>\n",
              "      <td>3026.85050</td>\n",
              "      <td>0.00084</td>\n",
              "      <td>0.000378</td>\n",
              "      <td>47.312686</td>\n",
              "      <td>0.223277</td>\n",
              "      <td>0.003606</td>\n",
              "    </tr>\n",
              "    <tr>\n",
              "      <th>2000-01-28</th>\n",
              "      <td>2939.70560</td>\n",
              "      <td>0.00105</td>\n",
              "      <td>-0.057084</td>\n",
              "      <td>42.872771</td>\n",
              "      <td>-0.166230</td>\n",
              "      <td>-0.056625</td>\n",
              "    </tr>\n",
              "    <tr>\n",
              "      <th>2000-02-04</th>\n",
              "      <td>2960.56700</td>\n",
              "      <td>0.00109</td>\n",
              "      <td>0.044559</td>\n",
              "      <td>46.523715</td>\n",
              "      <td>0.254530</td>\n",
              "      <td>0.046461</td>\n",
              "    </tr>\n",
              "    <tr>\n",
              "      <th>...</th>\n",
              "      <td>...</td>\n",
              "      <td>...</td>\n",
              "      <td>...</td>\n",
              "      <td>...</td>\n",
              "      <td>...</td>\n",
              "      <td>...</td>\n",
              "    </tr>\n",
              "    <tr>\n",
              "      <th>2019-11-29</th>\n",
              "      <td>9742.35925</td>\n",
              "      <td>0.00024</td>\n",
              "      <td>0.011301</td>\n",
              "      <td>57.772747</td>\n",
              "      <td>-0.010507</td>\n",
              "      <td>0.011270</td>\n",
              "    </tr>\n",
              "    <tr>\n",
              "      <th>2019-12-06</th>\n",
              "      <td>9665.89100</td>\n",
              "      <td>0.00035</td>\n",
              "      <td>0.000981</td>\n",
              "      <td>56.462633</td>\n",
              "      <td>0.007236</td>\n",
              "      <td>0.001099</td>\n",
              "    </tr>\n",
              "    <tr>\n",
              "      <th>2019-12-13</th>\n",
              "      <td>9765.07640</td>\n",
              "      <td>0.00035</td>\n",
              "      <td>0.007377</td>\n",
              "      <td>58.178553</td>\n",
              "      <td>0.035572</td>\n",
              "      <td>0.007124</td>\n",
              "    </tr>\n",
              "    <tr>\n",
              "      <th>2019-12-20</th>\n",
              "      <td>9922.33760</td>\n",
              "      <td>0.00035</td>\n",
              "      <td>0.017096</td>\n",
              "      <td>59.644744</td>\n",
              "      <td>-0.018674</td>\n",
              "      <td>0.016788</td>\n",
              "    </tr>\n",
              "    <tr>\n",
              "      <th>2019-12-27</th>\n",
              "      <td>10020.35725</td>\n",
              "      <td>0.00028</td>\n",
              "      <td>0.004899</td>\n",
              "      <td>59.028471</td>\n",
              "      <td>-0.010364</td>\n",
              "      <td>0.005264</td>\n",
              "    </tr>\n",
              "  </tbody>\n",
              "</table>\n",
              "<p>1043 rows × 6 columns</p>\n",
              "</div>"
            ],
            "text/plain": [
              "                     Index  ...  index cont compounded return\n",
              "Calendar Date               ...                              \n",
              "2000-01-07      2898.10975  ...                     -0.016814\n",
              "2000-01-14      2984.29340  ...                      0.021613\n",
              "2000-01-21      3026.85050  ...                      0.003606\n",
              "2000-01-28      2939.70560  ...                     -0.056625\n",
              "2000-02-04      2960.56700  ...                      0.046461\n",
              "...                    ...  ...                           ...\n",
              "2019-11-29      9742.35925  ...                      0.011270\n",
              "2019-12-06      9665.89100  ...                      0.001099\n",
              "2019-12-13      9765.07640  ...                      0.007124\n",
              "2019-12-20      9922.33760  ...                      0.016788\n",
              "2019-12-27     10020.35725  ...                      0.005264\n",
              "\n",
              "[1043 rows x 6 columns]"
            ]
          },
          "metadata": {
            "tags": []
          },
          "execution_count": 13
        }
      ]
    },
    {
      "cell_type": "code",
      "metadata": {
        "colab": {
          "base_uri": "https://localhost:8080/",
          "height": 138
        },
        "id": "yKJB7N7xhZ0_",
        "outputId": "601ea021-84c0-434c-eead-b49cb0228196"
      },
      "source": [
        "weekly_df.head(2)"
      ],
      "execution_count": null,
      "outputs": [
        {
          "output_type": "execute_result",
          "data": {
            "text/html": [
              "<div>\n",
              "<style scoped>\n",
              "    .dataframe tbody tr th:only-of-type {\n",
              "        vertical-align: middle;\n",
              "    }\n",
              "\n",
              "    .dataframe tbody tr th {\n",
              "        vertical-align: top;\n",
              "    }\n",
              "\n",
              "    .dataframe thead th {\n",
              "        text-align: right;\n",
              "    }\n",
              "</style>\n",
              "<table border=\"1\" class=\"dataframe\">\n",
              "  <thead>\n",
              "    <tr style=\"text-align: right;\">\n",
              "      <th></th>\n",
              "      <th>Index</th>\n",
              "      <th>1M TBill Yield</th>\n",
              "      <th>RMRF</th>\n",
              "      <th>NTAP stock price</th>\n",
              "      <th>NTAP cont compounded return</th>\n",
              "      <th>index cont compounded return</th>\n",
              "    </tr>\n",
              "    <tr>\n",
              "      <th>Calendar Date</th>\n",
              "      <th></th>\n",
              "      <th></th>\n",
              "      <th></th>\n",
              "      <th></th>\n",
              "      <th></th>\n",
              "      <th></th>\n",
              "    </tr>\n",
              "  </thead>\n",
              "  <tbody>\n",
              "    <tr>\n",
              "      <th>2000-01-07</th>\n",
              "      <td>2898.10975</td>\n",
              "      <td>0.00084</td>\n",
              "      <td>-0.017916</td>\n",
              "      <td>31.733017</td>\n",
              "      <td>0.000000</td>\n",
              "      <td>-0.016814</td>\n",
              "    </tr>\n",
              "    <tr>\n",
              "      <th>2000-01-14</th>\n",
              "      <td>2984.29340</td>\n",
              "      <td>0.00105</td>\n",
              "      <td>0.020696</td>\n",
              "      <td>36.109767</td>\n",
              "      <td>0.097314</td>\n",
              "      <td>0.021613</td>\n",
              "    </tr>\n",
              "  </tbody>\n",
              "</table>\n",
              "</div>"
            ],
            "text/plain": [
              "                    Index  ...  index cont compounded return\n",
              "Calendar Date              ...                              \n",
              "2000-01-07     2898.10975  ...                     -0.016814\n",
              "2000-01-14     2984.29340  ...                      0.021613\n",
              "\n",
              "[2 rows x 6 columns]"
            ]
          },
          "metadata": {
            "tags": []
          },
          "execution_count": 15
        }
      ]
    },
    {
      "cell_type": "code",
      "metadata": {
        "colab": {
          "base_uri": "https://localhost:8080/"
        },
        "id": "zjceo9uqh6Hy",
        "outputId": "65d3533a-70da-4cb7-872d-00d76e867ddd"
      },
      "source": [
        "print(weekly_df['NTAP cont compounded return'].describe())\n",
        "print('NTAP cont compounded return skewness: {}'.format(weekly_df['NTAP cont compounded return'].skew()))\n",
        "print('NTAP cont compounded return excess kurtosis: {}'.format(weekly_df['NTAP cont compounded return'].kurtosis()))"
      ],
      "execution_count": null,
      "outputs": [
        {
          "output_type": "stream",
          "text": [
            "count    1043.000000\n",
            "mean        0.000484\n",
            "std         0.077085\n",
            "min        -0.461750\n",
            "25%        -0.031434\n",
            "50%         0.002850\n",
            "75%         0.035061\n",
            "max         0.480235\n",
            "Name: NTAP cont compounded return, dtype: float64\n",
            "NTAP cont compounded return skewness: -0.09548795354296993\n",
            "NTAP cont compounded return excess kurtosis: 5.3793990159691205\n"
          ],
          "name": "stdout"
        }
      ]
    },
    {
      "cell_type": "code",
      "metadata": {
        "colab": {
          "base_uri": "https://localhost:8080/"
        },
        "id": "Vi4-BE3Mdglv",
        "outputId": "ad0e2c0f-0c9b-428c-f489-5834d6494830"
      },
      "source": [
        "print(weekly_df['index cont compounded return'].describe())\n",
        "print('index cont compounded return skewness: {}'.format(weekly_df['index cont compounded return'].skew()))\n",
        "print('index cont compounded return excess kurtosis: {}'.format(weekly_df['index cont compounded return'].kurtosis()))"
      ],
      "execution_count": null,
      "outputs": [
        {
          "output_type": "stream",
          "text": [
            "count    1043.000000\n",
            "mean        0.001156\n",
            "std         0.024861\n",
            "min        -0.203254\n",
            "25%        -0.010326\n",
            "50%         0.002864\n",
            "75%         0.014728\n",
            "max         0.122622\n",
            "Name: index cont compounded return, dtype: float64\n",
            "index cont compounded return skewness: -0.9770045896347991\n",
            "index cont compounded return excess kurtosis: 7.828976510797274\n"
          ],
          "name": "stdout"
        }
      ]
    },
    {
      "cell_type": "code",
      "metadata": {
        "colab": {
          "base_uri": "https://localhost:8080/"
        },
        "id": "2BQPiQqIdsYL",
        "outputId": "05c7f149-ed80-4c8a-91dd-84f0c43faff7"
      },
      "source": [
        "print(weekly_df['1M TBill Yield'].describe())\n",
        "print('1M TBill Yield skewness: {}'.format(weekly_df['1M TBill Yield'].skew()))\n",
        "print('1M TBill Yield excess kurtosis: {}'.format(weekly_df['1M TBill Yield'].kurtosis()))"
      ],
      "execution_count": null,
      "outputs": [
        {
          "output_type": "stream",
          "text": [
            "count    1043.000000\n",
            "mean        0.000310\n",
            "std         0.000349\n",
            "min         0.000000\n",
            "25%         0.000000\n",
            "50%         0.000200\n",
            "75%         0.000450\n",
            "max         0.001301\n",
            "Name: 1M TBill Yield, dtype: float64\n",
            "1M TBill Yield skewness: 1.070812929985293\n",
            "1M TBill Yield excess kurtosis: 0.03675808332309094\n"
          ],
          "name": "stdout"
        }
      ]
    },
    {
      "cell_type": "code",
      "metadata": {
        "id": "_46xyw-ViDsp"
      },
      "source": [
        ""
      ],
      "execution_count": null,
      "outputs": []
    },
    {
      "cell_type": "markdown",
      "metadata": {
        "id": "yLeit55hrOuP"
      },
      "source": [
        "## Part I Normality:\n"
      ]
    },
    {
      "cell_type": "code",
      "metadata": {
        "colab": {
          "base_uri": "https://localhost:8080/",
          "height": 493
        },
        "id": "YgMeTIUPrR7_",
        "outputId": "77a5e819-90b5-444a-9f68-b63630ec6418"
      },
      "source": [
        "fig, (ax1, ax2) = plt.subplots(1, 2, figsize=(15, 7))\n",
        "fig.suptitle('Diagnostic plot for NTAP continuously compounded weekly returns')\n",
        "ax1.hist(weekly_df['NTAP cont compounded return'], bins=85)\n",
        "ax1.set_title(\"Histogram for NTAP continuously compounded weekly returns \")\n",
        "ax1.set_xlabel('Data')\n",
        "ax1.set_ylabel('Frequency')\n",
        "\n",
        "fig.ax2 = stats.probplot(weekly_df['NTAP cont compounded return'], dist='norm', plot=plt)"
      ],
      "execution_count": null,
      "outputs": [
        {
          "output_type": "display_data",
          "data": {
            "image/png": "[encoded data removed]",
            "text/plain": [
              "<Figure size 1080x504 with 2 Axes>"
            ]
          },
          "metadata": {
            "tags": [],
            "needs_background": "light"
          }
        }
      ]
    },
    {
      "cell_type": "code",
      "metadata": {
        "colab": {
          "base_uri": "https://localhost:8080/",
          "height": 493
        },
        "id": "XAfsxyQnrjmK",
        "outputId": "bccdd09a-0257-4929-8d9e-74c645b42dbf"
      },
      "source": [
        "fig, (ax1, ax2) = plt.subplots(1, 2, figsize=(15, 7))\n",
        "fig.suptitle('Diagnostic plot for Index continuously compounded weekly returns')\n",
        "ax1.hist(weekly_df['index cont compounded return'], bins=85)\n",
        "ax1.set_title(\"Histogram for Index continuously compounded weekly returns \")\n",
        "ax1.set_xlabel('Data')\n",
        "ax1.set_ylabel('Frequency')\n",
        "fig.ax2 = stats.probplot(weekly_df['index cont compounded return'], dist='norm', plot=plt)"
      ],
      "execution_count": null,
      "outputs": [
        {
          "output_type": "display_data",
          "data": {
            "image/png": "[encoded data removed]",
            "text/plain": [
              "<Figure size 1080x504 with 2 Axes>"
            ]
          },
          "metadata": {
            "tags": [],
            "needs_background": "light"
          }
        }
      ]
    },
    {
      "cell_type": "code",
      "metadata": {
        "colab": {
          "base_uri": "https://localhost:8080/"
        },
        "id": "1qULy-MHsFTJ",
        "outputId": "d35ab7cf-ae25-419b-a21f-3c35b9cd2aaf"
      },
      "source": [
        "## Applying JB test for NTAP returns: \n",
        "jarque_bera_test_equity = stats.jarque_bera(weekly_df['NTAP cont compounded return'])\n",
        "jarque_bera_test_equity\n",
        "\n",
        "# Output: in the output, first stat is test statistic for the hypothesis test and the second stat is the p-value for the hypothesis test"
      ],
      "execution_count": null,
      "outputs": [
        {
          "output_type": "execute_result",
          "data": {
            "text/plain": [
              "(1244.4895190573302, 0.0)"
            ]
          },
          "metadata": {
            "tags": []
          },
          "execution_count": 22
        }
      ]
    },
    {
      "cell_type": "code",
      "metadata": {
        "colab": {
          "base_uri": "https://localhost:8080/"
        },
        "id": "FdgeeGlMsrQw",
        "outputId": "45cf05bb-4fed-4e84-9556-1692b5f47fba"
      },
      "source": [
        "## Applying JB test for index returns: \n",
        "jarque_bera_test_index = stats.jarque_bera(weekly_df['index cont compounded return'])\n",
        "jarque_bera_test_index\n",
        "# Output: in the output, first stat is test statistic for the hypothesis test and the second stat is the p-value for the hypothesis test"
      ],
      "execution_count": null,
      "outputs": [
        {
          "output_type": "execute_result",
          "data": {
            "text/plain": [
              "(2799.8055442484265, 0.0)"
            ]
          },
          "metadata": {
            "tags": []
          },
          "execution_count": 23
        }
      ]
    },
    {
      "cell_type": "code",
      "metadata": {
        "colab": {
          "base_uri": "https://localhost:8080/"
        },
        "id": "iBLCfbfGyjHr",
        "outputId": "234432ce-4b9b-4dc1-8ad6-38cf505b1a2a"
      },
      "source": [
        "stattools.jarque_bera(weekly_df['NTAP cont compounded return'])"
      ],
      "execution_count": null,
      "outputs": [
        {
          "output_type": "execute_result",
          "data": {
            "text/plain": [
              "(1244.4895190573302,\n",
              " 5.788080245110699e-271,\n",
              " -0.09535057177089173,\n",
              " 8.347898374266267)"
            ]
          },
          "metadata": {
            "tags": []
          },
          "execution_count": 24
        }
      ]
    },
    {
      "cell_type": "code",
      "metadata": {
        "colab": {
          "base_uri": "https://localhost:8080/"
        },
        "id": "VfUxxfQKy6Pb",
        "outputId": "47428c7d-5bbf-4132-b939-d638b4485e3f"
      },
      "source": [
        "stattools.jarque_bera(weekly_df['index cont compounded return'])"
      ],
      "execution_count": null,
      "outputs": [
        {
          "output_type": "execute_result",
          "data": {
            "text/plain": [
              "(2799.8055442484265, 0.0, -0.9755989398447223, 10.785748679640502)"
            ]
          },
          "metadata": {
            "tags": []
          },
          "execution_count": 25
        }
      ]
    },
    {
      "cell_type": "code",
      "metadata": {
        "id": "bsPRR-Bf6Sm_"
      },
      "source": [
        ""
      ],
      "execution_count": null,
      "outputs": []
    },
    {
      "cell_type": "markdown",
      "metadata": {
        "id": "2ZtcYzJMF3zy"
      },
      "source": [
        "## Part II CAPM "
      ]
    },
    {
      "cell_type": "code",
      "metadata": {
        "id": "Iz96RDZHF68p"
      },
      "source": [
        "# calculate asset excess return:\n",
        "weekly_df['asset excess return'] = weekly_df['NTAP cont compounded return'] - weekly_df['1M TBill Yield']"
      ],
      "execution_count": null,
      "outputs": []
    },
    {
      "cell_type": "code",
      "metadata": {
        "colab": {
          "base_uri": "https://localhost:8080/",
          "height": 228
        },
        "id": "QmSMGPK8GtCt",
        "outputId": "9a8cbcf3-7559-41f2-e263-b61e56452b77"
      },
      "source": [
        "weekly_df.head()"
      ],
      "execution_count": null,
      "outputs": [
        {
          "output_type": "execute_result",
          "data": {
            "text/html": [
              "<div>\n",
              "<style scoped>\n",
              "    .dataframe tbody tr th:only-of-type {\n",
              "        vertical-align: middle;\n",
              "    }\n",
              "\n",
              "    .dataframe tbody tr th {\n",
              "        vertical-align: top;\n",
              "    }\n",
              "\n",
              "    .dataframe thead th {\n",
              "        text-align: right;\n",
              "    }\n",
              "</style>\n",
              "<table border=\"1\" class=\"dataframe\">\n",
              "  <thead>\n",
              "    <tr style=\"text-align: right;\">\n",
              "      <th></th>\n",
              "      <th>Index</th>\n",
              "      <th>1M TBill Yield</th>\n",
              "      <th>RMRF</th>\n",
              "      <th>NTAP stock price</th>\n",
              "      <th>NTAP cont compounded return</th>\n",
              "      <th>index cont compounded return</th>\n",
              "      <th>asset excess return</th>\n",
              "    </tr>\n",
              "    <tr>\n",
              "      <th>Calendar Date</th>\n",
              "      <th></th>\n",
              "      <th></th>\n",
              "      <th></th>\n",
              "      <th></th>\n",
              "      <th></th>\n",
              "      <th></th>\n",
              "      <th></th>\n",
              "    </tr>\n",
              "  </thead>\n",
              "  <tbody>\n",
              "    <tr>\n",
              "      <th>2000-01-07</th>\n",
              "      <td>2898.10975</td>\n",
              "      <td>0.00084</td>\n",
              "      <td>-0.017916</td>\n",
              "      <td>31.733017</td>\n",
              "      <td>0.000000</td>\n",
              "      <td>-0.016814</td>\n",
              "      <td>-0.000840</td>\n",
              "    </tr>\n",
              "    <tr>\n",
              "      <th>2000-01-14</th>\n",
              "      <td>2984.29340</td>\n",
              "      <td>0.00105</td>\n",
              "      <td>0.020696</td>\n",
              "      <td>36.109767</td>\n",
              "      <td>0.097314</td>\n",
              "      <td>0.021613</td>\n",
              "      <td>0.096263</td>\n",
              "    </tr>\n",
              "    <tr>\n",
              "      <th>2000-01-21</th>\n",
              "      <td>3026.85050</td>\n",
              "      <td>0.00084</td>\n",
              "      <td>0.000378</td>\n",
              "      <td>47.312686</td>\n",
              "      <td>0.223277</td>\n",
              "      <td>0.003606</td>\n",
              "      <td>0.222436</td>\n",
              "    </tr>\n",
              "    <tr>\n",
              "      <th>2000-01-28</th>\n",
              "      <td>2939.70560</td>\n",
              "      <td>0.00105</td>\n",
              "      <td>-0.057084</td>\n",
              "      <td>42.872771</td>\n",
              "      <td>-0.166230</td>\n",
              "      <td>-0.056625</td>\n",
              "      <td>-0.167280</td>\n",
              "    </tr>\n",
              "    <tr>\n",
              "      <th>2000-02-04</th>\n",
              "      <td>2960.56700</td>\n",
              "      <td>0.00109</td>\n",
              "      <td>0.044559</td>\n",
              "      <td>46.523715</td>\n",
              "      <td>0.254530</td>\n",
              "      <td>0.046461</td>\n",
              "      <td>0.253439</td>\n",
              "    </tr>\n",
              "  </tbody>\n",
              "</table>\n",
              "</div>"
            ],
            "text/plain": [
              "                    Index  ...  asset excess return\n",
              "Calendar Date              ...                     \n",
              "2000-01-07     2898.10975  ...            -0.000840\n",
              "2000-01-14     2984.29340  ...             0.096263\n",
              "2000-01-21     3026.85050  ...             0.222436\n",
              "2000-01-28     2939.70560  ...            -0.167280\n",
              "2000-02-04     2960.56700  ...             0.253439\n",
              "\n",
              "[5 rows x 7 columns]"
            ]
          },
          "metadata": {
            "tags": []
          },
          "execution_count": 27
        }
      ]
    },
    {
      "cell_type": "code",
      "metadata": {
        "id": "E5FbYY5uGuh3"
      },
      "source": [
        "# preparing data to input it into the modeL: \n",
        "X = weekly_df['RMRF']\n",
        "y = weekly_df['asset excess return']\n",
        "# adding constant for the regression analysis\n",
        "X = sm.add_constant(X)"
      ],
      "execution_count": null,
      "outputs": []
    },
    {
      "cell_type": "code",
      "metadata": {
        "colab": {
          "base_uri": "https://localhost:8080/",
          "height": 444
        },
        "id": "zV2T6FFNHjv-",
        "outputId": "31621cc0-0ae0-4ccb-c78e-42df49f1a594"
      },
      "source": [
        "\n",
        "# Creating model object\n",
        "capm = sm.OLS(y,X)\n",
        "results = capm.fit()\n",
        "results.summary()"
      ],
      "execution_count": null,
      "outputs": [
        {
          "output_type": "execute_result",
          "data": {
            "text/html": [
              "<table class=\"simpletable\">\n",
              "<caption>OLS Regression Results</caption>\n",
              "<tr>\n",
              "  <th>Dep. Variable:</th>    <td>asset excess return</td> <th>  R-squared:         </th> <td>   0.292</td>\n",
              "</tr>\n",
              "<tr>\n",
              "  <th>Model:</th>                    <td>OLS</td>         <th>  Adj. R-squared:    </th> <td>   0.291</td>\n",
              "</tr>\n",
              "<tr>\n",
              "  <th>Method:</th>              <td>Least Squares</td>    <th>  F-statistic:       </th> <td>   428.8</td>\n",
              "</tr>\n",
              "<tr>\n",
              "  <th>Date:</th>              <td>Sun, 18 Apr 2021</td>   <th>  Prob (F-statistic):</th> <td>4.81e-80</td>\n",
              "</tr>\n",
              "<tr>\n",
              "  <th>Time:</th>                  <td>17:41:04</td>       <th>  Log-Likelihood:    </th> <td>  1373.2</td>\n",
              "</tr>\n",
              "<tr>\n",
              "  <th>No. Observations:</th>       <td>  1043</td>        <th>  AIC:               </th> <td>  -2742.</td>\n",
              "</tr>\n",
              "<tr>\n",
              "  <th>Df Residuals:</th>           <td>  1041</td>        <th>  BIC:               </th> <td>  -2733.</td>\n",
              "</tr>\n",
              "<tr>\n",
              "  <th>Df Model:</th>               <td>     1</td>        <th>                     </th>     <td> </td>   \n",
              "</tr>\n",
              "<tr>\n",
              "  <th>Covariance Type:</th>       <td>nonrobust</td>      <th>                     </th>     <td> </td>   \n",
              "</tr>\n",
              "</table>\n",
              "<table class=\"simpletable\">\n",
              "<tr>\n",
              "    <td></td>       <th>coef</th>     <th>std err</th>      <th>t</th>      <th>P>|t|</th>  <th>[0.025</th>    <th>0.975]</th>  \n",
              "</tr>\n",
              "<tr>\n",
              "  <th>const</th> <td>   -0.0018</td> <td>    0.002</td> <td>   -0.909</td> <td> 0.364</td> <td>   -0.006</td> <td>    0.002</td>\n",
              "</tr>\n",
              "<tr>\n",
              "  <th>RMRF</th>  <td>    1.6922</td> <td>    0.082</td> <td>   20.708</td> <td> 0.000</td> <td>    1.532</td> <td>    1.853</td>\n",
              "</tr>\n",
              "</table>\n",
              "<table class=\"simpletable\">\n",
              "<tr>\n",
              "  <th>Omnibus:</th>       <td>126.039</td> <th>  Durbin-Watson:     </th> <td>   2.038</td> \n",
              "</tr>\n",
              "<tr>\n",
              "  <th>Prob(Omnibus):</th> <td> 0.000</td>  <th>  Jarque-Bera (JB):  </th> <td>1165.722</td> \n",
              "</tr>\n",
              "<tr>\n",
              "  <th>Skew:</th>          <td> 0.056</td>  <th>  Prob(JB):          </th> <td>7.36e-254</td>\n",
              "</tr>\n",
              "<tr>\n",
              "  <th>Kurtosis:</th>      <td> 8.178</td>  <th>  Cond. No.          </th> <td>    40.7</td> \n",
              "</tr>\n",
              "</table><br/><br/>Warnings:<br/>[1] Standard Errors assume that the covariance matrix of the errors is correctly specified."
            ],
            "text/plain": [
              "<class 'statsmodels.iolib.summary.Summary'>\n",
              "\"\"\"\n",
              "                             OLS Regression Results                            \n",
              "===============================================================================\n",
              "Dep. Variable:     asset excess return   R-squared:                       0.292\n",
              "Model:                             OLS   Adj. R-squared:                  0.291\n",
              "Method:                  Least Squares   F-statistic:                     428.8\n",
              "Date:                 Sun, 18 Apr 2021   Prob (F-statistic):           4.81e-80\n",
              "Time:                         17:41:04   Log-Likelihood:                 1373.2\n",
              "No. Observations:                 1043   AIC:                            -2742.\n",
              "Df Residuals:                     1041   BIC:                            -2733.\n",
              "Df Model:                            1                                         \n",
              "Covariance Type:             nonrobust                                         \n",
              "==============================================================================\n",
              "                 coef    std err          t      P>|t|      [0.025      0.975]\n",
              "------------------------------------------------------------------------------\n",
              "const         -0.0018      0.002     -0.909      0.364      -0.006       0.002\n",
              "RMRF           1.6922      0.082     20.708      0.000       1.532       1.853\n",
              "==============================================================================\n",
              "Omnibus:                      126.039   Durbin-Watson:                   2.038\n",
              "Prob(Omnibus):                  0.000   Jarque-Bera (JB):             1165.722\n",
              "Skew:                           0.056   Prob(JB):                    7.36e-254\n",
              "Kurtosis:                       8.178   Cond. No.                         40.7\n",
              "==============================================================================\n",
              "\n",
              "Warnings:\n",
              "[1] Standard Errors assume that the covariance matrix of the errors is correctly specified.\n",
              "\"\"\""
            ]
          },
          "metadata": {
            "tags": []
          },
          "execution_count": 29
        }
      ]
    },
    {
      "cell_type": "code",
      "metadata": {
        "id": "NzoFi7lhH8TA",
        "colab": {
          "base_uri": "https://localhost:8080/",
          "height": 437
        },
        "outputId": "2fdbde91-e1de-4411-830d-4bbf35c5b007"
      },
      "source": [
        "weekly_df"
      ],
      "execution_count": null,
      "outputs": [
        {
          "output_type": "execute_result",
          "data": {
            "text/html": [
              "<div>\n",
              "<style scoped>\n",
              "    .dataframe tbody tr th:only-of-type {\n",
              "        vertical-align: middle;\n",
              "    }\n",
              "\n",
              "    .dataframe tbody tr th {\n",
              "        vertical-align: top;\n",
              "    }\n",
              "\n",
              "    .dataframe thead th {\n",
              "        text-align: right;\n",
              "    }\n",
              "</style>\n",
              "<table border=\"1\" class=\"dataframe\">\n",
              "  <thead>\n",
              "    <tr style=\"text-align: right;\">\n",
              "      <th></th>\n",
              "      <th>Index</th>\n",
              "      <th>1M TBill Yield</th>\n",
              "      <th>RMRF</th>\n",
              "      <th>NTAP stock price</th>\n",
              "      <th>NTAP cont compounded return</th>\n",
              "      <th>index cont compounded return</th>\n",
              "      <th>asset excess return</th>\n",
              "    </tr>\n",
              "    <tr>\n",
              "      <th>Calendar Date</th>\n",
              "      <th></th>\n",
              "      <th></th>\n",
              "      <th></th>\n",
              "      <th></th>\n",
              "      <th></th>\n",
              "      <th></th>\n",
              "      <th></th>\n",
              "    </tr>\n",
              "  </thead>\n",
              "  <tbody>\n",
              "    <tr>\n",
              "      <th>2000-01-07</th>\n",
              "      <td>2898.10975</td>\n",
              "      <td>0.00084</td>\n",
              "      <td>-0.017916</td>\n",
              "      <td>31.733017</td>\n",
              "      <td>0.000000</td>\n",
              "      <td>-0.016814</td>\n",
              "      <td>-0.000840</td>\n",
              "    </tr>\n",
              "    <tr>\n",
              "      <th>2000-01-14</th>\n",
              "      <td>2984.29340</td>\n",
              "      <td>0.00105</td>\n",
              "      <td>0.020696</td>\n",
              "      <td>36.109767</td>\n",
              "      <td>0.097314</td>\n",
              "      <td>0.021613</td>\n",
              "      <td>0.096263</td>\n",
              "    </tr>\n",
              "    <tr>\n",
              "      <th>2000-01-21</th>\n",
              "      <td>3026.85050</td>\n",
              "      <td>0.00084</td>\n",
              "      <td>0.000378</td>\n",
              "      <td>47.312686</td>\n",
              "      <td>0.223277</td>\n",
              "      <td>0.003606</td>\n",
              "      <td>0.222436</td>\n",
              "    </tr>\n",
              "    <tr>\n",
              "      <th>2000-01-28</th>\n",
              "      <td>2939.70560</td>\n",
              "      <td>0.00105</td>\n",
              "      <td>-0.057084</td>\n",
              "      <td>42.872771</td>\n",
              "      <td>-0.166230</td>\n",
              "      <td>-0.056625</td>\n",
              "      <td>-0.167280</td>\n",
              "    </tr>\n",
              "    <tr>\n",
              "      <th>2000-02-04</th>\n",
              "      <td>2960.56700</td>\n",
              "      <td>0.00109</td>\n",
              "      <td>0.044559</td>\n",
              "      <td>46.523715</td>\n",
              "      <td>0.254530</td>\n",
              "      <td>0.046461</td>\n",
              "      <td>0.253439</td>\n",
              "    </tr>\n",
              "    <tr>\n",
              "      <th>...</th>\n",
              "      <td>...</td>\n",
              "      <td>...</td>\n",
              "      <td>...</td>\n",
              "      <td>...</td>\n",
              "      <td>...</td>\n",
              "      <td>...</td>\n",
              "      <td>...</td>\n",
              "    </tr>\n",
              "    <tr>\n",
              "      <th>2019-11-29</th>\n",
              "      <td>9742.35925</td>\n",
              "      <td>0.00024</td>\n",
              "      <td>0.011301</td>\n",
              "      <td>57.772747</td>\n",
              "      <td>-0.010507</td>\n",
              "      <td>0.011270</td>\n",
              "      <td>-0.010747</td>\n",
              "    </tr>\n",
              "    <tr>\n",
              "      <th>2019-12-06</th>\n",
              "      <td>9665.89100</td>\n",
              "      <td>0.00035</td>\n",
              "      <td>0.000981</td>\n",
              "      <td>56.462633</td>\n",
              "      <td>0.007236</td>\n",
              "      <td>0.001099</td>\n",
              "      <td>0.006886</td>\n",
              "    </tr>\n",
              "    <tr>\n",
              "      <th>2019-12-13</th>\n",
              "      <td>9765.07640</td>\n",
              "      <td>0.00035</td>\n",
              "      <td>0.007377</td>\n",
              "      <td>58.178553</td>\n",
              "      <td>0.035572</td>\n",
              "      <td>0.007124</td>\n",
              "      <td>0.035222</td>\n",
              "    </tr>\n",
              "    <tr>\n",
              "      <th>2019-12-20</th>\n",
              "      <td>9922.33760</td>\n",
              "      <td>0.00035</td>\n",
              "      <td>0.017096</td>\n",
              "      <td>59.644744</td>\n",
              "      <td>-0.018674</td>\n",
              "      <td>0.016788</td>\n",
              "      <td>-0.019024</td>\n",
              "    </tr>\n",
              "    <tr>\n",
              "      <th>2019-12-27</th>\n",
              "      <td>10020.35725</td>\n",
              "      <td>0.00028</td>\n",
              "      <td>0.004899</td>\n",
              "      <td>59.028471</td>\n",
              "      <td>-0.010364</td>\n",
              "      <td>0.005264</td>\n",
              "      <td>-0.010644</td>\n",
              "    </tr>\n",
              "  </tbody>\n",
              "</table>\n",
              "<p>1043 rows × 7 columns</p>\n",
              "</div>"
            ],
            "text/plain": [
              "                     Index  ...  asset excess return\n",
              "Calendar Date               ...                     \n",
              "2000-01-07      2898.10975  ...            -0.000840\n",
              "2000-01-14      2984.29340  ...             0.096263\n",
              "2000-01-21      3026.85050  ...             0.222436\n",
              "2000-01-28      2939.70560  ...            -0.167280\n",
              "2000-02-04      2960.56700  ...             0.253439\n",
              "...                    ...  ...                  ...\n",
              "2019-11-29      9742.35925  ...            -0.010747\n",
              "2019-12-06      9665.89100  ...             0.006886\n",
              "2019-12-13      9765.07640  ...             0.035222\n",
              "2019-12-20      9922.33760  ...            -0.019024\n",
              "2019-12-27     10020.35725  ...            -0.010644\n",
              "\n",
              "[1043 rows x 7 columns]"
            ]
          },
          "metadata": {
            "tags": []
          },
          "execution_count": 30
        }
      ]
    },
    {
      "cell_type": "code",
      "metadata": {
        "id": "0-1L8MgPEP2i"
      },
      "source": [
        ""
      ],
      "execution_count": null,
      "outputs": []
    },
    {
      "cell_type": "markdown",
      "metadata": {
        "id": "ZpjizfGSFokp"
      },
      "source": [
        "## Part III Chow test and predictive failure test:"
      ]
    },
    {
      "cell_type": "code",
      "metadata": {
        "id": "uH6BXk2fFs9Q"
      },
      "source": [
        "# Model 1 (before 2008):\n",
        "weekly_df_before_2008 = weekly_df.loc[:'2007-12-31']\n",
        "# preparing data to input it into the modeL: \n",
        "X_before_2008 = weekly_df_before_2008['RMRF']\n",
        "y_before_2008 = weekly_df_before_2008['asset excess return']\n",
        "# adding constant for the regression analysis\n",
        "X_before_2008 = sm.add_constant(X_before_2008)"
      ],
      "execution_count": null,
      "outputs": []
    },
    {
      "cell_type": "code",
      "metadata": {
        "colab": {
          "base_uri": "https://localhost:8080/"
        },
        "id": "YPO-CRF-ILeK",
        "outputId": "7fa5cbd4-37fe-4c3c-98ee-cec80f0ba7b1"
      },
      "source": [
        "# Creating model object\n",
        "capm_before_2008 = sm.OLS(y_before_2008,X_before_2008)\n",
        "results_before_2008 = capm_before_2008.fit()\n",
        "# Deriving RSS for model 1:\n",
        "RSS_before_2008 = sum(results_before_2008.resid**2)\n",
        "print(RSS_before_2008)"
      ],
      "execution_count": null,
      "outputs": [
        {
          "output_type": "stream",
          "text": [
            "3.1773355839429653\n"
          ],
          "name": "stdout"
        }
      ]
    },
    {
      "cell_type": "code",
      "metadata": {
        "id": "P6YIluECHZvB"
      },
      "source": [
        "# Creating model object for subset #2\n",
        "weekly_df_after_2008 = weekly_df.loc['2008-01-01':]\n",
        "# preparing data to input it into the modeL: \n",
        "X_after_2008 = weekly_df_after_2008['RMRF']\n",
        "y_after_2008 = weekly_df_after_2008['asset excess return']\n",
        "# adding constant for the regression analysis\n",
        "X_after_2008 = sm.add_constant(X_after_2008)"
      ],
      "execution_count": null,
      "outputs": []
    },
    {
      "cell_type": "code",
      "metadata": {
        "colab": {
          "base_uri": "https://localhost:8080/"
        },
        "id": "Ex2o5kImJrA8",
        "outputId": "3e04ea72-0f41-42ae-e39a-6eec076ee9e8"
      },
      "source": [
        "# Creating model object\n",
        "capm_after_2008 = sm.OLS(y_after_2008,X_after_2008)\n",
        "results_after_2008 = capm_after_2008.fit()\n",
        "# Deriving RSS for model 1:\n",
        "RSS_after_2008 = sum(results_after_2008.resid**2)\n",
        "print(RSS_after_2008)"
      ],
      "execution_count": null,
      "outputs": [
        {
          "output_type": "stream",
          "text": [
            "0.9260380310124026\n"
          ],
          "name": "stdout"
        }
      ]
    },
    {
      "cell_type": "code",
      "metadata": {
        "colab": {
          "base_uri": "https://localhost:8080/"
        },
        "id": "eAgnQUEYKwke",
        "outputId": "89fb2d46-aae5-406b-e3b0-6c9db5980bda"
      },
      "source": [
        "# Deriving RSS for the whole model:\n",
        "RSS_total_model = sum(results.resid**2)\n",
        "print(RSS_total_model)"
      ],
      "execution_count": null,
      "outputs": [
        {
          "output_type": "stream",
          "text": [
            "4.387543713254204\n"
          ],
          "name": "stdout"
        }
      ]
    },
    {
      "cell_type": "code",
      "metadata": {
        "colab": {
          "base_uri": "https://localhost:8080/"
        },
        "id": "J01DsuTYLJMl",
        "outputId": "1d5ab9d6-8138-476f-b5c5-b71af62d6baf"
      },
      "source": [
        "# Deriving the test statistic for Chow test:\n",
        "chow_test_stat = ((RSS_total_model - (RSS_before_2008 + RSS_after_2008))/(RSS_before_2008 + RSS_after_2008))*((len(weekly_df) - 4)/2)\n",
        "print('Chow test statistic is: {}'.format(chow_test_stat))"
      ],
      "execution_count": null,
      "outputs": [
        {
          "output_type": "stream",
          "text": [
            "Chow test statistic is: 35.97682782971522\n"
          ],
          "name": "stdout"
        }
      ]
    },
    {
      "cell_type": "code",
      "metadata": {
        "colab": {
          "base_uri": "https://localhost:8080/"
        },
        "id": "aGpgKfS-Lru5",
        "outputId": "2a523612-1352-4bcb-901e-3d9bfd09e952"
      },
      "source": [
        "# Calculating the test stat for Predictive Failure test:\n",
        "predictive_failure_test_stat = ((RSS_total_model - RSS_before_2008)/RSS_before_2008)*((len(weekly_df_before_2008) - 2)/(len(weekly_df) - len(weekly_df_before_2008)))\n",
        "print('Failure predictive test stat is: {}'.format(predictive_failure_test_stat))"
      ],
      "execution_count": null,
      "outputs": [
        {
          "output_type": "stream",
          "text": [
            "Failure predictive test stat is: 0.2525054421933141\n"
          ],
          "name": "stdout"
        }
      ]
    },
    {
      "cell_type": "code",
      "metadata": {
        "colab": {
          "base_uri": "https://localhost:8080/",
          "height": 138
        },
        "id": "NbmCFW9SLsqK",
        "outputId": "472c0124-fd07-41f4-842c-76bfba28cbc3"
      },
      "source": [
        "weekly_df.head(2)"
      ],
      "execution_count": null,
      "outputs": [
        {
          "output_type": "execute_result",
          "data": {
            "text/html": [
              "<div>\n",
              "<style scoped>\n",
              "    .dataframe tbody tr th:only-of-type {\n",
              "        vertical-align: middle;\n",
              "    }\n",
              "\n",
              "    .dataframe tbody tr th {\n",
              "        vertical-align: top;\n",
              "    }\n",
              "\n",
              "    .dataframe thead th {\n",
              "        text-align: right;\n",
              "    }\n",
              "</style>\n",
              "<table border=\"1\" class=\"dataframe\">\n",
              "  <thead>\n",
              "    <tr style=\"text-align: right;\">\n",
              "      <th></th>\n",
              "      <th>Index</th>\n",
              "      <th>1M TBill Yield</th>\n",
              "      <th>RMRF</th>\n",
              "      <th>NTAP stock price</th>\n",
              "      <th>NTAP cont compounded return</th>\n",
              "      <th>index cont compounded return</th>\n",
              "      <th>asset excess return</th>\n",
              "    </tr>\n",
              "    <tr>\n",
              "      <th>Calendar Date</th>\n",
              "      <th></th>\n",
              "      <th></th>\n",
              "      <th></th>\n",
              "      <th></th>\n",
              "      <th></th>\n",
              "      <th></th>\n",
              "      <th></th>\n",
              "    </tr>\n",
              "  </thead>\n",
              "  <tbody>\n",
              "    <tr>\n",
              "      <th>2000-01-07</th>\n",
              "      <td>2898.10975</td>\n",
              "      <td>0.00084</td>\n",
              "      <td>-0.017916</td>\n",
              "      <td>31.733017</td>\n",
              "      <td>0.000000</td>\n",
              "      <td>-0.016814</td>\n",
              "      <td>-0.000840</td>\n",
              "    </tr>\n",
              "    <tr>\n",
              "      <th>2000-01-14</th>\n",
              "      <td>2984.29340</td>\n",
              "      <td>0.00105</td>\n",
              "      <td>0.020696</td>\n",
              "      <td>36.109767</td>\n",
              "      <td>0.097314</td>\n",
              "      <td>0.021613</td>\n",
              "      <td>0.096263</td>\n",
              "    </tr>\n",
              "  </tbody>\n",
              "</table>\n",
              "</div>"
            ],
            "text/plain": [
              "                    Index  ...  asset excess return\n",
              "Calendar Date              ...                     \n",
              "2000-01-07     2898.10975  ...            -0.000840\n",
              "2000-01-14     2984.29340  ...             0.096263\n",
              "\n",
              "[2 rows x 7 columns]"
            ]
          },
          "metadata": {
            "tags": []
          },
          "execution_count": 73
        }
      ]
    },
    {
      "cell_type": "markdown",
      "metadata": {
        "id": "nJyh0G3McR-I"
      },
      "source": [
        "## Part IV: ACF and PACF of NTAP continuously compounded returns"
      ]
    },
    {
      "cell_type": "code",
      "metadata": {
        "colab": {
          "base_uri": "https://localhost:8080/",
          "height": 545
        },
        "id": "uCpZQaxfXgSL",
        "outputId": "8ba6aaac-cbc0-4a90-bd45-1391551f9593"
      },
      "source": [
        "sm.graphics.tsa.plot_acf(weekly_df['NTAP cont compounded return'], lags=12)\n",
        "sm.graphics.tsa.plot_pacf(weekly_df['NTAP cont compounded return'], lags=12)\n",
        "plt.show()"
      ],
      "execution_count": null,
      "outputs": [
        {
          "output_type": "display_data",
          "data": {
            "image/png": "[encoded data removed]",
            "text/plain": [
              "<Figure size 432x288 with 1 Axes>"
            ]
          },
          "metadata": {
            "tags": [],
            "needs_background": "light"
          }
        },
        {
          "output_type": "display_data",
          "data": {
            "image/png": "[encoded data removed]",
            "text/plain": [
              "<Figure size 432x288 with 1 Axes>"
            ]
          },
          "metadata": {
            "tags": [],
            "needs_background": "light"
          }
        }
      ]
    },
    {
      "cell_type": "code",
      "metadata": {
        "id": "A0qFbD-0clIN"
      },
      "source": [
        ""
      ],
      "execution_count": null,
      "outputs": []
    },
    {
      "cell_type": "markdown",
      "metadata": {
        "id": "GOo5pMkU9txb"
      },
      "source": [
        ""
      ]
    },
    {
      "cell_type": "markdown",
      "metadata": {
        "id": "gyNASg_8fFPA"
      },
      "source": [
        "## Part V: ARMA model with different lag length:"
      ]
    },
    {
      "cell_type": "code",
      "metadata": {
        "colab": {
          "base_uri": "https://localhost:8080/"
        },
        "id": "SidH3ntNfKnf",
        "outputId": "95c28bb5-ece6-4f7f-fa9d-b2aacd5bbe2c"
      },
      "source": [
        "# arma_cpi_model_1 = sm.tsa.ARMA(cpi_index_secondDiff, order=(4,0))\n",
        "# arma_cpi_model_1_fit = arma_cpi_model_1.fit()\n",
        "# print(arma_cpi_model_1_fit.summary())\n",
        "\n",
        "ntap_stock_px_model_4 = sm.tsa.ARMA(weekly_df['NTAP cont compounded return'], order=(4,4))\n",
        "ntap_stock_px_model_4_fit = ntap_stock_px_model_4.fit()\n",
        "print(ntap_stock_px_model_4_fit.summary())\n"
      ],
      "execution_count": null,
      "outputs": [
        {
          "output_type": "stream",
          "text": [
            "/usr/local/lib/python3.7/dist-packages/statsmodels/tsa/base/tsa_model.py:165: ValueWarning: No frequency information was provided, so inferred frequency W-FRI will be used.\n",
            "  % freq, ValueWarning)\n",
            "/usr/local/lib/python3.7/dist-packages/statsmodels/base/model.py:492: HessianInversionWarning: Inverting hessian failed, no bse or cov_params available\n",
            "  'available', HessianInversionWarning)\n"
          ],
          "name": "stderr"
        },
        {
          "output_type": "stream",
          "text": [
            "                                   ARMA Model Results                                  \n",
            "=======================================================================================\n",
            "Dep. Variable:     NTAP cont compounded return   No. Observations:                 1043\n",
            "Model:                              ARMA(4, 4)   Log Likelihood                1201.282\n",
            "Method:                                css-mle   S.D. of innovations              0.076\n",
            "Date:                         Sun, 18 Apr 2021   AIC                          -2382.564\n",
            "Time:                                 19:42:07   BIC                          -2333.065\n",
            "Sample:                             01-07-2000   HQIC                         -2363.789\n",
            "                                  - 12-27-2019                                         \n",
            "=====================================================================================================\n",
            "                                        coef    std err          z      P>|z|      [0.025      0.975]\n",
            "-----------------------------------------------------------------------------------------------------\n",
            "const                                 0.0005      0.002      0.209      0.834      -0.004       0.005\n",
            "ar.L1.NTAP cont compounded return     0.5004      0.412      1.216      0.224      -0.306       1.307\n",
            "ar.L2.NTAP cont compounded return    -0.2880      0.567     -0.508      0.612      -1.400       0.824\n",
            "ar.L3.NTAP cont compounded return    -0.0120      0.449     -0.027      0.979      -0.892       0.868\n",
            "ar.L4.NTAP cont compounded return    -0.6087      0.231     -2.630      0.009      -1.062      -0.155\n",
            "ma.L1.NTAP cont compounded return    -0.4869      0.430     -1.133      0.258      -1.329       0.355\n",
            "ma.L2.NTAP cont compounded return     0.2442      0.569      0.429      0.668      -0.871       1.360\n",
            "ma.L3.NTAP cont compounded return     0.0870      0.438      0.199      0.842      -0.771       0.945\n",
            "ma.L4.NTAP cont compounded return     0.5994      0.242      2.476      0.013       0.125       1.074\n",
            "                                    Roots                                    \n",
            "=============================================================================\n",
            "                  Real          Imaginary           Modulus         Frequency\n",
            "-----------------------------------------------------------------------------\n",
            "AR.1            0.7290           -0.7026j            1.0125           -0.1221\n",
            "AR.2            0.7290           +0.7026j            1.0125            0.1221\n",
            "AR.3           -0.7389           -1.0280j            1.2660           -0.3492\n",
            "AR.4           -0.7389           +1.0280j            1.2660            0.3492\n",
            "MA.1            0.7164           -0.6977j            1.0000           -0.1229\n",
            "MA.2            0.7164           +0.6977j            1.0000            0.1229\n",
            "MA.3           -0.7890           -1.0226j            1.2916           -0.3546\n",
            "MA.4           -0.7890           +1.0226j            1.2916            0.3546\n",
            "-----------------------------------------------------------------------------\n"
          ],
          "name": "stdout"
        }
      ]
    },
    {
      "cell_type": "code",
      "metadata": {
        "colab": {
          "base_uri": "https://localhost:8080/",
          "height": 138
        },
        "id": "mmD6wruP9var",
        "outputId": "4eb77365-6e7f-47aa-9682-e6db36ab927a"
      },
      "source": [
        "# PRep data for the model: \n",
        "weekly_df.head(2)"
      ],
      "execution_count": null,
      "outputs": [
        {
          "output_type": "execute_result",
          "data": {
            "text/html": [
              "<div>\n",
              "<style scoped>\n",
              "    .dataframe tbody tr th:only-of-type {\n",
              "        vertical-align: middle;\n",
              "    }\n",
              "\n",
              "    .dataframe tbody tr th {\n",
              "        vertical-align: top;\n",
              "    }\n",
              "\n",
              "    .dataframe thead th {\n",
              "        text-align: right;\n",
              "    }\n",
              "</style>\n",
              "<table border=\"1\" class=\"dataframe\">\n",
              "  <thead>\n",
              "    <tr style=\"text-align: right;\">\n",
              "      <th></th>\n",
              "      <th>Index</th>\n",
              "      <th>1M TBill Yield</th>\n",
              "      <th>RMRF</th>\n",
              "      <th>NTAP stock price</th>\n",
              "      <th>NTAP cont compounded return</th>\n",
              "      <th>index cont compounded return</th>\n",
              "    </tr>\n",
              "    <tr>\n",
              "      <th>Calendar Date</th>\n",
              "      <th></th>\n",
              "      <th></th>\n",
              "      <th></th>\n",
              "      <th></th>\n",
              "      <th></th>\n",
              "      <th></th>\n",
              "    </tr>\n",
              "  </thead>\n",
              "  <tbody>\n",
              "    <tr>\n",
              "      <th>2000-01-07</th>\n",
              "      <td>2898.10975</td>\n",
              "      <td>0.00084</td>\n",
              "      <td>-0.017916</td>\n",
              "      <td>31.733017</td>\n",
              "      <td>0.000000</td>\n",
              "      <td>-0.016814</td>\n",
              "    </tr>\n",
              "    <tr>\n",
              "      <th>2000-01-14</th>\n",
              "      <td>2984.29340</td>\n",
              "      <td>0.00105</td>\n",
              "      <td>0.020696</td>\n",
              "      <td>36.109767</td>\n",
              "      <td>0.097314</td>\n",
              "      <td>0.021613</td>\n",
              "    </tr>\n",
              "  </tbody>\n",
              "</table>\n",
              "</div>"
            ],
            "text/plain": [
              "                    Index  ...  index cont compounded return\n",
              "Calendar Date              ...                              \n",
              "2000-01-07     2898.10975  ...                     -0.016814\n",
              "2000-01-14     2984.29340  ...                      0.021613\n",
              "\n",
              "[2 rows x 6 columns]"
            ]
          },
          "metadata": {
            "tags": []
          },
          "execution_count": 22
        }
      ]
    },
    {
      "cell_type": "code",
      "metadata": {
        "colab": {
          "base_uri": "https://localhost:8080/"
        },
        "id": "bsqkWPfO90PP",
        "outputId": "fbea3a24-6e76-46bb-9dac-6ea76e6e4cbe"
      },
      "source": [
        "ntap_log_return = np.log(weekly_df['NTAP stock price']).diff()[1:]\n",
        "for i in ['nc', 'c', 'ct']:\n",
        "    result = adfuller(ntap_log_return,  autolag = 'AIC',  regression = i)\n",
        "    print('ADF Statistic with %s for NTAP log return: %f' % (i, result[0]))\n",
        "    print('p-value: %f' % result[1])\n",
        "    print('Critical values for NTAP log return at the 1 %, 5 %, and 10 % levels')\n",
        "    print((result[4]))\n",
        "    print('')"
      ],
      "execution_count": null,
      "outputs": [
        {
          "output_type": "stream",
          "text": [
            "ADF Statistic with nc for NTAP log return: -15.138457\n",
            "p-value: 0.000000\n",
            "Critical values for NTAP log return at the 1 %, 5 %, and 10 % levels\n",
            "{'1%': -2.5678973162039047, '5%': -1.94126186207361, '10%': -1.6165666195593897}\n",
            "\n",
            "ADF Statistic with c for NTAP log return: -15.131196\n",
            "p-value: 0.000000\n",
            "Critical values for NTAP log return at the 1 %, 5 %, and 10 % levels\n",
            "{'1%': -3.4366655541494944, '5%': -2.8643284548748533, '10%': -2.5682546880209087}\n",
            "\n",
            "ADF Statistic with ct for NTAP log return: -15.157141\n",
            "p-value: 0.000000\n",
            "Critical values for NTAP log return at the 1 %, 5 %, and 10 % levels\n",
            "{'1%': -3.9675181809205284, '5%': -3.4147280995326987, '10%': -3.1295446070150224}\n",
            "\n"
          ],
          "name": "stdout"
        }
      ]
    },
    {
      "cell_type": "code",
      "metadata": {
        "id": "6wZqq0JMEkNE"
      },
      "source": [
        ""
      ],
      "execution_count": null,
      "outputs": []
    },
    {
      "cell_type": "code",
      "metadata": {
        "colab": {
          "base_uri": "https://localhost:8080/"
        },
        "id": "L-nJLTmUfsrH",
        "outputId": "e2ea6da2-685e-45ea-af62-42e2a143e7fe"
      },
      "source": [
        "# Model_3\n",
        "\n",
        "ntap_stock_px_model_3 = sm.tsa.ARMA(weekly_df['NTAP cont compounded return'], order=(3,3))\n",
        "ntap_stock_px_model_3_fit = ntap_stock_px_model_3.fit()\n",
        "print(ntap_stock_px_model_3_fit.summary())"
      ],
      "execution_count": null,
      "outputs": [
        {
          "output_type": "stream",
          "text": [
            "/usr/local/lib/python3.7/dist-packages/statsmodels/tsa/base/tsa_model.py:165: ValueWarning: No frequency information was provided, so inferred frequency W-FRI will be used.\n",
            "  % freq, ValueWarning)\n",
            "/usr/local/lib/python3.7/dist-packages/statsmodels/tsa/tsatools.py:668: RuntimeWarning: overflow encountered in exp\n",
            "  newparams = ((1-np.exp(-params))/(1+np.exp(-params))).copy()\n",
            "/usr/local/lib/python3.7/dist-packages/statsmodels/tsa/tsatools.py:668: RuntimeWarning: invalid value encountered in true_divide\n",
            "  newparams = ((1-np.exp(-params))/(1+np.exp(-params))).copy()\n",
            "/usr/local/lib/python3.7/dist-packages/statsmodels/tsa/tsatools.py:669: RuntimeWarning: overflow encountered in exp\n",
            "  tmp = ((1-np.exp(-params))/(1+np.exp(-params))).copy()\n",
            "/usr/local/lib/python3.7/dist-packages/statsmodels/tsa/tsatools.py:669: RuntimeWarning: invalid value encountered in true_divide\n",
            "  tmp = ((1-np.exp(-params))/(1+np.exp(-params))).copy()\n"
          ],
          "name": "stderr"
        },
        {
          "output_type": "stream",
          "text": [
            "                                   ARMA Model Results                                  \n",
            "=======================================================================================\n",
            "Dep. Variable:     NTAP cont compounded return   No. Observations:                 1043\n",
            "Model:                              ARMA(3, 3)   Log Likelihood                1198.558\n",
            "Method:                                css-mle   S.D. of innovations              0.077\n",
            "Date:                         Sun, 18 Apr 2021   AIC                          -2381.115\n",
            "Time:                                 19:45:58   BIC                          -2341.517\n",
            "Sample:                             01-07-2000   HQIC                         -2366.096\n",
            "                                  - 12-27-2019                                         \n",
            "=====================================================================================================\n",
            "                                        coef    std err          z      P>|z|      [0.025      0.975]\n",
            "-----------------------------------------------------------------------------------------------------\n",
            "const                                 0.0005      0.002      0.200      0.841      -0.004       0.005\n",
            "ar.L1.NTAP cont compounded return    -0.6691      4.542     -0.147      0.883      -9.571       8.233\n",
            "ar.L2.NTAP cont compounded return    -0.5432      4.939     -0.110      0.912     -10.224       9.138\n",
            "ar.L3.NTAP cont compounded return     0.4166      4.530      0.092      0.927      -8.462       9.295\n",
            "ma.L1.NTAP cont compounded return     0.6917      4.594      0.151      0.880      -8.312       9.695\n",
            "ma.L2.NTAP cont compounded return     0.5584      5.004      0.112      0.911      -9.250      10.367\n",
            "ma.L3.NTAP cont compounded return    -0.3896      4.545     -0.086      0.932      -9.298       8.519\n",
            "                                    Roots                                    \n",
            "=============================================================================\n",
            "                  Real          Imaginary           Modulus         Frequency\n",
            "-----------------------------------------------------------------------------\n",
            "AR.1           -0.5450           -0.8401j            1.0014           -0.3416\n",
            "AR.2           -0.5450           +0.8401j            1.0014            0.3416\n",
            "AR.3            2.3937           -0.0000j            2.3937           -0.0000\n",
            "MA.1           -0.5503           -0.8427j            1.0065           -0.3421\n",
            "MA.2           -0.5503           +0.8427j            1.0065            0.3421\n",
            "MA.3            2.5338           -0.0000j            2.5338           -0.0000\n",
            "-----------------------------------------------------------------------------\n"
          ],
          "name": "stdout"
        }
      ]
    },
    {
      "cell_type": "code",
      "metadata": {
        "colab": {
          "base_uri": "https://localhost:8080/"
        },
        "id": "SyjQOourgyn9",
        "outputId": "b870d8ef-f320-4d98-b067-e2025e307885"
      },
      "source": [
        "# Model_2\n",
        "\n",
        "ntap_stock_px_model_2 = sm.tsa.ARMA(ntap_log_return, order=(2,2))\n",
        "ntap_stock_px_model_2_fit = ntap_stock_px_model_2.fit()\n",
        "print(ntap_stock_px_model_2_fit.summary())"
      ],
      "execution_count": null,
      "outputs": [
        {
          "output_type": "stream",
          "text": [
            "/usr/local/lib/python3.7/dist-packages/statsmodels/tsa/base/tsa_model.py:165: ValueWarning: No frequency information was provided, so inferred frequency W-FRI will be used.\n",
            "  % freq, ValueWarning)\n"
          ],
          "name": "stderr"
        },
        {
          "output_type": "stream",
          "text": [
            "                              ARMA Model Results                              \n",
            "==============================================================================\n",
            "Dep. Variable:       NTAP stock price   No. Observations:                 1042\n",
            "Model:                     ARMA(2, 2)   Log Likelihood                1417.609\n",
            "Method:                       css-mle   S.D. of innovations              0.062\n",
            "Date:                Mon, 19 Apr 2021   AIC                          -2823.217\n",
            "Time:                        02:35:56   BIC                          -2793.524\n",
            "Sample:                    01-14-2000   HQIC                         -2811.954\n",
            "                         - 12-27-2019                                         \n",
            "==========================================================================================\n",
            "                             coef    std err          z      P>|z|      [0.025      0.975]\n",
            "------------------------------------------------------------------------------------------\n",
            "const                      0.0006      0.003      0.249      0.803      -0.004       0.006\n",
            "ar.L1.NTAP stock price     0.0524      0.214      0.245      0.806      -0.367       0.472\n",
            "ar.L2.NTAP stock price     0.2999      0.091      3.287      0.001       0.121       0.479\n",
            "ma.L1.NTAP stock price     0.1866      0.214      0.871      0.384      -0.233       0.606\n",
            "ma.L2.NTAP stock price    -0.3304      0.123     -2.690      0.007      -0.571      -0.090\n",
            "                                    Roots                                    \n",
            "=============================================================================\n",
            "                  Real          Imaginary           Modulus         Frequency\n",
            "-----------------------------------------------------------------------------\n",
            "AR.1            1.7408           +0.0000j            1.7408            0.0000\n",
            "AR.2           -1.9157           +0.0000j            1.9157            0.5000\n",
            "MA.1           -1.4801           +0.0000j            1.4801            0.5000\n",
            "MA.2            2.0450           +0.0000j            2.0450            0.0000\n",
            "-----------------------------------------------------------------------------\n"
          ],
          "name": "stdout"
        }
      ]
    },
    {
      "cell_type": "code",
      "metadata": {
        "id": "pdKMh4BmhVSF"
      },
      "source": [
        ""
      ],
      "execution_count": null,
      "outputs": []
    },
    {
      "cell_type": "markdown",
      "metadata": {
        "id": "0M7BfT7U-uqz"
      },
      "source": [
        "## Part V: ARMA model with different lag length:"
      ]
    },
    {
      "cell_type": "code",
      "metadata": {
        "colab": {
          "base_uri": "https://localhost:8080/"
        },
        "id": "8CSDg7rchrGu",
        "outputId": "58d63f37-2c69-4c6a-8910-a6eef4a7bc51"
      },
      "source": [
        "# Prepare data for further input into the model:\n",
        "ntap_log_return = np.log(weekly_df['NTAP stock price']).diff()[1:]\n",
        "\n",
        "# Check for stationarity\n",
        "for i in ['nc', 'c', 'ct']:\n",
        "    result = adfuller(ntap_log_return,  autolag = 'AIC',  regression = i)\n",
        "    print('ADF Statistic with %s for NTAP log return: %f' % (i, result[0]))\n",
        "    print('p-value: %f' % result[1])\n",
        "    print('Critical values for NTAP log return at the 1 %, 5 %, and 10 % levels')\n",
        "    print((result[4]))\n",
        "    print('')"
      ],
      "execution_count": null,
      "outputs": [
        {
          "output_type": "stream",
          "text": [
            "ADF Statistic with nc for NTAP log return: -15.138457\n",
            "p-value: 0.000000\n",
            "Critical values for NTAP log return at the 1 %, 5 %, and 10 % levels\n",
            "{'1%': -2.5678973162039047, '5%': -1.94126186207361, '10%': -1.6165666195593897}\n",
            "\n",
            "ADF Statistic with c for NTAP log return: -15.131196\n",
            "p-value: 0.000000\n",
            "Critical values for NTAP log return at the 1 %, 5 %, and 10 % levels\n",
            "{'1%': -3.4366655541494944, '5%': -2.8643284548748533, '10%': -2.5682546880209087}\n",
            "\n",
            "ADF Statistic with ct for NTAP log return: -15.157141\n",
            "p-value: 0.000000\n",
            "Critical values for NTAP log return at the 1 %, 5 %, and 10 % levels\n",
            "{'1%': -3.9675181809205284, '5%': -3.4147280995326987, '10%': -3.1295446070150224}\n",
            "\n"
          ],
          "name": "stdout"
        }
      ]
    },
    {
      "cell_type": "code",
      "metadata": {
        "colab": {
          "base_uri": "https://localhost:8080/",
          "height": 545
        },
        "id": "QB0753dGE2Em",
        "outputId": "64cee71b-bf7e-4466-8611-2b9cb878eb8a"
      },
      "source": [
        "sm.graphics.tsa.plot_acf(ntap_log_return, lags=12)\n",
        "sm.graphics.tsa.plot_pacf(ntap_log_return, lags=12)\n",
        "plt.show()"
      ],
      "execution_count": null,
      "outputs": [
        {
          "output_type": "display_data",
          "data": {
            "image/png": "[encoded data removed]",
            "text/plain": [
              "<Figure size 432x288 with 1 Axes>"
            ]
          },
          "metadata": {
            "tags": [],
            "needs_background": "light"
          }
        },
        {
          "output_type": "display_data",
          "data": {
            "image/png": "[encoded data removed]",
            "text/plain": [
              "<Figure size 432x288 with 1 Axes>"
            ]
          },
          "metadata": {
            "tags": [],
            "needs_background": "light"
          }
        }
      ]
    },
    {
      "cell_type": "code",
      "metadata": {
        "colab": {
          "base_uri": "https://localhost:8080/"
        },
        "id": "IYZGta8K-yoW",
        "outputId": "b639aace-b325-4ae4-a782-f2db65ad169e"
      },
      "source": [
        "# Run models and report ICs:\n",
        "# Model 4 (lag lenght 4)\n",
        "ntap_stock_px_model_4 = sm.tsa.ARMA(ntap_log_return, order=(4,4))\n",
        "ntap_stock_px_model_4_fit = ntap_stock_px_model_4.fit()\n",
        "print(ntap_stock_px_model_4_fit.summary())"
      ],
      "execution_count": null,
      "outputs": [
        {
          "output_type": "stream",
          "text": [
            "/usr/local/lib/python3.7/dist-packages/statsmodels/tsa/base/tsa_model.py:165: ValueWarning: No frequency information was provided, so inferred frequency W-FRI will be used.\n",
            "  % freq, ValueWarning)\n"
          ],
          "name": "stderr"
        },
        {
          "output_type": "stream",
          "text": [
            "                              ARMA Model Results                              \n",
            "==============================================================================\n",
            "Dep. Variable:       NTAP stock price   No. Observations:                 1042\n",
            "Model:                     ARMA(4, 4)   Log Likelihood                1432.657\n",
            "Method:                       css-mle   S.D. of innovations              0.061\n",
            "Date:                Mon, 19 Apr 2021   AIC                          -2845.313\n",
            "Time:                        02:37:42   BIC                          -2795.824\n",
            "Sample:                    01-14-2000   HQIC                         -2826.542\n",
            "                         - 12-27-2019                                         \n",
            "==========================================================================================\n",
            "                             coef    std err          z      P>|z|      [0.025      0.975]\n",
            "------------------------------------------------------------------------------------------\n",
            "const                      0.0004      0.002      0.217      0.828      -0.003       0.004\n",
            "ar.L1.NTAP stock price     0.2334      0.068      3.415      0.001       0.099       0.367\n",
            "ar.L2.NTAP stock price     1.1479      0.061     18.909      0.000       1.029       1.267\n",
            "ar.L3.NTAP stock price    -0.1271      0.066     -1.931      0.054      -0.256       0.002\n",
            "ar.L4.NTAP stock price    -0.7949      0.069    -11.549      0.000      -0.930      -0.660\n",
            "ma.L1.NTAP stock price    -0.0762      0.053     -1.438      0.151      -0.180       0.028\n",
            "ma.L2.NTAP stock price    -1.2750      0.041    -31.196      0.000      -1.355      -1.195\n",
            "ma.L3.NTAP stock price     0.0568      0.058      0.985      0.325      -0.056       0.170\n",
            "ma.L4.NTAP stock price     0.8598      0.054     16.001      0.000       0.755       0.965\n",
            "                                    Roots                                    \n",
            "=============================================================================\n",
            "                  Real          Imaginary           Modulus         Frequency\n",
            "-----------------------------------------------------------------------------\n",
            "AR.1            0.9227           -0.3922j            1.0026           -0.0640\n",
            "AR.2            0.9227           +0.3922j            1.0026            0.0640\n",
            "AR.3           -1.0027           -0.4961j            1.1187           -0.4269\n",
            "AR.4           -1.0027           +0.4961j            1.1187            0.4269\n",
            "MA.1            0.9377           -0.3975j            1.0185           -0.0638\n",
            "MA.2            0.9377           +0.3975j            1.0185            0.0638\n",
            "MA.3           -0.9708           -0.4228j            1.0588           -0.4346\n",
            "MA.4           -0.9708           +0.4228j            1.0588            0.4346\n",
            "-----------------------------------------------------------------------------\n"
          ],
          "name": "stdout"
        }
      ]
    },
    {
      "cell_type": "code",
      "metadata": {
        "colab": {
          "base_uri": "https://localhost:8080/"
        },
        "id": "DlL9-50U_Bv8",
        "outputId": "18a6dcf0-d4f3-4c04-accf-db96dea03e09"
      },
      "source": [
        "# Model 3 (lag lenght 3)\n",
        "ntap_stock_px_model_3 = sm.tsa.ARMA(ntap_log_return, order=(3,3))\n",
        "ntap_stock_px_model_3_fit = ntap_stock_px_model_3.fit()\n",
        "print(ntap_stock_px_model_3_fit.summary())"
      ],
      "execution_count": null,
      "outputs": [
        {
          "output_type": "stream",
          "text": [
            "/usr/local/lib/python3.7/dist-packages/statsmodels/tsa/base/tsa_model.py:165: ValueWarning: No frequency information was provided, so inferred frequency W-FRI will be used.\n",
            "  % freq, ValueWarning)\n"
          ],
          "name": "stderr"
        },
        {
          "output_type": "stream",
          "text": [
            "                              ARMA Model Results                              \n",
            "==============================================================================\n",
            "Dep. Variable:       NTAP stock price   No. Observations:                 1042\n",
            "Model:                     ARMA(3, 3)   Log Likelihood                1427.007\n",
            "Method:                       css-mle   S.D. of innovations              0.062\n",
            "Date:                Mon, 19 Apr 2021   AIC                          -2838.014\n",
            "Time:                        02:39:30   BIC                          -2798.423\n",
            "Sample:                    01-14-2000   HQIC                         -2822.997\n",
            "                         - 12-27-2019                                         \n",
            "==========================================================================================\n",
            "                             coef    std err          z      P>|z|      [0.025      0.975]\n",
            "------------------------------------------------------------------------------------------\n",
            "const                      0.0006      0.003      0.247      0.805      -0.004       0.006\n",
            "ar.L1.NTAP stock price    -1.2965      0.223     -5.814      0.000      -1.734      -0.859\n",
            "ar.L2.NTAP stock price    -0.2358      0.355     -0.664      0.507      -0.932       0.460\n",
            "ar.L3.NTAP stock price     0.3435      0.177      1.944      0.052      -0.003       0.690\n",
            "ma.L1.NTAP stock price     1.5416      0.232      6.642      0.000       1.087       1.997\n",
            "ma.L2.NTAP stock price     0.5463      0.405      1.350      0.177      -0.247       1.339\n",
            "ma.L3.NTAP stock price    -0.2072      0.210     -0.987      0.324      -0.619       0.204\n",
            "                                    Roots                                    \n",
            "=============================================================================\n",
            "                  Real          Imaginary           Modulus         Frequency\n",
            "-----------------------------------------------------------------------------\n",
            "AR.1           -0.9485           -0.4766j            1.0615           -0.4259\n",
            "AR.2           -0.9485           +0.4766j            1.0615            0.4259\n",
            "AR.3            2.5836           -0.0000j            2.5836           -0.0000\n",
            "MA.1           -0.9413           -0.4264j            1.0334           -0.4323\n",
            "MA.2           -0.9413           +0.4264j            1.0334            0.4323\n",
            "MA.3            4.5194           -0.0000j            4.5194           -0.0000\n",
            "-----------------------------------------------------------------------------\n"
          ],
          "name": "stdout"
        }
      ]
    },
    {
      "cell_type": "code",
      "metadata": {
        "colab": {
          "base_uri": "https://localhost:8080/"
        },
        "id": "SfD3ObNK_c-s",
        "outputId": "b680adf3-ce1f-4268-d5f7-b2226ea018eb"
      },
      "source": [
        "# Model 2 (lag lenght 2)\n",
        "ntap_stock_px_model_2 = sm.tsa.ARMA(ntap_log_return, order=(2,2))\n",
        "ntap_stock_px_model_2_fit = ntap_stock_px_model_2.fit()\n",
        "print(ntap_stock_px_model_2_fit.summary())"
      ],
      "execution_count": null,
      "outputs": [
        {
          "output_type": "stream",
          "text": [
            "/usr/local/lib/python3.7/dist-packages/statsmodels/tsa/base/tsa_model.py:165: ValueWarning: No frequency information was provided, so inferred frequency W-FRI will be used.\n",
            "  % freq, ValueWarning)\n"
          ],
          "name": "stderr"
        },
        {
          "output_type": "stream",
          "text": [
            "                              ARMA Model Results                              \n",
            "==============================================================================\n",
            "Dep. Variable:       NTAP stock price   No. Observations:                 1042\n",
            "Model:                     ARMA(2, 2)   Log Likelihood                1417.609\n",
            "Method:                       css-mle   S.D. of innovations              0.062\n",
            "Date:                Mon, 19 Apr 2021   AIC                          -2823.217\n",
            "Time:                        02:40:16   BIC                          -2793.524\n",
            "Sample:                    01-14-2000   HQIC                         -2811.954\n",
            "                         - 12-27-2019                                         \n",
            "==========================================================================================\n",
            "                             coef    std err          z      P>|z|      [0.025      0.975]\n",
            "------------------------------------------------------------------------------------------\n",
            "const                      0.0006      0.003      0.249      0.803      -0.004       0.006\n",
            "ar.L1.NTAP stock price     0.0524      0.214      0.245      0.806      -0.367       0.472\n",
            "ar.L2.NTAP stock price     0.2999      0.091      3.287      0.001       0.121       0.479\n",
            "ma.L1.NTAP stock price     0.1866      0.214      0.871      0.384      -0.233       0.606\n",
            "ma.L2.NTAP stock price    -0.3304      0.123     -2.690      0.007      -0.571      -0.090\n",
            "                                    Roots                                    \n",
            "=============================================================================\n",
            "                  Real          Imaginary           Modulus         Frequency\n",
            "-----------------------------------------------------------------------------\n",
            "AR.1            1.7408           +0.0000j            1.7408            0.0000\n",
            "AR.2           -1.9157           +0.0000j            1.9157            0.5000\n",
            "MA.1           -1.4801           +0.0000j            1.4801            0.5000\n",
            "MA.2            2.0450           +0.0000j            2.0450            0.0000\n",
            "-----------------------------------------------------------------------------\n"
          ],
          "name": "stdout"
        }
      ]
    },
    {
      "cell_type": "code",
      "metadata": {
        "colab": {
          "base_uri": "https://localhost:8080/"
        },
        "id": "Hu8_6t8b_opZ",
        "outputId": "c726bcb1-0cae-445e-fb0c-cd29e1c537b0"
      },
      "source": [
        "# Model 1 (lag lenght 1)\n",
        "ntap_stock_px_model_1 = sm.tsa.ARMA(ntap_log_return, order=(1,1))\n",
        "ntap_stock_px_model_1_fit = ntap_stock_px_model_1.fit()\n",
        "print(ntap_stock_px_model_1_fit.summary())"
      ],
      "execution_count": null,
      "outputs": [
        {
          "output_type": "stream",
          "text": [
            "/usr/local/lib/python3.7/dist-packages/statsmodels/tsa/base/tsa_model.py:165: ValueWarning: No frequency information was provided, so inferred frequency W-FRI will be used.\n",
            "  % freq, ValueWarning)\n"
          ],
          "name": "stderr"
        },
        {
          "output_type": "stream",
          "text": [
            "                              ARMA Model Results                              \n",
            "==============================================================================\n",
            "Dep. Variable:       NTAP stock price   No. Observations:                 1042\n",
            "Model:                     ARMA(1, 1)   Log Likelihood                1414.696\n",
            "Method:                       css-mle   S.D. of innovations              0.062\n",
            "Date:                Mon, 19 Apr 2021   AIC                          -2821.392\n",
            "Time:                        02:41:24   BIC                          -2801.597\n",
            "Sample:                    01-14-2000   HQIC                         -2813.883\n",
            "                         - 12-27-2019                                         \n",
            "==========================================================================================\n",
            "                             coef    std err          z      P>|z|      [0.025      0.975]\n",
            "------------------------------------------------------------------------------------------\n",
            "const                      0.0006      0.002      0.260      0.795      -0.004       0.005\n",
            "ar.L1.NTAP stock price    -0.3662      0.101     -3.611      0.000      -0.565      -0.167\n",
            "ma.L1.NTAP stock price     0.5883      0.088      6.671      0.000       0.415       0.761\n",
            "                                    Roots                                    \n",
            "=============================================================================\n",
            "                  Real          Imaginary           Modulus         Frequency\n",
            "-----------------------------------------------------------------------------\n",
            "AR.1           -2.7310           +0.0000j            2.7310            0.5000\n",
            "MA.1           -1.6997           +0.0000j            1.6997            0.5000\n",
            "-----------------------------------------------------------------------------\n"
          ],
          "name": "stdout"
        }
      ]
    },
    {
      "cell_type": "code",
      "metadata": {
        "colab": {
          "base_uri": "https://localhost:8080/"
        },
        "id": "RguwMH8z_5Me",
        "outputId": "c39271f2-92f3-4862-8626-d3ea6ce487c2"
      },
      "source": [
        "# Model 0 (lag lenght 0)\n",
        "ntap_stock_px_model_0 = sm.tsa.ARMA(ntap_log_return, order=(0,0))\n",
        "ntap_stock_px_model_0_fit = ntap_stock_px_model_0.fit()\n",
        "print(ntap_stock_px_model_0_fit.summary())"
      ],
      "execution_count": null,
      "outputs": [
        {
          "output_type": "stream",
          "text": [
            "                              ARMA Model Results                              \n",
            "==============================================================================\n",
            "Dep. Variable:       NTAP stock price   No. Observations:                 1042\n",
            "Model:                     ARMA(0, 0)   Log Likelihood                1385.819\n",
            "Method:                           css   S.D. of innovations              0.064\n",
            "Date:                Mon, 19 Apr 2021   AIC                          -2767.639\n",
            "Time:                        02:42:22   BIC                          -2757.741\n",
            "Sample:                    01-14-2000   HQIC                         -2763.884\n",
            "                         - 12-27-2019                                         \n",
            "==============================================================================\n",
            "                 coef    std err          z      P>|z|      [0.025      0.975]\n",
            "------------------------------------------------------------------------------\n",
            "const          0.0006      0.002      0.300      0.764      -0.003       0.004\n",
            "==============================================================================\n"
          ],
          "name": "stdout"
        },
        {
          "output_type": "stream",
          "text": [
            "/usr/local/lib/python3.7/dist-packages/statsmodels/tsa/base/tsa_model.py:165: ValueWarning: No frequency information was provided, so inferred frequency W-FRI will be used.\n",
            "  % freq, ValueWarning)\n"
          ],
          "name": "stderr"
        }
      ]
    },
    {
      "cell_type": "code",
      "metadata": {
        "id": "5a8u2T4NAHex"
      },
      "source": [
        ""
      ],
      "execution_count": null,
      "outputs": []
    },
    {
      "cell_type": "markdown",
      "metadata": {
        "id": "ZmRXRRRrYVwS"
      },
      "source": [
        "## Part 7: ARMA(1,1)-GARCH(1,1) model:"
      ]
    },
    {
      "cell_type": "code",
      "metadata": {
        "colab": {
          "base_uri": "https://localhost:8080/",
          "height": 629
        },
        "id": "84eDA58GYaXA",
        "outputId": "fc6cced2-39bf-47fc-ccb1-e4455f3b4999"
      },
      "source": [
        "# Start by fitting the ARMA(1,1) model:\n",
        "ntap_stock_px_model_1 = sm.tsa.ARMA(ntap_log_return, order=(1,1))\n",
        "ntap_stock_px_model_1_fit = ntap_stock_px_model_1.fit()\n",
        "# Fit GARCH(1,1) model:\n",
        "ntap_log_return_garch_model = arch.arch_model(ntap_stock_px_model_1_fit.resid**2, p=1, q=1,vol='Garch', mean='zero',  rescale=False).fit()\n",
        "ntap_log_return_garch_model.summary()"
      ],
      "execution_count": null,
      "outputs": [
        {
          "output_type": "stream",
          "text": [
            "/usr/local/lib/python3.7/dist-packages/statsmodels/tsa/base/tsa_model.py:165: ValueWarning: No frequency information was provided, so inferred frequency W-FRI will be used.\n",
            "  % freq, ValueWarning)\n"
          ],
          "name": "stderr"
        },
        {
          "output_type": "stream",
          "text": [
            "Iteration:      1,   Func. Count:      5,   Neg. LLF: -4055.2131300245574\n",
            "Inequality constraints incompatible    (Exit mode 4)\n",
            "            Current function value: -4055.2131373089487\n",
            "            Iterations: 1\n",
            "            Function evaluations: 5\n",
            "            Gradient evaluations: 1\n"
          ],
          "name": "stdout"
        },
        {
          "output_type": "stream",
          "text": [
            "/usr/local/lib/python3.7/dist-packages/arch/univariate/base.py:752: ConvergenceWarning: The optimizer returned code 4. The message is:\n",
            "Inequality constraints incompatible\n",
            "See scipy.optimize.fmin_slsqp for code meaning.\n",
            "\n",
            "  ConvergenceWarning,\n"
          ],
          "name": "stderr"
        },
        {
          "output_type": "execute_result",
          "data": {
            "text/html": [
              "<table class=\"simpletable\">\n",
              "<caption>Zero Mean - GARCH Model Results</caption>\n",
              "<tr>\n",
              "  <th>Dep. Variable:</th>        <td>None</td>        <th>  R-squared:         </th>  <td>   0.000</td> \n",
              "</tr>\n",
              "<tr>\n",
              "  <th>Mean Model:</th>         <td>Zero Mean</td>     <th>  Adj. R-squared:    </th>  <td>   0.001</td> \n",
              "</tr>\n",
              "<tr>\n",
              "  <th>Vol Model:</th>            <td>GARCH</td>       <th>  Log-Likelihood:    </th> <td>   4055.21</td>\n",
              "</tr>\n",
              "<tr>\n",
              "  <th>Distribution:</th>        <td>Normal</td>       <th>  AIC:               </th> <td>  -8104.43</td>\n",
              "</tr>\n",
              "<tr>\n",
              "  <th>Method:</th>        <td>Maximum Likelihood</td> <th>  BIC:               </th> <td>  -8089.58</td>\n",
              "</tr>\n",
              "<tr>\n",
              "  <th></th>                        <td></td>          <th>  No. Observations:  </th>    <td>1042</td>   \n",
              "</tr>\n",
              "<tr>\n",
              "  <th>Date:</th>           <td>Mon, Apr 19 2021</td>  <th>  Df Residuals:      </th>    <td>1042</td>   \n",
              "</tr>\n",
              "<tr>\n",
              "  <th>Time:</th>               <td>05:13:26</td>      <th>  Df Model:          </th>      <td>0</td>    \n",
              "</tr>\n",
              "</table>\n",
              "<table class=\"simpletable\">\n",
              "<caption>Volatility Model</caption>\n",
              "<tr>\n",
              "      <td></td>        <th>coef</th>     <th>std err</th>      <th>t</th>        <th>P>|t|</th>     <th>95.0% Conf. Int.</th>   \n",
              "</tr>\n",
              "<tr>\n",
              "  <th>omega</th>    <td>2.5495e-06</td> <td>1.465e-10</td> <td>1.740e+04</td>    <td>0.000</td>   <td>[2.549e-06,2.550e-06]</td>\n",
              "</tr>\n",
              "<tr>\n",
              "  <th>alpha[1]</th> <td>    0.2000</td> <td>5.585e-02</td> <td>    3.581</td>  <td>3.424e-04</td>  <td>[9.053e-02,  0.309]</td> \n",
              "</tr>\n",
              "<tr>\n",
              "  <th>beta[1]</th>  <td>    0.7800</td> <td>3.232e-02</td> <td>   24.130</td> <td>1.201e-128</td>   <td>[  0.717,  0.843]</td>  \n",
              "</tr>\n",
              "</table><br/><br/>Covariance estimator: robust<br/>WARNING: The optimizer did not indicate successful convergence. The message was Inequality constraints incompatible.<br/>See convergence_flag.<br/>"
            ],
            "text/plain": [
              "<class 'statsmodels.iolib.summary.Summary'>\n",
              "\"\"\"\n",
              "                       Zero Mean - GARCH Model Results                        \n",
              "==============================================================================\n",
              "Dep. Variable:                   None   R-squared:                       0.000\n",
              "Mean Model:                 Zero Mean   Adj. R-squared:                  0.001\n",
              "Vol Model:                      GARCH   Log-Likelihood:                4055.21\n",
              "Distribution:                  Normal   AIC:                          -8104.43\n",
              "Method:            Maximum Likelihood   BIC:                          -8089.58\n",
              "                                        No. Observations:                 1042\n",
              "Date:                Mon, Apr 19 2021   Df Residuals:                     1042\n",
              "Time:                        05:13:26   Df Model:                            0\n",
              "                              Volatility Model                              \n",
              "============================================================================\n",
              "                 coef    std err          t      P>|t|      95.0% Conf. Int.\n",
              "----------------------------------------------------------------------------\n",
              "omega      2.5495e-06  1.465e-10  1.740e+04      0.000 [2.549e-06,2.550e-06]\n",
              "alpha[1]       0.2000  5.585e-02      3.581  3.424e-04   [9.053e-02,  0.309]\n",
              "beta[1]        0.7800  3.232e-02     24.130 1.201e-128     [  0.717,  0.843]\n",
              "============================================================================\n",
              "\n",
              "Covariance estimator: robust\n",
              "WARNING: The optimizer did not indicate successful convergence. The message was Inequality constraints incompatible.\n",
              "See convergence_flag.\n",
              "\n",
              "\"\"\""
            ]
          },
          "metadata": {
            "tags": []
          },
          "execution_count": 56
        }
      ]
    },
    {
      "cell_type": "code",
      "metadata": {
        "colab": {
          "base_uri": "https://localhost:8080/",
          "height": 499
        },
        "id": "oKgq0-XRZnKh",
        "outputId": "dcabb057-e1f7-49e7-c3f4-f2d2e4d7c4bf"
      },
      "source": [
        "# Plotting the conditional variance:\n",
        "fig = ntap_log_return_garch_model.plot(annualize='W')\n",
        "fig.set_size_inches(11,8)"
      ],
      "execution_count": null,
      "outputs": [
        {
          "output_type": "display_data",
          "data": {
            "image/png": "[encoded data removed]",
            "text/plain": [
              "<Figure size 792x576 with 2 Axes>"
            ]
          },
          "metadata": {
            "tags": [],
            "needs_background": "light"
          }
        }
      ]
    },
    {
      "cell_type": "code",
      "metadata": {
        "id": "Khrb1igcgi3G"
      },
      "source": [
        ""
      ],
      "execution_count": null,
      "outputs": []
    }
  ]
}