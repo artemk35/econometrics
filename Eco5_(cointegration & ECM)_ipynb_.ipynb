{
  "nbformat": 4,
  "nbformat_minor": 0,
  "metadata": {
    "colab": {
      "name": "Eco5 (ECM).ipynb\"",
      "provenance": []
    },
    "kernelspec": {
      "name": "python3",
      "display_name": "Python 3"
    },
    "language_info": {
      "name": "python"
    }
  },
  "cells": [
    {
      "cell_type": "code",
      "metadata": {
        "id": "-DvaRfgqUhFM"
      },
      "source": [
        "import numpy as np\n",
        "import pandas as pd\n",
        "import matplotlib.pyplot as plt\n",
        "from pandas_datareader import data\n",
        "import os\n",
        "import matplotlib.patches as mpatches\n",
        "from mpl_toolkits import mplot3d\n",
        "from statsmodels.tsa.stattools import acf, pacf\n",
        "from statsmodels.tsa.arima_model import ARMA\n",
        "import statsmodels.api as sm\n",
        "from statsmodels.tsa.stattools import adfuller"
      ],
      "execution_count": null,
      "outputs": []
    },
    {
      "cell_type": "code",
      "metadata": {
        "colab": {
          "base_uri": "https://localhost:8080/",
          "height": 378
        },
        "id": "p_5R8niEUzTi",
        "outputId": "b78418f8-b47e-47dc-cd8a-fb040404fbd2"
      },
      "source": [
        "# Downloading and preparing data for the analysis: \n",
        "macro_df = pd.read_excel('/content/assignment 5 data.xlsx')\n",
        "macro_df.set_index('Year', inplace=True)\n",
        "log_macro_df = np.log(macro_df)\n",
        "log_macro_df.head(10)"
      ],
      "execution_count": null,
      "outputs": [
        {
          "output_type": "execute_result",
          "data": {
            "text/html": [
              "<div>\n",
              "<style scoped>\n",
              "    .dataframe tbody tr th:only-of-type {\n",
              "        vertical-align: middle;\n",
              "    }\n",
              "\n",
              "    .dataframe tbody tr th {\n",
              "        vertical-align: top;\n",
              "    }\n",
              "\n",
              "    .dataframe thead th {\n",
              "        text-align: right;\n",
              "    }\n",
              "</style>\n",
              "<table border=\"1\" class=\"dataframe\">\n",
              "  <thead>\n",
              "    <tr style=\"text-align: right;\">\n",
              "      <th></th>\n",
              "      <th>FCE (const LCU)</th>\n",
              "      <th>GNI (constant LCU)</th>\n",
              "    </tr>\n",
              "    <tr>\n",
              "      <th>Year</th>\n",
              "      <th></th>\n",
              "      <th></th>\n",
              "    </tr>\n",
              "  </thead>\n",
              "  <tbody>\n",
              "    <tr>\n",
              "      <th>1970</th>\n",
              "      <td>27.948373</td>\n",
              "      <td>28.136660</td>\n",
              "    </tr>\n",
              "    <tr>\n",
              "      <th>1971</th>\n",
              "      <td>27.956264</td>\n",
              "      <td>28.147346</td>\n",
              "    </tr>\n",
              "    <tr>\n",
              "      <th>1972</th>\n",
              "      <td>27.986794</td>\n",
              "      <td>28.170733</td>\n",
              "    </tr>\n",
              "    <tr>\n",
              "      <th>1973</th>\n",
              "      <td>28.012333</td>\n",
              "      <td>28.211354</td>\n",
              "    </tr>\n",
              "    <tr>\n",
              "      <th>1974</th>\n",
              "      <td>28.044500</td>\n",
              "      <td>28.242673</td>\n",
              "    </tr>\n",
              "    <tr>\n",
              "      <th>1975</th>\n",
              "      <td>28.078089</td>\n",
              "      <td>28.267813</td>\n",
              "    </tr>\n",
              "    <tr>\n",
              "      <th>1976</th>\n",
              "      <td>28.116364</td>\n",
              "      <td>28.278466</td>\n",
              "    </tr>\n",
              "    <tr>\n",
              "      <th>1977</th>\n",
              "      <td>28.119622</td>\n",
              "      <td>28.260682</td>\n",
              "    </tr>\n",
              "    <tr>\n",
              "      <th>1978</th>\n",
              "      <td>28.126558</td>\n",
              "      <td>28.278964</td>\n",
              "    </tr>\n",
              "    <tr>\n",
              "      <th>1979</th>\n",
              "      <td>28.158470</td>\n",
              "      <td>28.316913</td>\n",
              "    </tr>\n",
              "  </tbody>\n",
              "</table>\n",
              "</div>"
            ],
            "text/plain": [
              "      FCE (const LCU)  GNI (constant LCU)\n",
              "Year                                     \n",
              "1970        27.948373           28.136660\n",
              "1971        27.956264           28.147346\n",
              "1972        27.986794           28.170733\n",
              "1973        28.012333           28.211354\n",
              "1974        28.044500           28.242673\n",
              "1975        28.078089           28.267813\n",
              "1976        28.116364           28.278466\n",
              "1977        28.119622           28.260682\n",
              "1978        28.126558           28.278964\n",
              "1979        28.158470           28.316913"
            ]
          },
          "metadata": {
            "tags": []
          },
          "execution_count": 3
        }
      ]
    },
    {
      "cell_type": "code",
      "metadata": {
        "id": "iYNUqzqPeUMi"
      },
      "source": [
        "log_macro_df=log_macro_df.drop(log_macro_df.tail(1).index)\n"
      ],
      "execution_count": null,
      "outputs": []
    },
    {
      "cell_type": "code",
      "metadata": {
        "colab": {
          "base_uri": "https://localhost:8080/",
          "height": 295
        },
        "id": "AVTzfTpoWJM0",
        "outputId": "3102209d-2f96-44a7-d80f-370e90765a2e"
      },
      "source": [
        "plt.plot(log_macro_df)\n",
        "plt.title('Gross National Income & Final & Final Consumption Expenditure')\n",
        "plt.xlabel('Year')\n",
        "plt.ylabel('log level data')\n",
        "plt.gca().legend(('Final Consumption Expenditure', 'Gross National Income'))\n",
        "plt.show()"
      ],
      "execution_count": null,
      "outputs": [
        {
          "output_type": "display_data",
          "data": {
            "image/png": "[encoded data removed]",
            "text/plain": [
              "<Figure size 432x288 with 1 Axes>"
            ]
          },
          "metadata": {
            "tags": [],
            "needs_background": "light"
          }
        }
      ]
    },
    {
      "cell_type": "code",
      "metadata": {
        "colab": {
          "base_uri": "https://localhost:8080/"
        },
        "id": "M2QJ4f_oWLHb",
        "outputId": "f6f52ed9-4011-4830-a8f6-8fc0e5b0de5b"
      },
      "source": [
        "# Performing Augmnted Dickey Fuller test (ADF): \n",
        "# The test is performed for \n",
        "# Final Consumption Expenditure (constant LCU)\n",
        "# “nc” : no constant, no trend\n",
        "# “ct” : constant and trend.\n",
        "# “c” : constant only.\n",
        "for i in ['nc', 'c', 'ct']:\n",
        "    result = adfuller(log_macro_df['FCE (const LCU)'],  autolag = 'AIC',  regression = i)\n",
        "    print('ADF Statistic with %s for final consumption expenditure (constant LCU): %f' % (i, result[0]))\n",
        "    print('p-value: %f' % result[1])\n",
        "    print('Critical values for the test statistic at the 1 %, 5 %, and 10 % levels')\n",
        "    print((result[4]))\n",
        "    print('')"
      ],
      "execution_count": null,
      "outputs": [
        {
          "output_type": "stream",
          "text": [
            "ADF Statistic with nc for final consumption expenditure (constant LCU): 3.869565\n",
            "p-value: 1.000000\n",
            "Critical values for the test statistic at the 1 %, 5 %, and 10 % levels\n",
            "{'1%': -2.6138933854166666, '5%': -1.9477740107783565, '10%': -1.6122352705439813}\n",
            "\n",
            "ADF Statistic with c for final consumption expenditure (constant LCU): -0.576059\n",
            "p-value: 0.876301\n",
            "Critical values for the test statistic at the 1 %, 5 %, and 10 % levels\n",
            "{'1%': -3.5745892596209488, '5%': -2.9239543084490744, '10%': -2.6000391840277777}\n",
            "\n",
            "ADF Statistic with ct for final consumption expenditure (constant LCU): -2.869385\n",
            "p-value: 0.172628\n",
            "Critical values for the test statistic at the 1 %, 5 %, and 10 % levels\n",
            "{'1%': -4.160927854094329, '5%': -3.5062888245081014, '10%': -3.1828225911458334}\n",
            "\n"
          ],
          "name": "stdout"
        }
      ]
    },
    {
      "cell_type": "code",
      "metadata": {
        "colab": {
          "base_uri": "https://localhost:8080/"
        },
        "id": "Y4_CCQv4Wg2N",
        "outputId": "10167201-d64a-4cbc-810e-244632cc0886"
      },
      "source": [
        "# Performing Augmnted Dickey Fuller test (ADF): \n",
        "# The test is performed for \n",
        "# Gross National Income (constant LCU), GNI\n",
        "# “nc” : no constant, no trend\n",
        "# “ct” : constant and trend.\n",
        "# “c” : constant only.\n",
        "for i in ['nc', 'c', 'ct']:\n",
        "    result = adfuller(log_macro_df['GNI (constant LCU)'],  autolag = 'AIC',  regression = i)\n",
        "    print('ADF Statistic with %s for gross national income (constant LCU): %f' % (i, result[0]))\n",
        "    print('p-value: %f' % result[1])\n",
        "    print('Critical values for the test statistic at the 1 %, 5 %, and 10 % levels')\n",
        "    print((result[4]))\n",
        "    print('')"
      ],
      "execution_count": null,
      "outputs": [
        {
          "output_type": "stream",
          "text": [
            "ADF Statistic with nc for gross national income (constant LCU): 3.425778\n",
            "p-value: 0.999986\n",
            "Critical values for the test statistic at the 1 %, 5 %, and 10 % levels\n",
            "{'1%': -2.6138933854166666, '5%': -1.9477740107783565, '10%': -1.6122352705439813}\n",
            "\n",
            "ADF Statistic with c for gross national income (constant LCU): -0.002999\n",
            "p-value: 0.958283\n",
            "Critical values for the test statistic at the 1 %, 5 %, and 10 % levels\n",
            "{'1%': -3.5745892596209488, '5%': -2.9239543084490744, '10%': -2.6000391840277777}\n",
            "\n",
            "ADF Statistic with ct for gross national income (constant LCU): -2.309936\n",
            "p-value: 0.428462\n",
            "Critical values for the test statistic at the 1 %, 5 %, and 10 % levels\n",
            "{'1%': -4.160927854094329, '5%': -3.5062888245081014, '10%': -3.1828225911458334}\n",
            "\n"
          ],
          "name": "stdout"
        }
      ]
    },
    {
      "cell_type": "code",
      "metadata": {
        "id": "aT1QHHeIWnjW"
      },
      "source": [
        "# Taking first difference to account for non stationarity:\n",
        "\n",
        "log_fce_diff = log_macro_df['FCE (const LCU)'].diff()[1:] # taking index at 1 to avoid NaN value after differencing\n",
        "log_gni_diff = log_macro_df['GNI (constant LCU)'].diff()[1:] # taking index at 1 to avoid NaN value after differencing"
      ],
      "execution_count": null,
      "outputs": []
    },
    {
      "cell_type": "code",
      "metadata": {
        "colab": {
          "base_uri": "https://localhost:8080/"
        },
        "id": "LcyOLiM1WvPl",
        "outputId": "9411d5e9-e8eb-44da-cb19-82d11bb7ef0c"
      },
      "source": [
        "# Performing Augmnted Dickey Fuller test (ADF): \n",
        "# The test is performed for \n",
        "# DIFFRENCED Final Consumption Expenditure (constant LCU), GNI\n",
        "# “nc” : no constant, no trend\n",
        "# “ct” : constant and trend.\n",
        "# “c” : constant only.\n",
        "for i in ['nc', 'c', 'ct']:\n",
        "    result = adfuller(log_fce_diff,  autolag = 'AIC',  regression = i)\n",
        "    print('ADF Statistic with %s for final consumption expenditure (constant LCU): %f' % (i, result[0]))\n",
        "    print('p-value: %f' % result[1])\n",
        "    print('Critical values for the test statistic at the 1 %, 5 %, and 10 % levels')\n",
        "    print((result[4]))\n",
        "    print('')"
      ],
      "execution_count": null,
      "outputs": [
        {
          "output_type": "stream",
          "text": [
            "ADF Statistic with nc for final consumption expenditure (constant LCU): -2.385399\n",
            "p-value: 0.016448\n",
            "Critical values for the test statistic at the 1 %, 5 %, and 10 % levels\n",
            "{'1%': -2.6138933854166666, '5%': -1.9477740107783565, '10%': -1.6122352705439813}\n",
            "\n",
            "ADF Statistic with c for final consumption expenditure (constant LCU): -4.738684\n",
            "p-value: 0.000071\n",
            "Critical values for the test statistic at the 1 %, 5 %, and 10 % levels\n",
            "{'1%': -3.5745892596209488, '5%': -2.9239543084490744, '10%': -2.6000391840277777}\n",
            "\n",
            "ADF Statistic with ct for final consumption expenditure (constant LCU): -4.683568\n",
            "p-value: 0.000745\n",
            "Critical values for the test statistic at the 1 %, 5 %, and 10 % levels\n",
            "{'1%': -4.160927854094329, '5%': -3.5062888245081014, '10%': -3.1828225911458334}\n",
            "\n"
          ],
          "name": "stdout"
        }
      ]
    },
    {
      "cell_type": "code",
      "metadata": {
        "colab": {
          "base_uri": "https://localhost:8080/"
        },
        "id": "6hx-nvXPSzGk",
        "outputId": "c49ca71a-78df-4ca2-9704-ee69e79c1ccb"
      },
      "source": [
        "# Performing Augmnted Dickey Fuller test (ADF): \n",
        "# The test is performed for \n",
        "# DIFFRENCED Gross National Income (constant LCU), GNI\n",
        "# “nc” : no constant, no trend\n",
        "# “ct” : constant and trend.\n",
        "# “c” : constant only.\n",
        "for i in ['nc', 'c', 'ct']:\n",
        "    result = adfuller(log_gni_diff,  autolag = 'AIC',  regression = i)\n",
        "    print('ADF Statistic with %s for differenced gross national income (constant LCU): %f' % (i, result[0]))\n",
        "    print('p-value: %f' % result[1])\n",
        "    print('Critical values for the test statistic at the 1 %, 5 %, and 10 % levels')\n",
        "    print((result[4]))\n",
        "    print('')"
      ],
      "execution_count": null,
      "outputs": [
        {
          "output_type": "stream",
          "text": [
            "ADF Statistic with nc for differenced gross national income (constant LCU): -3.416755\n",
            "p-value: 0.000651\n",
            "Critical values for the test statistic at the 1 %, 5 %, and 10 % levels\n",
            "{'1%': -2.6138933854166666, '5%': -1.9477740107783565, '10%': -1.6122352705439813}\n",
            "\n",
            "ADF Statistic with c for differenced gross national income (constant LCU): -5.106654\n",
            "p-value: 0.000014\n",
            "Critical values for the test statistic at the 1 %, 5 %, and 10 % levels\n",
            "{'1%': -3.5745892596209488, '5%': -2.9239543084490744, '10%': -2.6000391840277777}\n",
            "\n",
            "ADF Statistic with ct for differenced gross national income (constant LCU): -5.069014\n",
            "p-value: 0.000154\n",
            "Critical values for the test statistic at the 1 %, 5 %, and 10 % levels\n",
            "{'1%': -4.160927854094329, '5%': -3.5062888245081014, '10%': -3.1828225911458334}\n",
            "\n"
          ],
          "name": "stdout"
        }
      ]
    },
    {
      "cell_type": "code",
      "metadata": {
        "colab": {
          "base_uri": "https://localhost:8080/"
        },
        "id": "3iDS_w5rVdMl",
        "outputId": "fb2afd3d-f63a-4982-c801-ea6cf521dfb0"
      },
      "source": [
        "# Running regression:\n",
        "# adds a constant term\n",
        "X = sm.add_constant(log_macro_df['GNI (constant LCU)'])\n",
        "y = log_macro_df['FCE (const LCU)']\n",
        "# create and fit the model:\n",
        "model = sm.OLS(y, X)\n",
        "model_fit = model.fit(cov_type='HC0')# cov_type specifies the useage of heteroskedasticity robust standard errors\n",
        "# prints a summary\n",
        "print(model_fit.summary())"
      ],
      "execution_count": null,
      "outputs": [
        {
          "output_type": "stream",
          "text": [
            "                            OLS Regression Results                            \n",
            "==============================================================================\n",
            "Dep. Variable:        FCE (const LCU)   R-squared:                       0.981\n",
            "Model:                            OLS   Adj. R-squared:                  0.981\n",
            "Method:                 Least Squares   F-statistic:                     2464.\n",
            "Date:                Mon, 12 Apr 2021   Prob (F-statistic):           6.49e-43\n",
            "Time:                        06:39:16   Log-Likelihood:                 99.245\n",
            "No. Observations:                  50   AIC:                            -194.5\n",
            "Df Residuals:                      48   BIC:                            -190.7\n",
            "Df Model:                           1                                         \n",
            "Covariance Type:                  HC0                                         \n",
            "======================================================================================\n",
            "                         coef    std err          z      P>|z|      [0.025      0.975]\n",
            "--------------------------------------------------------------------------------------\n",
            "const                  6.6823      0.439     15.238      0.000       5.823       7.542\n",
            "GNI (constant LCU)     0.7580      0.015     49.639      0.000       0.728       0.788\n",
            "==============================================================================\n",
            "Omnibus:                        0.138   Durbin-Watson:                   0.209\n",
            "Prob(Omnibus):                  0.933   Jarque-Bera (JB):                0.054\n",
            "Skew:                          -0.071   Prob(JB):                        0.974\n",
            "Kurtosis:                       2.925   Cond. No.                     2.57e+03\n",
            "==============================================================================\n",
            "\n",
            "Warnings:\n",
            "[1] Standard Errors are heteroscedasticity robust (HC0)\n",
            "[2] The condition number is large, 2.57e+03. This might indicate that there are\n",
            "strong multicollinearity or other numerical problems.\n"
          ],
          "name": "stdout"
        }
      ]
    },
    {
      "cell_type": "code",
      "metadata": {
        "id": "7eLeuvt7ipUG"
      },
      "source": [
        ""
      ],
      "execution_count": null,
      "outputs": []
    },
    {
      "cell_type": "code",
      "metadata": {
        "colab": {
          "base_uri": "https://localhost:8080/"
        },
        "id": "QPf12E4kcnfe",
        "outputId": "eeba03af-86c6-43d4-8f1e-8e3524e6b2e5"
      },
      "source": [
        "# Performing Augmnted Dickey Fuller test (ADF): \n",
        "# The test is performed for \n",
        "# Residuals of the regression model\n",
        "# “nc” : no constant, no trend\n",
        "# “ct” : constant and trend.\n",
        "# “c” : constant only.\n",
        "for i in ['nc', 'c', 'ct']:\n",
        "    result = adfuller(model_fit.resid,  autolag = 'AIC',  regression = i)\n",
        "    print('ADF Statistic with %s for residuals of the regression model: %f' % (i, result[0]))\n",
        "    print('p-value: %f' % result[1])\n",
        "    print('Critical values for the test statistic at the 1 %, 5 %, and 10 % levels')\n",
        "    print((result[4]))\n",
        "    print('')\n",
        "\n"
      ],
      "execution_count": null,
      "outputs": [
        {
          "output_type": "stream",
          "text": [
            "ADF Statistic with nc for residuals of the regression model: -2.690710\n",
            "p-value: 0.006930\n",
            "Critical values for the test statistic at the 1 %, 5 %, and 10 % levels\n",
            "{'1%': -2.6138933854166666, '5%': -1.9477740107783565, '10%': -1.6122352705439813}\n",
            "\n",
            "ADF Statistic with c for residuals of the regression model: -2.678219\n",
            "p-value: 0.077884\n",
            "Critical values for the test statistic at the 1 %, 5 %, and 10 % levels\n",
            "{'1%': -3.5745892596209488, '5%': -2.9239543084490744, '10%': -2.6000391840277777}\n",
            "\n",
            "ADF Statistic with ct for residuals of the regression model: -2.617397\n",
            "p-value: 0.271950\n",
            "Critical values for the test statistic at the 1 %, 5 %, and 10 % levels\n",
            "{'1%': -4.160927854094329, '5%': -3.5062888245081014, '10%': -3.1828225911458334}\n",
            "\n"
          ],
          "name": "stdout"
        }
      ]
    },
    {
      "cell_type": "code",
      "metadata": {
        "id": "UOgKcuAzctba"
      },
      "source": [
        "# Preparing data for the ECM:\n",
        "\n",
        "X['error_cor_term'] = model_fit.resid # adding resid term from the regression model\n",
        "X['error_cor_term'] = X['error_cor_term'].shift(1) # Shifting residuals to make the series lagged\n",
        "X['GNI (constant LCU)'] = X[\"GNI (constant LCU)\"].diff()[1:]\n",
        "\n",
        "# adding lags to final consumption and gross national income:\n",
        "# adds 4  lags for the differenced final consumption expenditure:\n",
        "for i in range(1, 5):\n",
        "    new_col = 'FCE_L' + str(i)\n",
        "    X[new_col] = log_fce_diff.shift(i)\n",
        "# adds 4 lags for the differenced final consumption expenditure:\n",
        "for i in range(1, 5):\n",
        "    new_col = 'GNI_L' + str(i)\n",
        "    X[new_col] = log_gni_diff.shift(i)\n",
        "\n",
        "# droping rows with NaN values after lagging the variables\n",
        "X = X.dropna()\n",
        "y = y.diff()[1:]\n"
      ],
      "execution_count": null,
      "outputs": []
    },
    {
      "cell_type": "code",
      "metadata": {
        "id": "REDQsEnezTQ0"
      },
      "source": [
        ""
      ],
      "execution_count": null,
      "outputs": []
    },
    {
      "cell_type": "code",
      "metadata": {
        "id": "aMs1kx9ptIZj"
      },
      "source": [
        "ts_start_after_lags = X.index[0]\n",
        "y = y.loc[ts_start_after_lags:]\n"
      ],
      "execution_count": null,
      "outputs": []
    },
    {
      "cell_type": "code",
      "metadata": {
        "colab": {
          "base_uri": "https://localhost:8080/"
        },
        "id": "4MxDHkBFtbtX",
        "outputId": "27c1dceb-9152-42d9-b319-c05d31b0e4ec"
      },
      "source": [
        "# Running ECM:\n",
        "# estimates a linear regression\n",
        "ecm_model = sm.OLS(y,X)\n",
        "ecm_model_fit=ecm_model.fit(cov_type='HC0')\n",
        "\n",
        "# prints a summary\n",
        "print(ecm_model_fit.summary())"
      ],
      "execution_count": null,
      "outputs": [
        {
          "output_type": "stream",
          "text": [
            "                            OLS Regression Results                            \n",
            "==============================================================================\n",
            "Dep. Variable:        FCE (const LCU)   R-squared:                       0.563\n",
            "Model:                            OLS   Adj. R-squared:                  0.434\n",
            "Method:                 Least Squares   F-statistic:                     6.251\n",
            "Date:                Mon, 12 Apr 2021   Prob (F-statistic):           2.36e-05\n",
            "Time:                        06:39:57   Log-Likelihood:                 151.62\n",
            "No. Observations:                  45   AIC:                            -281.2\n",
            "Df Residuals:                      34   BIC:                            -261.4\n",
            "Df Model:                          10                                         \n",
            "Covariance Type:                  HC0                                         \n",
            "======================================================================================\n",
            "                         coef    std err          z      P>|z|      [0.025      0.975]\n",
            "--------------------------------------------------------------------------------------\n",
            "const                  0.0121      0.003      3.660      0.000       0.006       0.019\n",
            "GNI (constant LCU)     0.2718      0.056      4.883      0.000       0.163       0.381\n",
            "error_cor_term        -0.1617      0.050     -3.240      0.001      -0.260      -0.064\n",
            "FCE_L1                 0.2276      0.109      2.087      0.037       0.014       0.441\n",
            "FCE_L2                 0.0401      0.118      0.339      0.734      -0.191       0.272\n",
            "FCE_L3                -0.0272      0.164     -0.166      0.868      -0.348       0.294\n",
            "FCE_L4                -0.1614      0.125     -1.289      0.197      -0.407       0.084\n",
            "GNI_L1                -0.0711      0.048     -1.485      0.137      -0.165       0.023\n",
            "GNI_L2                -0.0220      0.058     -0.378      0.705      -0.136       0.092\n",
            "GNI_L3                 0.0567      0.048      1.181      0.238      -0.037       0.151\n",
            "GNI_L4                -0.0247      0.058     -0.429      0.668      -0.138       0.088\n",
            "==============================================================================\n",
            "Omnibus:                        0.157   Durbin-Watson:                   1.989\n",
            "Prob(Omnibus):                  0.924   Jarque-Bera (JB):                0.055\n",
            "Skew:                           0.077   Prob(JB):                        0.973\n",
            "Kurtosis:                       2.926   Cond. No.                         134.\n",
            "==============================================================================\n",
            "\n",
            "Warnings:\n",
            "[1] Standard Errors are heteroscedasticity robust (HC0)\n"
          ],
          "name": "stdout"
        }
      ]
    },
    {
      "cell_type": "code",
      "metadata": {
        "colab": {
          "base_uri": "https://localhost:8080/",
          "height": 228
        },
        "id": "6LAeHgFAwIOD",
        "outputId": "da531005-cdd7-43cb-8800-6a205c638d52"
      },
      "source": [
        "X.head()"
      ],
      "execution_count": null,
      "outputs": [
        {
          "output_type": "execute_result",
          "data": {
            "text/html": [
              "<div>\n",
              "<style scoped>\n",
              "    .dataframe tbody tr th:only-of-type {\n",
              "        vertical-align: middle;\n",
              "    }\n",
              "\n",
              "    .dataframe tbody tr th {\n",
              "        vertical-align: top;\n",
              "    }\n",
              "\n",
              "    .dataframe thead th {\n",
              "        text-align: right;\n",
              "    }\n",
              "</style>\n",
              "<table border=\"1\" class=\"dataframe\">\n",
              "  <thead>\n",
              "    <tr style=\"text-align: right;\">\n",
              "      <th></th>\n",
              "      <th>const</th>\n",
              "      <th>GNI (constant LCU)</th>\n",
              "      <th>error_cor_term</th>\n",
              "      <th>FCE_L1</th>\n",
              "      <th>FCE_L2</th>\n",
              "      <th>FCE_L3</th>\n",
              "      <th>FCE_L4</th>\n",
              "      <th>GNI_L1</th>\n",
              "      <th>GNI_L2</th>\n",
              "      <th>GNI_L3</th>\n",
              "      <th>GNI_L4</th>\n",
              "    </tr>\n",
              "    <tr>\n",
              "      <th>Year</th>\n",
              "      <th></th>\n",
              "      <th></th>\n",
              "      <th></th>\n",
              "      <th></th>\n",
              "      <th></th>\n",
              "      <th></th>\n",
              "      <th></th>\n",
              "      <th></th>\n",
              "      <th></th>\n",
              "      <th></th>\n",
              "      <th></th>\n",
              "    </tr>\n",
              "  </thead>\n",
              "  <tbody>\n",
              "    <tr>\n",
              "      <th>1975</th>\n",
              "      <td>1.0</td>\n",
              "      <td>28.267813</td>\n",
              "      <td>-0.045321</td>\n",
              "      <td>0.032167</td>\n",
              "      <td>0.025539</td>\n",
              "      <td>0.030530</td>\n",
              "      <td>0.007892</td>\n",
              "      <td>0.031318</td>\n",
              "      <td>0.040621</td>\n",
              "      <td>0.023387</td>\n",
              "      <td>0.010686</td>\n",
              "    </tr>\n",
              "    <tr>\n",
              "      <th>1976</th>\n",
              "      <td>1.0</td>\n",
              "      <td>28.278466</td>\n",
              "      <td>-0.030787</td>\n",
              "      <td>0.033589</td>\n",
              "      <td>0.032167</td>\n",
              "      <td>0.025539</td>\n",
              "      <td>0.030530</td>\n",
              "      <td>0.025140</td>\n",
              "      <td>0.031318</td>\n",
              "      <td>0.040621</td>\n",
              "      <td>0.023387</td>\n",
              "    </tr>\n",
              "    <tr>\n",
              "      <th>1977</th>\n",
              "      <td>1.0</td>\n",
              "      <td>28.260682</td>\n",
              "      <td>-0.000587</td>\n",
              "      <td>0.038275</td>\n",
              "      <td>0.033589</td>\n",
              "      <td>0.032167</td>\n",
              "      <td>0.025539</td>\n",
              "      <td>0.010654</td>\n",
              "      <td>0.025140</td>\n",
              "      <td>0.031318</td>\n",
              "      <td>0.040621</td>\n",
              "    </tr>\n",
              "    <tr>\n",
              "      <th>1978</th>\n",
              "      <td>1.0</td>\n",
              "      <td>28.278964</td>\n",
              "      <td>0.016151</td>\n",
              "      <td>0.003258</td>\n",
              "      <td>0.038275</td>\n",
              "      <td>0.033589</td>\n",
              "      <td>0.032167</td>\n",
              "      <td>-0.017784</td>\n",
              "      <td>0.010654</td>\n",
              "      <td>0.025140</td>\n",
              "      <td>0.031318</td>\n",
              "    </tr>\n",
              "    <tr>\n",
              "      <th>1979</th>\n",
              "      <td>1.0</td>\n",
              "      <td>28.316913</td>\n",
              "      <td>0.009228</td>\n",
              "      <td>0.006935</td>\n",
              "      <td>0.003258</td>\n",
              "      <td>0.038275</td>\n",
              "      <td>0.033589</td>\n",
              "      <td>0.018282</td>\n",
              "      <td>-0.017784</td>\n",
              "      <td>0.010654</td>\n",
              "      <td>0.025140</td>\n",
              "    </tr>\n",
              "  </tbody>\n",
              "</table>\n",
              "</div>"
            ],
            "text/plain": [
              "      const  GNI (constant LCU)  error_cor_term  ...    GNI_L2    GNI_L3    GNI_L4\n",
              "Year                                             ...                              \n",
              "1975    1.0           28.267813       -0.045321  ...  0.040621  0.023387  0.010686\n",
              "1976    1.0           28.278466       -0.030787  ...  0.031318  0.040621  0.023387\n",
              "1977    1.0           28.260682       -0.000587  ...  0.025140  0.031318  0.040621\n",
              "1978    1.0           28.278964        0.016151  ...  0.010654  0.025140  0.031318\n",
              "1979    1.0           28.316913        0.009228  ... -0.017784  0.010654  0.025140\n",
              "\n",
              "[5 rows x 11 columns]"
            ]
          },
          "metadata": {
            "tags": []
          },
          "execution_count": 76
        }
      ]
    },
    {
      "cell_type": "code",
      "metadata": {
        "id": "HzhlVzfzyz_z"
      },
      "source": [
        "X_2 = X[['const', 'GNI (constant LCU)', 'error_cor_term', 'FCE_L1','FCE_L2', 'GNI_L1','GNI_L2']]"
      ],
      "execution_count": null,
      "outputs": []
    },
    {
      "cell_type": "code",
      "metadata": {
        "colab": {
          "base_uri": "https://localhost:8080/"
        },
        "id": "dpvNgtOzz4Lf",
        "outputId": "e8072494-fca4-426b-b8ec-79731b643725"
      },
      "source": [
        "# Running ECM with lags 1 and 2 for GNI and Consumption:\n",
        "# estimates a linear regression\n",
        "ecm_model = sm.OLS(y,X_2)\n",
        "ecm_model_fit=ecm_model.fit(cov_type='HC0')\n",
        "\n",
        "# prints a summary\n",
        "print(ecm_model_fit.summary())"
      ],
      "execution_count": null,
      "outputs": [
        {
          "output_type": "stream",
          "text": [
            "                            OLS Regression Results                            \n",
            "==============================================================================\n",
            "Dep. Variable:        FCE (const LCU)   R-squared:                       0.526\n",
            "Model:                            OLS   Adj. R-squared:                  0.451\n",
            "Method:                 Least Squares   F-statistic:                     9.484\n",
            "Date:                Mon, 12 Apr 2021   Prob (F-statistic):           2.26e-06\n",
            "Time:                        06:43:16   Log-Likelihood:                 149.79\n",
            "No. Observations:                  45   AIC:                            -285.6\n",
            "Df Residuals:                      38   BIC:                            -272.9\n",
            "Df Model:                           6                                         \n",
            "Covariance Type:                  HC0                                         \n",
            "======================================================================================\n",
            "                         coef    std err          z      P>|z|      [0.025      0.975]\n",
            "--------------------------------------------------------------------------------------\n",
            "const                  0.0087      0.003      2.848      0.004       0.003       0.015\n",
            "GNI (constant LCU)     0.2936      0.054      5.483      0.000       0.189       0.398\n",
            "error_cor_term        -0.1507      0.049     -3.068      0.002      -0.247      -0.054\n",
            "FCE_L1                 0.2307      0.111      2.078      0.038       0.013       0.448\n",
            "FCE_L2                -0.0123      0.095     -0.129      0.897      -0.199       0.175\n",
            "GNI_L1                -0.0807      0.033     -2.420      0.016      -0.146      -0.015\n",
            "GNI_L2                 0.0404      0.049      0.816      0.414      -0.057       0.137\n",
            "==============================================================================\n",
            "Omnibus:                        0.185   Durbin-Watson:                   2.013\n",
            "Prob(Omnibus):                  0.912   Jarque-Bera (JB):                0.325\n",
            "Skew:                          -0.133   Prob(JB):                        0.850\n",
            "Kurtosis:                       2.680   Cond. No.                         122.\n",
            "==============================================================================\n",
            "\n",
            "Warnings:\n",
            "[1] Standard Errors are heteroscedasticity robust (HC0)\n"
          ],
          "name": "stdout"
        }
      ]
    },
    {
      "cell_type": "code",
      "metadata": {
        "id": "haKy9-1ez-M0"
      },
      "source": [
        "X_1 = X[['const', 'GNI (constant LCU)', 'error_cor_term', 'FCE_L1', 'GNI_L1']]"
      ],
      "execution_count": null,
      "outputs": []
    },
    {
      "cell_type": "code",
      "metadata": {
        "colab": {
          "base_uri": "https://localhost:8080/"
        },
        "id": "kpQ13Odx0eu6",
        "outputId": "91716765-274a-435f-afdf-e7c461351128"
      },
      "source": [
        "# Running ECM with lags 1 and 2 for GNI and Consumption:\n",
        "# estimates a linear regression\n",
        "ecm_model = sm.OLS(y,X_1)\n",
        "ecm_model_fit=ecm_model.fit(cov_type='HC0')\n",
        "\n",
        "# prints a summary\n",
        "print(ecm_model_fit.summary())"
      ],
      "execution_count": null,
      "outputs": [
        {
          "output_type": "stream",
          "text": [
            "                            OLS Regression Results                            \n",
            "==============================================================================\n",
            "Dep. Variable:        FCE (const LCU)   R-squared:                       0.522\n",
            "Model:                            OLS   Adj. R-squared:                  0.474\n",
            "Method:                 Least Squares   F-statistic:                     12.99\n",
            "Date:                Mon, 12 Apr 2021   Prob (F-statistic):           7.20e-07\n",
            "Time:                        06:45:00   Log-Likelihood:                 149.61\n",
            "No. Observations:                  45   AIC:                            -289.2\n",
            "Df Residuals:                      40   BIC:                            -280.2\n",
            "Df Model:                           4                                         \n",
            "Covariance Type:                  HC0                                         \n",
            "======================================================================================\n",
            "                         coef    std err          z      P>|z|      [0.025      0.975]\n",
            "--------------------------------------------------------------------------------------\n",
            "const                  0.0093      0.003      3.441      0.001       0.004       0.015\n",
            "GNI (constant LCU)     0.2886      0.054      5.383      0.000       0.184       0.394\n",
            "error_cor_term        -0.1634      0.047     -3.490      0.000      -0.255      -0.072\n",
            "FCE_L1                 0.2358      0.106      2.221      0.026       0.028       0.444\n",
            "GNI_L1                -0.0765      0.037     -2.066      0.039      -0.149      -0.004\n",
            "==============================================================================\n",
            "Omnibus:                        0.264   Durbin-Watson:                   1.976\n",
            "Prob(Omnibus):                  0.877   Jarque-Bera (JB):                0.397\n",
            "Skew:                          -0.159   Prob(JB):                        0.820\n",
            "Kurtosis:                       2.668   Cond. No.                         101.\n",
            "==============================================================================\n",
            "\n",
            "Warnings:\n",
            "[1] Standard Errors are heteroscedasticity robust (HC0)\n"
          ],
          "name": "stdout"
        }
      ]
    },
    {
      "cell_type": "code",
      "metadata": {
        "id": "XeqzryGC0hzS"
      },
      "source": [
        ""
      ],
      "execution_count": null,
      "outputs": []
    }
  ]
}