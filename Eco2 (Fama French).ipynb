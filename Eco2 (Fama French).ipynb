{
  "nbformat": 4,
  "nbformat_minor": 0,
  "metadata": {
    "colab": {
      "name": "Eco2.ipynb\"",
      "provenance": []
    },
    "kernelspec": {
      "name": "python3",
      "display_name": "Python 3"
    },
    "language_info": {
      "name": "python"
    }
  },
  "cells": [
    {
      "cell_type": "code",
      "metadata": {
        "id": "HHQxqUnVQDVu",
        "colab": {
          "base_uri": "https://localhost:8080/"
        },
        "outputId": "250236b1-3415-47aa-8945-ff897531ff48"
      },
      "source": [
        "import numpy as np \n",
        "import pandas as pd\n",
        "import matplotlib.pyplot as plt\n",
        "import seaborn as sbs\n",
        "from sklearn import linear_model\n",
        "import statsmodels.api as sm"
      ],
      "execution_count": null,
      "outputs": [
        {
          "output_type": "stream",
          "text": [
            "/usr/local/lib/python3.7/dist-packages/statsmodels/tools/_testing.py:19: FutureWarning: pandas.util.testing is deprecated. Use the functions in the public API at pandas.testing instead.\n",
            "  import pandas.util.testing as tm\n"
          ],
          "name": "stderr"
        }
      ]
    },
    {
      "cell_type": "markdown",
      "metadata": {
        "id": "M0RktIfPUkUO"
      },
      "source": [
        "# Preparing Data for analysis\n"
      ]
    },
    {
      "cell_type": "code",
      "metadata": {
        "id": "lr1a2fhzSb_o"
      },
      "source": [
        "fund_df = pd.read_excel('/assignment2.xlsx')\n",
        "pd.to_datetime(fund_df['Date'])\n",
        "fund_df=fund_df.set_index('Date')"
      ],
      "execution_count": null,
      "outputs": []
    },
    {
      "cell_type": "code",
      "metadata": {
        "colab": {
          "base_uri": "https://localhost:8080/",
          "height": 225
        },
        "id": "h97OuM8eTSeo",
        "outputId": "a5a21234-f65b-4880-b8b9-d82e8b317ed7"
      },
      "source": [
        "fund_df.head()"
      ],
      "execution_count": null,
      "outputs": [
        {
          "output_type": "execute_result",
          "data": {
            "text/html": [
              "<div>\n",
              "<style scoped>\n",
              "    .dataframe tbody tr th:only-of-type {\n",
              "        vertical-align: middle;\n",
              "    }\n",
              "\n",
              "    .dataframe tbody tr th {\n",
              "        vertical-align: top;\n",
              "    }\n",
              "\n",
              "    .dataframe thead th {\n",
              "        text-align: right;\n",
              "    }\n",
              "</style>\n",
              "<table border=\"1\" class=\"dataframe\">\n",
              "  <thead>\n",
              "    <tr style=\"text-align: right;\">\n",
              "      <th></th>\n",
              "      <th>Excess Return vs Mrkt</th>\n",
              "      <th>SML</th>\n",
              "      <th>HML</th>\n",
              "      <th>RFR</th>\n",
              "      <th>Return</th>\n",
              "    </tr>\n",
              "    <tr>\n",
              "      <th>Date</th>\n",
              "      <th></th>\n",
              "      <th></th>\n",
              "      <th></th>\n",
              "      <th></th>\n",
              "      <th></th>\n",
              "    </tr>\n",
              "  </thead>\n",
              "  <tbody>\n",
              "    <tr>\n",
              "      <th>2010-01-29</th>\n",
              "      <td>-0.0336</td>\n",
              "      <td>0.0037</td>\n",
              "      <td>0.0033</td>\n",
              "      <td>0.0000</td>\n",
              "      <td>-0.018528</td>\n",
              "    </tr>\n",
              "    <tr>\n",
              "      <th>2010-02-26</th>\n",
              "      <td>0.0340</td>\n",
              "      <td>0.0119</td>\n",
              "      <td>0.0319</td>\n",
              "      <td>0.0000</td>\n",
              "      <td>0.018339</td>\n",
              "    </tr>\n",
              "    <tr>\n",
              "      <th>2010-03-31</th>\n",
              "      <td>0.0631</td>\n",
              "      <td>0.0144</td>\n",
              "      <td>0.0211</td>\n",
              "      <td>0.0001</td>\n",
              "      <td>0.050318</td>\n",
              "    </tr>\n",
              "    <tr>\n",
              "      <th>2010-04-30</th>\n",
              "      <td>0.0200</td>\n",
              "      <td>0.0486</td>\n",
              "      <td>0.0291</td>\n",
              "      <td>0.0001</td>\n",
              "      <td>0.008069</td>\n",
              "    </tr>\n",
              "    <tr>\n",
              "      <th>2010-05-28</th>\n",
              "      <td>-0.0789</td>\n",
              "      <td>0.0014</td>\n",
              "      <td>-0.0239</td>\n",
              "      <td>0.0001</td>\n",
              "      <td>-0.065033</td>\n",
              "    </tr>\n",
              "  </tbody>\n",
              "</table>\n",
              "</div>"
            ],
            "text/plain": [
              "            Excess Return vs Mrkt     SML     HML     RFR    Return\n",
              "Date                                                               \n",
              "2010-01-29                -0.0336  0.0037  0.0033  0.0000 -0.018528\n",
              "2010-02-26                 0.0340  0.0119  0.0319  0.0000  0.018339\n",
              "2010-03-31                 0.0631  0.0144  0.0211  0.0001  0.050318\n",
              "2010-04-30                 0.0200  0.0486  0.0291  0.0001  0.008069\n",
              "2010-05-28                -0.0789  0.0014 -0.0239  0.0001 -0.065033"
            ]
          },
          "metadata": {
            "tags": []
          },
          "execution_count": 3
        }
      ]
    },
    {
      "cell_type": "code",
      "metadata": {
        "id": "5JTbtNfe5vwP"
      },
      "source": [
        "fund_df = fund_df.rename(columns={'Excess Return vs Mrkt': 'RMRF'})"
      ],
      "execution_count": null,
      "outputs": []
    },
    {
      "cell_type": "code",
      "metadata": {
        "colab": {
          "base_uri": "https://localhost:8080/",
          "height": 462
        },
        "id": "B5HYe4wRTbWd",
        "outputId": "ad50b7a5-5f3d-40b0-a6fb-7cd8acc824bf"
      },
      "source": [
        "fund_df['ReturnMinusRFR'] = fund_df['Return'] - fund_df['RFR']\n",
        "fund_df.head(13)"
      ],
      "execution_count": null,
      "outputs": [
        {
          "output_type": "execute_result",
          "data": {
            "text/html": [
              "<div>\n",
              "<style scoped>\n",
              "    .dataframe tbody tr th:only-of-type {\n",
              "        vertical-align: middle;\n",
              "    }\n",
              "\n",
              "    .dataframe tbody tr th {\n",
              "        vertical-align: top;\n",
              "    }\n",
              "\n",
              "    .dataframe thead th {\n",
              "        text-align: right;\n",
              "    }\n",
              "</style>\n",
              "<table border=\"1\" class=\"dataframe\">\n",
              "  <thead>\n",
              "    <tr style=\"text-align: right;\">\n",
              "      <th></th>\n",
              "      <th>RMRF</th>\n",
              "      <th>SML</th>\n",
              "      <th>HML</th>\n",
              "      <th>RFR</th>\n",
              "      <th>Return</th>\n",
              "      <th>ReturnMinusRFR</th>\n",
              "    </tr>\n",
              "    <tr>\n",
              "      <th>Date</th>\n",
              "      <th></th>\n",
              "      <th></th>\n",
              "      <th></th>\n",
              "      <th></th>\n",
              "      <th></th>\n",
              "      <th></th>\n",
              "    </tr>\n",
              "  </thead>\n",
              "  <tbody>\n",
              "    <tr>\n",
              "      <th>2010-01-29</th>\n",
              "      <td>-0.0336</td>\n",
              "      <td>0.0037</td>\n",
              "      <td>0.0033</td>\n",
              "      <td>0.0000</td>\n",
              "      <td>-0.018528</td>\n",
              "      <td>-0.018528</td>\n",
              "    </tr>\n",
              "    <tr>\n",
              "      <th>2010-02-26</th>\n",
              "      <td>0.0340</td>\n",
              "      <td>0.0119</td>\n",
              "      <td>0.0319</td>\n",
              "      <td>0.0000</td>\n",
              "      <td>0.018339</td>\n",
              "      <td>0.018339</td>\n",
              "    </tr>\n",
              "    <tr>\n",
              "      <th>2010-03-31</th>\n",
              "      <td>0.0631</td>\n",
              "      <td>0.0144</td>\n",
              "      <td>0.0211</td>\n",
              "      <td>0.0001</td>\n",
              "      <td>0.050318</td>\n",
              "      <td>0.050218</td>\n",
              "    </tr>\n",
              "    <tr>\n",
              "      <th>2010-04-30</th>\n",
              "      <td>0.0200</td>\n",
              "      <td>0.0486</td>\n",
              "      <td>0.0291</td>\n",
              "      <td>0.0001</td>\n",
              "      <td>0.008069</td>\n",
              "      <td>0.007969</td>\n",
              "    </tr>\n",
              "    <tr>\n",
              "      <th>2010-05-28</th>\n",
              "      <td>-0.0789</td>\n",
              "      <td>0.0014</td>\n",
              "      <td>-0.0239</td>\n",
              "      <td>0.0001</td>\n",
              "      <td>-0.065033</td>\n",
              "      <td>-0.065133</td>\n",
              "    </tr>\n",
              "    <tr>\n",
              "      <th>2010-06-30</th>\n",
              "      <td>-0.0557</td>\n",
              "      <td>-0.0184</td>\n",
              "      <td>-0.0452</td>\n",
              "      <td>0.0001</td>\n",
              "      <td>-0.039058</td>\n",
              "      <td>-0.039158</td>\n",
              "    </tr>\n",
              "    <tr>\n",
              "      <th>2010-07-30</th>\n",
              "      <td>0.0693</td>\n",
              "      <td>0.0018</td>\n",
              "      <td>-0.0036</td>\n",
              "      <td>0.0001</td>\n",
              "      <td>0.056236</td>\n",
              "      <td>0.056136</td>\n",
              "    </tr>\n",
              "    <tr>\n",
              "      <th>2010-08-31</th>\n",
              "      <td>-0.0477</td>\n",
              "      <td>-0.0302</td>\n",
              "      <td>-0.0190</td>\n",
              "      <td>0.0001</td>\n",
              "      <td>-0.033737</td>\n",
              "      <td>-0.033837</td>\n",
              "    </tr>\n",
              "    <tr>\n",
              "      <th>2010-09-30</th>\n",
              "      <td>0.0954</td>\n",
              "      <td>0.0393</td>\n",
              "      <td>-0.0323</td>\n",
              "      <td>0.0001</td>\n",
              "      <td>0.059786</td>\n",
              "      <td>0.059686</td>\n",
              "    </tr>\n",
              "    <tr>\n",
              "      <th>2010-10-29</th>\n",
              "      <td>0.0388</td>\n",
              "      <td>0.0107</td>\n",
              "      <td>-0.0246</td>\n",
              "      <td>0.0001</td>\n",
              "      <td>0.032225</td>\n",
              "      <td>0.032125</td>\n",
              "    </tr>\n",
              "    <tr>\n",
              "      <th>2010-11-30</th>\n",
              "      <td>0.0060</td>\n",
              "      <td>0.0378</td>\n",
              "      <td>-0.0095</td>\n",
              "      <td>0.0001</td>\n",
              "      <td>-0.016113</td>\n",
              "      <td>-0.016213</td>\n",
              "    </tr>\n",
              "    <tr>\n",
              "      <th>2010-12-31</th>\n",
              "      <td>0.0682</td>\n",
              "      <td>0.0068</td>\n",
              "      <td>0.0364</td>\n",
              "      <td>0.0001</td>\n",
              "      <td>0.059175</td>\n",
              "      <td>0.059075</td>\n",
              "    </tr>\n",
              "    <tr>\n",
              "      <th>2011-01-31</th>\n",
              "      <td>0.0199</td>\n",
              "      <td>-0.0252</td>\n",
              "      <td>0.0082</td>\n",
              "      <td>0.0001</td>\n",
              "      <td>0.020538</td>\n",
              "      <td>0.020438</td>\n",
              "    </tr>\n",
              "  </tbody>\n",
              "</table>\n",
              "</div>"
            ],
            "text/plain": [
              "              RMRF     SML     HML     RFR    Return  ReturnMinusRFR\n",
              "Date                                                                \n",
              "2010-01-29 -0.0336  0.0037  0.0033  0.0000 -0.018528       -0.018528\n",
              "2010-02-26  0.0340  0.0119  0.0319  0.0000  0.018339        0.018339\n",
              "2010-03-31  0.0631  0.0144  0.0211  0.0001  0.050318        0.050218\n",
              "2010-04-30  0.0200  0.0486  0.0291  0.0001  0.008069        0.007969\n",
              "2010-05-28 -0.0789  0.0014 -0.0239  0.0001 -0.065033       -0.065133\n",
              "2010-06-30 -0.0557 -0.0184 -0.0452  0.0001 -0.039058       -0.039158\n",
              "2010-07-30  0.0693  0.0018 -0.0036  0.0001  0.056236        0.056136\n",
              "2010-08-31 -0.0477 -0.0302 -0.0190  0.0001 -0.033737       -0.033837\n",
              "2010-09-30  0.0954  0.0393 -0.0323  0.0001  0.059786        0.059686\n",
              "2010-10-29  0.0388  0.0107 -0.0246  0.0001  0.032225        0.032125\n",
              "2010-11-30  0.0060  0.0378 -0.0095  0.0001 -0.016113       -0.016213\n",
              "2010-12-31  0.0682  0.0068  0.0364  0.0001  0.059175        0.059075\n",
              "2011-01-31  0.0199 -0.0252  0.0082  0.0001  0.020538        0.020438"
            ]
          },
          "metadata": {
            "tags": []
          },
          "execution_count": 5
        }
      ]
    },
    {
      "cell_type": "markdown",
      "metadata": {
        "id": "2RwPZlK0cAM7"
      },
      "source": [
        "## Part 1: Running Lenear Regression model:"
      ]
    },
    {
      "cell_type": "code",
      "metadata": {
        "id": "3u2-UrrTVaQN"
      },
      "source": [
        "# preparing data to input it into the modeL: \n",
        "X = fund_df[['RMRF', 'SML', 'HML']]\n",
        "y = fund_df[['ReturnMinusRFR']]"
      ],
      "execution_count": null,
      "outputs": []
    },
    {
      "cell_type": "code",
      "metadata": {
        "colab": {
          "base_uri": "https://localhost:8080/"
        },
        "id": "Oi0GokWKdUr2",
        "outputId": "6b2353a1-1e74-445f-ed17-8c23ea659584"
      },
      "source": [
        "FF_lm = linear_model.LinearRegression()\n",
        "FF_lm.fit(X,y)"
      ],
      "execution_count": null,
      "outputs": [
        {
          "output_type": "execute_result",
          "data": {
            "text/plain": [
              "LinearRegression(copy_X=True, fit_intercept=True, n_jobs=None, normalize=False)"
            ]
          },
          "metadata": {
            "tags": []
          },
          "execution_count": 8
        }
      ]
    },
    {
      "cell_type": "code",
      "metadata": {
        "colab": {
          "base_uri": "https://localhost:8080/"
        },
        "id": "lIjjWXSHofQY",
        "outputId": "358eb425-b431-49b6-d385-9c21efd3fc5f"
      },
      "source": [
        "print(FF_lm.coef_)\n",
        "print(FF_lm.intercept_)"
      ],
      "execution_count": null,
      "outputs": [
        {
          "output_type": "stream",
          "text": [
            "[[ 0.842325   -0.10659514  0.17683967]]\n",
            "[-0.00239465]\n"
          ],
          "name": "stdout"
        }
      ]
    },
    {
      "cell_type": "code",
      "metadata": {
        "colab": {
          "base_uri": "https://localhost:8080/",
          "height": 466
        },
        "id": "N49O-QZkdgY7",
        "outputId": "1d91afd1-b9be-4b79-d819-b0b91e384676"
      },
      "source": [
        "# preparing data to input it into the modeL: \n",
        "X = fund_df[['RMRF', 'SML', 'HML']]\n",
        "y = fund_df[['ReturnMinusRFR']]\n",
        "# adding constant for the regression analysis\n",
        "X = sm.add_constant(X)\n",
        "# Creating model object\n",
        "model = sm.OLS(y,X)\n",
        "results = model.fit()\n",
        "results.summary()"
      ],
      "execution_count": null,
      "outputs": [
        {
          "output_type": "execute_result",
          "data": {
            "text/html": [
              "<table class=\"simpletable\">\n",
              "<caption>OLS Regression Results</caption>\n",
              "<tr>\n",
              "  <th>Dep. Variable:</th>     <td>ReturnMinusRFR</td>  <th>  R-squared:         </th> <td>   0.936</td>\n",
              "</tr>\n",
              "<tr>\n",
              "  <th>Model:</th>                   <td>OLS</td>       <th>  Adj. R-squared:    </th> <td>   0.935</td>\n",
              "</tr>\n",
              "<tr>\n",
              "  <th>Method:</th>             <td>Least Squares</td>  <th>  F-statistic:       </th> <td>   569.2</td>\n",
              "</tr>\n",
              "<tr>\n",
              "  <th>Date:</th>             <td>Mon, 22 Mar 2021</td> <th>  Prob (F-statistic):</th> <td>3.38e-69</td>\n",
              "</tr>\n",
              "<tr>\n",
              "  <th>Time:</th>                 <td>03:07:44</td>     <th>  Log-Likelihood:    </th> <td>  406.38</td>\n",
              "</tr>\n",
              "<tr>\n",
              "  <th>No. Observations:</th>      <td>   120</td>      <th>  AIC:               </th> <td>  -804.8</td>\n",
              "</tr>\n",
              "<tr>\n",
              "  <th>Df Residuals:</th>          <td>   116</td>      <th>  BIC:               </th> <td>  -793.6</td>\n",
              "</tr>\n",
              "<tr>\n",
              "  <th>Df Model:</th>              <td>     3</td>      <th>                     </th>     <td> </td>   \n",
              "</tr>\n",
              "<tr>\n",
              "  <th>Covariance Type:</th>      <td>nonrobust</td>    <th>                     </th>     <td> </td>   \n",
              "</tr>\n",
              "</table>\n",
              "<table class=\"simpletable\">\n",
              "<tr>\n",
              "    <td></td>       <th>coef</th>     <th>std err</th>      <th>t</th>      <th>P>|t|</th>  <th>[0.025</th>    <th>0.975]</th>  \n",
              "</tr>\n",
              "<tr>\n",
              "  <th>const</th> <td>   -0.0024</td> <td>    0.001</td> <td>   -2.982</td> <td> 0.003</td> <td>   -0.004</td> <td>   -0.001</td>\n",
              "</tr>\n",
              "<tr>\n",
              "  <th>RMRF</th>  <td>    0.8423</td> <td>    0.022</td> <td>   38.170</td> <td> 0.000</td> <td>    0.799</td> <td>    0.886</td>\n",
              "</tr>\n",
              "<tr>\n",
              "  <th>SML</th>   <td>   -0.1066</td> <td>    0.037</td> <td>   -2.914</td> <td> 0.004</td> <td>   -0.179</td> <td>   -0.034</td>\n",
              "</tr>\n",
              "<tr>\n",
              "  <th>HML</th>   <td>    0.1768</td> <td>    0.034</td> <td>    5.230</td> <td> 0.000</td> <td>    0.110</td> <td>    0.244</td>\n",
              "</tr>\n",
              "</table>\n",
              "<table class=\"simpletable\">\n",
              "<tr>\n",
              "  <th>Omnibus:</th>       <td> 3.705</td> <th>  Durbin-Watson:     </th> <td>   1.888</td>\n",
              "</tr>\n",
              "<tr>\n",
              "  <th>Prob(Omnibus):</th> <td> 0.157</td> <th>  Jarque-Bera (JB):  </th> <td>   3.132</td>\n",
              "</tr>\n",
              "<tr>\n",
              "  <th>Skew:</th>          <td>-0.367</td> <th>  Prob(JB):          </th> <td>   0.209</td>\n",
              "</tr>\n",
              "<tr>\n",
              "  <th>Kurtosis:</th>      <td> 3.298</td> <th>  Cond. No.          </th> <td>    49.8</td>\n",
              "</tr>\n",
              "</table><br/><br/>Warnings:<br/>[1] Standard Errors assume that the covariance matrix of the errors is correctly specified."
            ],
            "text/plain": [
              "<class 'statsmodels.iolib.summary.Summary'>\n",
              "\"\"\"\n",
              "                            OLS Regression Results                            \n",
              "==============================================================================\n",
              "Dep. Variable:         ReturnMinusRFR   R-squared:                       0.936\n",
              "Model:                            OLS   Adj. R-squared:                  0.935\n",
              "Method:                 Least Squares   F-statistic:                     569.2\n",
              "Date:                Mon, 22 Mar 2021   Prob (F-statistic):           3.38e-69\n",
              "Time:                        03:07:44   Log-Likelihood:                 406.38\n",
              "No. Observations:                 120   AIC:                            -804.8\n",
              "Df Residuals:                     116   BIC:                            -793.6\n",
              "Df Model:                           3                                         \n",
              "Covariance Type:            nonrobust                                         \n",
              "==============================================================================\n",
              "                 coef    std err          t      P>|t|      [0.025      0.975]\n",
              "------------------------------------------------------------------------------\n",
              "const         -0.0024      0.001     -2.982      0.003      -0.004      -0.001\n",
              "RMRF           0.8423      0.022     38.170      0.000       0.799       0.886\n",
              "SML           -0.1066      0.037     -2.914      0.004      -0.179      -0.034\n",
              "HML            0.1768      0.034      5.230      0.000       0.110       0.244\n",
              "==============================================================================\n",
              "Omnibus:                        3.705   Durbin-Watson:                   1.888\n",
              "Prob(Omnibus):                  0.157   Jarque-Bera (JB):                3.132\n",
              "Skew:                          -0.367   Prob(JB):                        0.209\n",
              "Kurtosis:                       3.298   Cond. No.                         49.8\n",
              "==============================================================================\n",
              "\n",
              "Warnings:\n",
              "[1] Standard Errors assume that the covariance matrix of the errors is correctly specified.\n",
              "\"\"\""
            ]
          },
          "metadata": {
            "tags": []
          },
          "execution_count": 10
        }
      ]
    },
    {
      "cell_type": "code",
      "metadata": {
        "id": "Y6qUCbCVeDB-"
      },
      "source": [
        ""
      ],
      "execution_count": null,
      "outputs": []
    },
    {
      "cell_type": "code",
      "metadata": {
        "id": "QY-JSMyMeeMr"
      },
      "source": [
        ""
      ],
      "execution_count": null,
      "outputs": []
    },
    {
      "cell_type": "code",
      "metadata": {
        "id": "mCrFpCJ_ehEq"
      },
      "source": [
        ""
      ],
      "execution_count": null,
      "outputs": []
    }
  ]
}