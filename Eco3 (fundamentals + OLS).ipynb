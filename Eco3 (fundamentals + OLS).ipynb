{
  "nbformat": 4,
  "nbformat_minor": 0,
  "metadata": {
    "colab": {
      "name": "Eco3.ipynb",
      "provenance": []
    },
    "kernelspec": {
      "name": "python3",
      "display_name": "Python 3"
    },
    "language_info": {
      "name": "python"
    }
  },
  "cells": [
    {
      "cell_type": "code",
      "metadata": {
        "colab": {
          "base_uri": "https://localhost:8080/"
        },
        "id": "cj3nrbRLPiAe",
        "outputId": "87236c95-a257-4ad9-e597-6aef909c5b6f"
      },
      "source": [
        "#importing necessary libraries\n",
        "import numpy as np \n",
        "import pandas as pd\n",
        "import matplotlib.pyplot as plt\n",
        "import seaborn as sbs\n",
        "from sklearn import linear_model\n",
        "import statsmodels.api as sm "
      ],
      "execution_count": null,
      "outputs": [
        {
          "output_type": "stream",
          "text": [
            "/usr/local/lib/python3.7/dist-packages/statsmodels/tools/_testing.py:19: FutureWarning: pandas.util.testing is deprecated. Use the functions in the public API at pandas.testing instead.\n",
            "  import pandas.util.testing as tm\n"
          ],
          "name": "stderr"
        }
      ]
    },
    {
      "cell_type": "code",
      "metadata": {
        "colab": {
          "base_uri": "https://localhost:8080/",
          "height": 341
        },
        "id": "18krjV63Pu4B",
        "outputId": "ba8085bf-a812-4b4d-b04e-5ef1694c54ce"
      },
      "source": [
        "# uploading data into the environment\n",
        "main_df = pd.read_excel('/content/assignment_3_data.xlsx')\n",
        "#acquiring original shape of the data to see how filtrtion changes it as well as for further error checking\n",
        "shape_prior_to_filtrtation = main_df.shape\n",
        "#looking at the uploaded data table\n",
        "main_df.head(3)"
      ],
      "execution_count": null,
      "outputs": [
        {
          "output_type": "execute_result",
          "data": {
            "text/html": [
              "<div>\n",
              "<style scoped>\n",
              "    .dataframe tbody tr th:only-of-type {\n",
              "        vertical-align: middle;\n",
              "    }\n",
              "\n",
              "    .dataframe tbody tr th {\n",
              "        vertical-align: top;\n",
              "    }\n",
              "\n",
              "    .dataframe thead th {\n",
              "        text-align: right;\n",
              "    }\n",
              "</style>\n",
              "<table border=\"1\" class=\"dataframe\">\n",
              "  <thead>\n",
              "    <tr style=\"text-align: right;\">\n",
              "      <th></th>\n",
              "      <th>Global Company Key</th>\n",
              "      <th>Data Date</th>\n",
              "      <th>Data Year - Fiscal</th>\n",
              "      <th>Industry Format</th>\n",
              "      <th>Level of Consolidation - Company Annual Descriptor</th>\n",
              "      <th>Population Source</th>\n",
              "      <th>Data Format</th>\n",
              "      <th>Ticker Symbol</th>\n",
              "      <th>Company Name</th>\n",
              "      <th>ISO Currency Code</th>\n",
              "      <th>Assets - Total</th>\n",
              "      <th>Common Shares Outstanding</th>\n",
              "      <th>Debt in Current Liabilities - Total</th>\n",
              "      <th>Long-Term Debt - Total</th>\n",
              "      <th>Operating Income Before Depreciation</th>\n",
              "      <th>Property, Plant and Equipment - Total (Net)</th>\n",
              "      <th>Stock Exchange Code</th>\n",
              "      <th>Active/Inactive Status Marker</th>\n",
              "      <th>Current ISO Country Code - Incorporation</th>\n",
              "      <th>Price Close - Annual - Fiscal</th>\n",
              "      <th>Standard Industry Classification Code</th>\n",
              "    </tr>\n",
              "  </thead>\n",
              "  <tbody>\n",
              "    <tr>\n",
              "      <th>0</th>\n",
              "      <td>1036</td>\n",
              "      <td>1994-12-31</td>\n",
              "      <td>1994</td>\n",
              "      <td>INDL</td>\n",
              "      <td>C</td>\n",
              "      <td>D</td>\n",
              "      <td>STD</td>\n",
              "      <td>UDI.</td>\n",
              "      <td>UNITED DOMINION INDUSTRIES</td>\n",
              "      <td>USD</td>\n",
              "      <td>1359.356</td>\n",
              "      <td>39.443</td>\n",
              "      <td>9.234</td>\n",
              "      <td>309.768</td>\n",
              "      <td>166.234</td>\n",
              "      <td>222.148</td>\n",
              "      <td>11</td>\n",
              "      <td>I</td>\n",
              "      <td>CAN</td>\n",
              "      <td>19.125</td>\n",
              "      <td>3443</td>\n",
              "    </tr>\n",
              "    <tr>\n",
              "      <th>1</th>\n",
              "      <td>1081</td>\n",
              "      <td>1994-12-31</td>\n",
              "      <td>1994</td>\n",
              "      <td>INDL</td>\n",
              "      <td>C</td>\n",
              "      <td>D</td>\n",
              "      <td>STD</td>\n",
              "      <td>ABY.2</td>\n",
              "      <td>ABITIBI CONSOLIDATED INC</td>\n",
              "      <td>CAD</td>\n",
              "      <td>1821.000</td>\n",
              "      <td>87.415</td>\n",
              "      <td>44.000</td>\n",
              "      <td>479.000</td>\n",
              "      <td>107.000</td>\n",
              "      <td>906.000</td>\n",
              "      <td>11</td>\n",
              "      <td>I</td>\n",
              "      <td>CAN</td>\n",
              "      <td>19.375</td>\n",
              "      <td>2621</td>\n",
              "    </tr>\n",
              "    <tr>\n",
              "      <th>2</th>\n",
              "      <td>1238</td>\n",
              "      <td>1994-12-31</td>\n",
              "      <td>1994</td>\n",
              "      <td>INDL</td>\n",
              "      <td>C</td>\n",
              "      <td>D</td>\n",
              "      <td>STD</td>\n",
              "      <td>AOG.3</td>\n",
              "      <td>ALBERTA ENERGY CO LTD</td>\n",
              "      <td>CAD</td>\n",
              "      <td>2357.600</td>\n",
              "      <td>74.464</td>\n",
              "      <td>34.200</td>\n",
              "      <td>561.800</td>\n",
              "      <td>397.800</td>\n",
              "      <td>2017.700</td>\n",
              "      <td>11</td>\n",
              "      <td>I</td>\n",
              "      <td>CAN</td>\n",
              "      <td>17.875</td>\n",
              "      <td>1311</td>\n",
              "    </tr>\n",
              "  </tbody>\n",
              "</table>\n",
              "</div>"
            ],
            "text/plain": [
              "   Global Company Key  ... Standard Industry Classification Code\n",
              "0                1036  ...                                  3443\n",
              "1                1081  ...                                  2621\n",
              "2                1238  ...                                  1311\n",
              "\n",
              "[3 rows x 21 columns]"
            ]
          },
          "metadata": {
            "tags": []
          },
          "execution_count": 2
        }
      ]
    },
    {
      "cell_type": "code",
      "metadata": {
        "id": "3XwLscnbQAJM"
      },
      "source": [
        "filter_rule_1 = main_df[(main_df['Standard Industry Classification Code'] >=0000) & (main_df['Standard Industry Classification Code']<=999)].index\n",
        "\n",
        "filter_rule_2 = main_df[(main_df['Standard Industry Classification Code'] >=4900) & (main_df['Standard Industry Classification Code']<=4999)].index\n",
        "\n",
        "filter_rule_3 = main_df[(main_df['Standard Industry Classification Code'] >=6000) & (main_df['Standard Industry Classification Code']<=6999)].index\n",
        "\n",
        "filter_rule_4 = main_df[main_df['Standard Industry Classification Code'] ==8888].index\n",
        "\n",
        "filter_rule_5 = main_df[(main_df['Standard Industry Classification Code'] >=9000) & (main_df['Standard Industry Classification Code']<=9999)].index\n",
        "\n",
        "#combining the first 5 filter rules to get a pandas index object that can be further used to delete unwanted observations\n",
        "combined_filter_rules = filter_rule_1.union(filter_rule_2).union(filter_rule_3).union(filter_rule_4).union(filter_rule_5)\n",
        "\n",
        "# applying the first 5 rules to filter the data frame. \n",
        "semi_filtered_df = main_df.drop(combined_filter_rules, axis=0)\n",
        "\n",
        "# applying the last filter rule that is to drop missing values from stock market data (share price and shares outstanding)\n",
        "filtered_df = semi_filtered_df.dropna(how = 'any', subset = ['Price Close - Annual - Fiscal', 'Common Shares Outstanding' ])\n",
        "\n",
        "\n"
      ],
      "execution_count": null,
      "outputs": []
    },
    {
      "cell_type": "code",
      "metadata": {
        "id": "3XJc52jFNsmy"
      },
      "source": [
        "#final_df = final_df.dropna()\n",
        "filtered_df = filtered_df.dropna()\n"
      ],
      "execution_count": null,
      "outputs": []
    },
    {
      "cell_type": "code",
      "metadata": {
        "colab": {
          "base_uri": "https://localhost:8080/",
          "height": 330
        },
        "id": "mhjpFsen-6m_",
        "outputId": "cea95492-d0cc-4691-913c-7e5ee3f1c869"
      },
      "source": [
        "# I will keep only those columns that are relevant for furhter econometric analysis: \n",
        "# Company Name, Ticker Symbol, Assets - Total, Common Shares Outstanding, Debt in Current Liabilities - Total, Long-Term Debt - Total, \n",
        "# Operating Income Before Depreciation, Property, Plant and Equipment - Total (Net), Price Close - Annual - Fiscal\n",
        "\n",
        "final_df = filtered_df[['Company Name', 'Ticker Symbol', 'Assets - Total', 'Common Shares Outstanding', 'Debt in Current Liabilities - Total', \n",
        "             'Long-Term Debt - Total', 'Operating Income Before Depreciation', 'Property, Plant and Equipment - Total (Net)', \n",
        "             'Price Close - Annual - Fiscal' ]]\n",
        "final_df.head()"
      ],
      "execution_count": null,
      "outputs": [
        {
          "output_type": "execute_result",
          "data": {
            "text/html": [
              "<div>\n",
              "<style scoped>\n",
              "    .dataframe tbody tr th:only-of-type {\n",
              "        vertical-align: middle;\n",
              "    }\n",
              "\n",
              "    .dataframe tbody tr th {\n",
              "        vertical-align: top;\n",
              "    }\n",
              "\n",
              "    .dataframe thead th {\n",
              "        text-align: right;\n",
              "    }\n",
              "</style>\n",
              "<table border=\"1\" class=\"dataframe\">\n",
              "  <thead>\n",
              "    <tr style=\"text-align: right;\">\n",
              "      <th></th>\n",
              "      <th>Company Name</th>\n",
              "      <th>Ticker Symbol</th>\n",
              "      <th>Assets - Total</th>\n",
              "      <th>Common Shares Outstanding</th>\n",
              "      <th>Debt in Current Liabilities - Total</th>\n",
              "      <th>Long-Term Debt - Total</th>\n",
              "      <th>Operating Income Before Depreciation</th>\n",
              "      <th>Property, Plant and Equipment - Total (Net)</th>\n",
              "      <th>Price Close - Annual - Fiscal</th>\n",
              "    </tr>\n",
              "  </thead>\n",
              "  <tbody>\n",
              "    <tr>\n",
              "      <th>0</th>\n",
              "      <td>UNITED DOMINION INDUSTRIES</td>\n",
              "      <td>UDI.</td>\n",
              "      <td>1359.356</td>\n",
              "      <td>39.443</td>\n",
              "      <td>9.234</td>\n",
              "      <td>309.768</td>\n",
              "      <td>166.234</td>\n",
              "      <td>222.148</td>\n",
              "      <td>19.125</td>\n",
              "    </tr>\n",
              "    <tr>\n",
              "      <th>1</th>\n",
              "      <td>ABITIBI CONSOLIDATED INC</td>\n",
              "      <td>ABY.2</td>\n",
              "      <td>1821.000</td>\n",
              "      <td>87.415</td>\n",
              "      <td>44.000</td>\n",
              "      <td>479.000</td>\n",
              "      <td>107.000</td>\n",
              "      <td>906.000</td>\n",
              "      <td>19.375</td>\n",
              "    </tr>\n",
              "    <tr>\n",
              "      <th>2</th>\n",
              "      <td>ALBERTA ENERGY CO LTD</td>\n",
              "      <td>AOG.3</td>\n",
              "      <td>2357.600</td>\n",
              "      <td>74.464</td>\n",
              "      <td>34.200</td>\n",
              "      <td>561.800</td>\n",
              "      <td>397.800</td>\n",
              "      <td>2017.700</td>\n",
              "      <td>17.875</td>\n",
              "    </tr>\n",
              "    <tr>\n",
              "      <th>3</th>\n",
              "      <td>ALCAN INC</td>\n",
              "      <td>AL.1</td>\n",
              "      <td>9989.000</td>\n",
              "      <td>224.685</td>\n",
              "      <td>265.000</td>\n",
              "      <td>2206.000</td>\n",
              "      <td>876.000</td>\n",
              "      <td>5534.000</td>\n",
              "      <td>25.375</td>\n",
              "    </tr>\n",
              "    <tr>\n",
              "      <th>5</th>\n",
              "      <td>BARRICK GOLD CORP</td>\n",
              "      <td>GOLD</td>\n",
              "      <td>3472.000</td>\n",
              "      <td>353.300</td>\n",
              "      <td>130.000</td>\n",
              "      <td>284.700</td>\n",
              "      <td>434.900</td>\n",
              "      <td>2768.300</td>\n",
              "      <td>22.250</td>\n",
              "    </tr>\n",
              "  </tbody>\n",
              "</table>\n",
              "</div>"
            ],
            "text/plain": [
              "                 Company Name  ... Price Close - Annual - Fiscal\n",
              "0  UNITED DOMINION INDUSTRIES  ...                        19.125\n",
              "1    ABITIBI CONSOLIDATED INC  ...                        19.375\n",
              "2       ALBERTA ENERGY CO LTD  ...                        17.875\n",
              "3                   ALCAN INC  ...                        25.375\n",
              "5           BARRICK GOLD CORP  ...                        22.250\n",
              "\n",
              "[5 rows x 9 columns]"
            ]
          },
          "metadata": {
            "tags": []
          },
          "execution_count": 5
        }
      ]
    },
    {
      "cell_type": "markdown",
      "metadata": {
        "id": "_ATLI9Z3B-bq"
      },
      "source": [
        "## Part 1: \n",
        "1. Compute the variables in part (i). Generate summary statistics (mean, standard deviation,min and max) for book leverage, market leverage, profitability, tangibility, firm size, and\n",
        "market-to-book."
      ]
    },
    {
      "cell_type": "code",
      "metadata": {
        "colab": {
          "base_uri": "https://localhost:8080/"
        },
        "id": "SqGoGryRytxl",
        "outputId": "f0a383ce-9ae8-403e-b922-5ad279682e9b"
      },
      "source": [
        "# Part 1: Compute the variables in part (i)\n",
        "# Adding Total debt = dlc (Debt in Current Liabilities) + dltt (Long-Term Debt)\n",
        "final_df['TotalDebt'] = final_df['Debt in Current Liabilities - Total'] + final_df['Long-Term Debt - Total']\n",
        "# Book leverage = Total debt/ at (total assets)\n",
        "final_df['BookLeverage'] = final_df['TotalDebt']/final_df['Assets - Total']\n",
        "# Market leverage = Total debt/ (total debt + (prcc_f*csho))\n",
        "final_df['MarketLeverage'] = final_df['TotalDebt']/(final_df['TotalDebt'] + \n",
        "                                                    (final_df['Price Close - Annual - Fiscal'] * final_df['Common Shares Outstanding']))\n",
        "# Profitability = oibdp / at\n",
        "final_df['profitability'] = final_df['Operating Income Before Depreciation']/final_df['Assets - Total']\n",
        "# Tangibility = ppent / at\n",
        "final_df['tangibility'] = final_df['Property, Plant and Equipment - Total (Net)']/final_df['Assets - Total']\n",
        "# Firm size = log(at)\n",
        "final_df['firm_size'] = np.log(final_df['Assets - Total'])\n",
        "# MB (market-to-book) = (prcc_f*csho+dlc+dltt)/at\n",
        "final_df['mb'] = ((final_df['Price Close - Annual - Fiscal'] * final_df['Common Shares Outstanding']) + final_df['TotalDebt'])/final_df['Assets - Total']\n",
        "\n",
        "\n"
      ],
      "execution_count": null,
      "outputs": [
        {
          "output_type": "stream",
          "text": [
            "/usr/local/lib/python3.7/dist-packages/ipykernel_launcher.py:3: SettingWithCopyWarning: \n",
            "A value is trying to be set on a copy of a slice from a DataFrame.\n",
            "Try using .loc[row_indexer,col_indexer] = value instead\n",
            "\n",
            "See the caveats in the documentation: https://pandas.pydata.org/pandas-docs/stable/user_guide/indexing.html#returning-a-view-versus-a-copy\n",
            "  This is separate from the ipykernel package so we can avoid doing imports until\n",
            "/usr/local/lib/python3.7/dist-packages/ipykernel_launcher.py:5: SettingWithCopyWarning: \n",
            "A value is trying to be set on a copy of a slice from a DataFrame.\n",
            "Try using .loc[row_indexer,col_indexer] = value instead\n",
            "\n",
            "See the caveats in the documentation: https://pandas.pydata.org/pandas-docs/stable/user_guide/indexing.html#returning-a-view-versus-a-copy\n",
            "  \"\"\"\n",
            "/usr/local/lib/python3.7/dist-packages/ipykernel_launcher.py:8: SettingWithCopyWarning: \n",
            "A value is trying to be set on a copy of a slice from a DataFrame.\n",
            "Try using .loc[row_indexer,col_indexer] = value instead\n",
            "\n",
            "See the caveats in the documentation: https://pandas.pydata.org/pandas-docs/stable/user_guide/indexing.html#returning-a-view-versus-a-copy\n",
            "  \n",
            "/usr/local/lib/python3.7/dist-packages/ipykernel_launcher.py:10: SettingWithCopyWarning: \n",
            "A value is trying to be set on a copy of a slice from a DataFrame.\n",
            "Try using .loc[row_indexer,col_indexer] = value instead\n",
            "\n",
            "See the caveats in the documentation: https://pandas.pydata.org/pandas-docs/stable/user_guide/indexing.html#returning-a-view-versus-a-copy\n",
            "  # Remove the CWD from sys.path while we load stuff.\n",
            "/usr/local/lib/python3.7/dist-packages/ipykernel_launcher.py:12: SettingWithCopyWarning: \n",
            "A value is trying to be set on a copy of a slice from a DataFrame.\n",
            "Try using .loc[row_indexer,col_indexer] = value instead\n",
            "\n",
            "See the caveats in the documentation: https://pandas.pydata.org/pandas-docs/stable/user_guide/indexing.html#returning-a-view-versus-a-copy\n",
            "  if sys.path[0] == '':\n",
            "/usr/local/lib/python3.7/dist-packages/ipykernel_launcher.py:14: SettingWithCopyWarning: \n",
            "A value is trying to be set on a copy of a slice from a DataFrame.\n",
            "Try using .loc[row_indexer,col_indexer] = value instead\n",
            "\n",
            "See the caveats in the documentation: https://pandas.pydata.org/pandas-docs/stable/user_guide/indexing.html#returning-a-view-versus-a-copy\n",
            "  \n",
            "/usr/local/lib/python3.7/dist-packages/ipykernel_launcher.py:16: SettingWithCopyWarning: \n",
            "A value is trying to be set on a copy of a slice from a DataFrame.\n",
            "Try using .loc[row_indexer,col_indexer] = value instead\n",
            "\n",
            "See the caveats in the documentation: https://pandas.pydata.org/pandas-docs/stable/user_guide/indexing.html#returning-a-view-versus-a-copy\n",
            "  app.launch_new_instance()\n"
          ],
          "name": "stderr"
        }
      ]
    },
    {
      "cell_type": "code",
      "metadata": {
        "colab": {
          "base_uri": "https://localhost:8080/",
          "height": 278
        },
        "id": "1eDH8zU71Auj",
        "outputId": "9760c064-9424-4d6d-a4ec-48b0ddbfdc9b"
      },
      "source": [
        "final_df.head(2)"
      ],
      "execution_count": null,
      "outputs": [
        {
          "output_type": "execute_result",
          "data": {
            "text/html": [
              "<div>\n",
              "<style scoped>\n",
              "    .dataframe tbody tr th:only-of-type {\n",
              "        vertical-align: middle;\n",
              "    }\n",
              "\n",
              "    .dataframe tbody tr th {\n",
              "        vertical-align: top;\n",
              "    }\n",
              "\n",
              "    .dataframe thead th {\n",
              "        text-align: right;\n",
              "    }\n",
              "</style>\n",
              "<table border=\"1\" class=\"dataframe\">\n",
              "  <thead>\n",
              "    <tr style=\"text-align: right;\">\n",
              "      <th></th>\n",
              "      <th>Company Name</th>\n",
              "      <th>Ticker Symbol</th>\n",
              "      <th>Assets - Total</th>\n",
              "      <th>Common Shares Outstanding</th>\n",
              "      <th>Debt in Current Liabilities - Total</th>\n",
              "      <th>Long-Term Debt - Total</th>\n",
              "      <th>Operating Income Before Depreciation</th>\n",
              "      <th>Property, Plant and Equipment - Total (Net)</th>\n",
              "      <th>Price Close - Annual - Fiscal</th>\n",
              "      <th>TotalDebt</th>\n",
              "      <th>BookLeverage</th>\n",
              "      <th>MarketLeverage</th>\n",
              "      <th>profitability</th>\n",
              "      <th>tangibility</th>\n",
              "      <th>firm_size</th>\n",
              "      <th>mb</th>\n",
              "    </tr>\n",
              "  </thead>\n",
              "  <tbody>\n",
              "    <tr>\n",
              "      <th>0</th>\n",
              "      <td>UNITED DOMINION INDUSTRIES</td>\n",
              "      <td>UDI.</td>\n",
              "      <td>1359.356</td>\n",
              "      <td>39.443</td>\n",
              "      <td>9.234</td>\n",
              "      <td>309.768</td>\n",
              "      <td>166.234</td>\n",
              "      <td>222.148</td>\n",
              "      <td>19.125</td>\n",
              "      <td>319.002</td>\n",
              "      <td>0.234671</td>\n",
              "      <td>0.297202</td>\n",
              "      <td>0.122289</td>\n",
              "      <td>0.163422</td>\n",
              "      <td>7.214766</td>\n",
              "      <td>0.789601</td>\n",
              "    </tr>\n",
              "    <tr>\n",
              "      <th>1</th>\n",
              "      <td>ABITIBI CONSOLIDATED INC</td>\n",
              "      <td>ABY.2</td>\n",
              "      <td>1821.000</td>\n",
              "      <td>87.415</td>\n",
              "      <td>44.000</td>\n",
              "      <td>479.000</td>\n",
              "      <td>107.000</td>\n",
              "      <td>906.000</td>\n",
              "      <td>19.375</td>\n",
              "      <td>523.000</td>\n",
              "      <td>0.287205</td>\n",
              "      <td>0.235940</td>\n",
              "      <td>0.058759</td>\n",
              "      <td>0.497529</td>\n",
              "      <td>7.507141</td>\n",
              "      <td>1.217279</td>\n",
              "    </tr>\n",
              "  </tbody>\n",
              "</table>\n",
              "</div>"
            ],
            "text/plain": [
              "                 Company Name Ticker Symbol  ...  firm_size        mb\n",
              "0  UNITED DOMINION INDUSTRIES          UDI.  ...   7.214766  0.789601\n",
              "1    ABITIBI CONSOLIDATED INC         ABY.2  ...   7.507141  1.217279\n",
              "\n",
              "[2 rows x 16 columns]"
            ]
          },
          "metadata": {
            "tags": []
          },
          "execution_count": 7
        }
      ]
    },
    {
      "cell_type": "code",
      "metadata": {
        "colab": {
          "base_uri": "https://localhost:8080/"
        },
        "id": "_UKZouaXpmwP",
        "outputId": "ccef8354-89cd-4283-9c8e-5a52ee4b3f3b"
      },
      "source": [
        "# Generate summary statistics (mean, standard deviation, min and max) for book leverage, market leverage,\n",
        "# profitability, tangibility, firm size, and market-to-book.\n",
        "print(final_df['BookLeverage'].describe())"
      ],
      "execution_count": null,
      "outputs": [
        {
          "output_type": "stream",
          "text": [
            "count    83.000000\n",
            "mean      0.311483\n",
            "std       0.166331\n",
            "min       0.001560\n",
            "25%       0.224619\n",
            "50%       0.283713\n",
            "75%       0.409125\n",
            "max       0.909118\n",
            "Name: BookLeverage, dtype: float64\n"
          ],
          "name": "stdout"
        }
      ]
    },
    {
      "cell_type": "code",
      "metadata": {
        "colab": {
          "base_uri": "https://localhost:8080/"
        },
        "id": "WkJ-vTZJw8j5",
        "outputId": "51706d2f-cf44-4fea-be7e-bd86973153ae"
      },
      "source": [
        "print(final_df['MarketLeverage'].describe())"
      ],
      "execution_count": null,
      "outputs": [
        {
          "output_type": "stream",
          "text": [
            "count    83.000000\n",
            "mean      0.350140\n",
            "std       0.198652\n",
            "min       0.001748\n",
            "25%       0.200872\n",
            "50%       0.345419\n",
            "75%       0.476910\n",
            "max       0.927795\n",
            "Name: MarketLeverage, dtype: float64\n"
          ],
          "name": "stdout"
        }
      ]
    },
    {
      "cell_type": "code",
      "metadata": {
        "colab": {
          "base_uri": "https://localhost:8080/"
        },
        "id": "ZQ99AMK6zRVX",
        "outputId": "e4a2b71c-2990-429d-cb54-eb33673f4b3e"
      },
      "source": [
        "# Calculating summary statistics for profitability:\n",
        "print(final_df['profitability'].describe())"
      ],
      "execution_count": null,
      "outputs": [
        {
          "output_type": "stream",
          "text": [
            "count    83.000000\n",
            "mean      0.126450\n",
            "std       0.055358\n",
            "min      -0.003353\n",
            "25%       0.090700\n",
            "50%       0.121448\n",
            "75%       0.156826\n",
            "max       0.362329\n",
            "Name: profitability, dtype: float64\n"
          ],
          "name": "stdout"
        }
      ]
    },
    {
      "cell_type": "code",
      "metadata": {
        "colab": {
          "base_uri": "https://localhost:8080/"
        },
        "id": "QfptJEIgTd0T",
        "outputId": "76170344-b0a3-4e01-a3bc-96d4839ae315"
      },
      "source": [
        "# Calculating summary statistics for tangibility:\n",
        "print(final_df['tangibility'].describe())"
      ],
      "execution_count": null,
      "outputs": [
        {
          "output_type": "stream",
          "text": [
            "count    83.000000\n",
            "mean      0.540139\n",
            "std       0.212742\n",
            "min       0.064432\n",
            "25%       0.401695\n",
            "50%       0.561965\n",
            "75%       0.695916\n",
            "max       0.957422\n",
            "Name: tangibility, dtype: float64\n"
          ],
          "name": "stdout"
        }
      ]
    },
    {
      "cell_type": "code",
      "metadata": {
        "colab": {
          "base_uri": "https://localhost:8080/"
        },
        "id": "-emeUwt6TjWS",
        "outputId": "f9e108da-ce83-452a-c886-1d272408c5d8"
      },
      "source": [
        "# Calculating summary statistics for firm_size:\n",
        "print(final_df['firm_size'].describe())"
      ],
      "execution_count": null,
      "outputs": [
        {
          "output_type": "stream",
          "text": [
            "count    83.000000\n",
            "mean      7.835645\n",
            "std       0.711808\n",
            "min       6.917630\n",
            "25%       7.300183\n",
            "50%       7.728114\n",
            "75%       8.156599\n",
            "max      10.547760\n",
            "Name: firm_size, dtype: float64\n"
          ],
          "name": "stdout"
        }
      ]
    },
    {
      "cell_type": "code",
      "metadata": {
        "colab": {
          "base_uri": "https://localhost:8080/"
        },
        "id": "qHAJwhdpUD40",
        "outputId": "ee943edc-c260-495b-b182-3fa8aa6843fe"
      },
      "source": [
        "# Calculating summary statistics for mb:\n",
        "print(final_df['mb'].describe())"
      ],
      "execution_count": null,
      "outputs": [
        {
          "output_type": "stream",
          "text": [
            "count    83.000000\n",
            "mean      0.999150\n",
            "std       0.503719\n",
            "min       0.279159\n",
            "25%       0.724091\n",
            "50%       0.895368\n",
            "75%       1.072869\n",
            "max       4.085201\n",
            "Name: mb, dtype: float64\n"
          ],
          "name": "stdout"
        }
      ]
    },
    {
      "cell_type": "markdown",
      "metadata": {
        "id": "fLWijHnuUDmj"
      },
      "source": [
        "## Part 2: Using book leverage (model 1) and market leverage (model 2), estimate the following models of corporate leverage:\n",
        "𝐿𝑒𝑣𝑒𝑟𝑎𝑔𝑒=𝛽0+𝛽1𝑃𝑟𝑜𝑓𝑖𝑡𝑎𝑏𝑖𝑙𝑖𝑡𝑦+𝛽2𝑇𝑎𝑛𝑔𝑖𝑏𝑖𝑙𝑖+𝛽3𝐹𝑖𝑟𝑚𝑠𝑖𝑧𝑒+𝛽4𝑀𝐵+𝑢"
      ]
    },
    {
      "cell_type": "code",
      "metadata": {
        "id": "TjHtrA9xUNMc"
      },
      "source": [
        "# preparing data to input it into the modeL:\n",
        "X = final_df[['profitability', 'tangibility','firm_size', 'mb']] \n",
        "# Dependent variable for model 1:\n",
        "book_lev = final_df['BookLeverage']\n",
        "# Dependent variable for model 2:\n",
        "mrkt_lev = final_df['MarketLeverage']\n",
        "# adding constant for the regression analysis\n",
        "X = sm.add_constant(X)\n",
        "# Creating model object\n",
        "#model = sm.OLS(y,X)\n",
        "#results = model.fit()\n",
        "#results.summary()"
      ],
      "execution_count": null,
      "outputs": []
    },
    {
      "cell_type": "code",
      "metadata": {
        "colab": {
          "base_uri": "https://localhost:8080/",
          "height": 486
        },
        "id": "95TZnG5HVWxv",
        "outputId": "d1401177-6a9c-4ea3-f7d3-a23c1bf2861b"
      },
      "source": [
        "# Model 1 (book leverage): \n",
        "model_1 = sm.OLS(book_lev, X)\n",
        "results_1 = model_1.fit()\n",
        "results_1.summary()"
      ],
      "execution_count": null,
      "outputs": [
        {
          "output_type": "execute_result",
          "data": {
            "text/html": [
              "<table class=\"simpletable\">\n",
              "<caption>OLS Regression Results</caption>\n",
              "<tr>\n",
              "  <th>Dep. Variable:</th>      <td>BookLeverage</td>   <th>  R-squared:         </th> <td>   0.070</td>\n",
              "</tr>\n",
              "<tr>\n",
              "  <th>Model:</th>                   <td>OLS</td>       <th>  Adj. R-squared:    </th> <td>   0.022</td>\n",
              "</tr>\n",
              "<tr>\n",
              "  <th>Method:</th>             <td>Least Squares</td>  <th>  F-statistic:       </th> <td>   1.460</td>\n",
              "</tr>\n",
              "<tr>\n",
              "  <th>Date:</th>             <td>Sun, 28 Mar 2021</td> <th>  Prob (F-statistic):</th>  <td> 0.223</td> \n",
              "</tr>\n",
              "<tr>\n",
              "  <th>Time:</th>                 <td>10:18:42</td>     <th>  Log-Likelihood:    </th> <td>  34.610</td>\n",
              "</tr>\n",
              "<tr>\n",
              "  <th>No. Observations:</th>      <td>    83</td>      <th>  AIC:               </th> <td>  -59.22</td>\n",
              "</tr>\n",
              "<tr>\n",
              "  <th>Df Residuals:</th>          <td>    78</td>      <th>  BIC:               </th> <td>  -47.13</td>\n",
              "</tr>\n",
              "<tr>\n",
              "  <th>Df Model:</th>              <td>     4</td>      <th>                     </th>     <td> </td>   \n",
              "</tr>\n",
              "<tr>\n",
              "  <th>Covariance Type:</th>      <td>nonrobust</td>    <th>                     </th>     <td> </td>   \n",
              "</tr>\n",
              "</table>\n",
              "<table class=\"simpletable\">\n",
              "<tr>\n",
              "        <td></td>           <th>coef</th>     <th>std err</th>      <th>t</th>      <th>P>|t|</th>  <th>[0.025</th>    <th>0.975]</th>  \n",
              "</tr>\n",
              "<tr>\n",
              "  <th>const</th>         <td>    0.2229</td> <td>    0.216</td> <td>    1.031</td> <td> 0.306</td> <td>   -0.207</td> <td>    0.653</td>\n",
              "</tr>\n",
              "<tr>\n",
              "  <th>profitability</th> <td>   -0.5923</td> <td>    0.370</td> <td>   -1.599</td> <td> 0.114</td> <td>   -1.330</td> <td>    0.145</td>\n",
              "</tr>\n",
              "<tr>\n",
              "  <th>tangibility</th>   <td>   -0.0071</td> <td>    0.092</td> <td>   -0.077</td> <td> 0.938</td> <td>   -0.191</td> <td>    0.177</td>\n",
              "</tr>\n",
              "<tr>\n",
              "  <th>firm_size</th>     <td>    0.0103</td> <td>    0.026</td> <td>    0.393</td> <td> 0.695</td> <td>   -0.042</td> <td>    0.063</td>\n",
              "</tr>\n",
              "<tr>\n",
              "  <th>mb</th>            <td>    0.0866</td> <td>    0.040</td> <td>    2.185</td> <td> 0.032</td> <td>    0.008</td> <td>    0.166</td>\n",
              "</tr>\n",
              "</table>\n",
              "<table class=\"simpletable\">\n",
              "<tr>\n",
              "  <th>Omnibus:</th>       <td> 0.368</td> <th>  Durbin-Watson:     </th> <td>   2.190</td>\n",
              "</tr>\n",
              "<tr>\n",
              "  <th>Prob(Omnibus):</th> <td> 0.832</td> <th>  Jarque-Bera (JB):  </th> <td>   0.441</td>\n",
              "</tr>\n",
              "<tr>\n",
              "  <th>Skew:</th>          <td> 0.151</td> <th>  Prob(JB):          </th> <td>   0.802</td>\n",
              "</tr>\n",
              "<tr>\n",
              "  <th>Kurtosis:</th>      <td> 2.810</td> <th>  Cond. No.          </th> <td>    167.</td>\n",
              "</tr>\n",
              "</table><br/><br/>Warnings:<br/>[1] Standard Errors assume that the covariance matrix of the errors is correctly specified."
            ],
            "text/plain": [
              "<class 'statsmodels.iolib.summary.Summary'>\n",
              "\"\"\"\n",
              "                            OLS Regression Results                            \n",
              "==============================================================================\n",
              "Dep. Variable:           BookLeverage   R-squared:                       0.070\n",
              "Model:                            OLS   Adj. R-squared:                  0.022\n",
              "Method:                 Least Squares   F-statistic:                     1.460\n",
              "Date:                Sun, 28 Mar 2021   Prob (F-statistic):              0.223\n",
              "Time:                        10:18:42   Log-Likelihood:                 34.610\n",
              "No. Observations:                  83   AIC:                            -59.22\n",
              "Df Residuals:                      78   BIC:                            -47.13\n",
              "Df Model:                           4                                         \n",
              "Covariance Type:            nonrobust                                         \n",
              "=================================================================================\n",
              "                    coef    std err          t      P>|t|      [0.025      0.975]\n",
              "---------------------------------------------------------------------------------\n",
              "const             0.2229      0.216      1.031      0.306      -0.207       0.653\n",
              "profitability    -0.5923      0.370     -1.599      0.114      -1.330       0.145\n",
              "tangibility      -0.0071      0.092     -0.077      0.938      -0.191       0.177\n",
              "firm_size         0.0103      0.026      0.393      0.695      -0.042       0.063\n",
              "mb                0.0866      0.040      2.185      0.032       0.008       0.166\n",
              "==============================================================================\n",
              "Omnibus:                        0.368   Durbin-Watson:                   2.190\n",
              "Prob(Omnibus):                  0.832   Jarque-Bera (JB):                0.441\n",
              "Skew:                           0.151   Prob(JB):                        0.802\n",
              "Kurtosis:                       2.810   Cond. No.                         167.\n",
              "==============================================================================\n",
              "\n",
              "Warnings:\n",
              "[1] Standard Errors assume that the covariance matrix of the errors is correctly specified.\n",
              "\"\"\""
            ]
          },
          "metadata": {
            "tags": []
          },
          "execution_count": 10
        }
      ]
    },
    {
      "cell_type": "code",
      "metadata": {
        "colab": {
          "base_uri": "https://localhost:8080/",
          "height": 486
        },
        "id": "fAJpvGHNVmDl",
        "outputId": "f21a80c5-892b-4af5-8718-ff920fbba547"
      },
      "source": [
        "# Model 2 (market leverage):\n",
        "model_2 = sm.OLS(mrkt_lev, X)\n",
        "results_2 = model_2.fit()\n",
        "results_2.summary()"
      ],
      "execution_count": null,
      "outputs": [
        {
          "output_type": "execute_result",
          "data": {
            "text/html": [
              "<table class=\"simpletable\">\n",
              "<caption>OLS Regression Results</caption>\n",
              "<tr>\n",
              "  <th>Dep. Variable:</th>     <td>MarketLeverage</td>  <th>  R-squared:         </th> <td>   0.190</td>\n",
              "</tr>\n",
              "<tr>\n",
              "  <th>Model:</th>                   <td>OLS</td>       <th>  Adj. R-squared:    </th> <td>   0.149</td>\n",
              "</tr>\n",
              "<tr>\n",
              "  <th>Method:</th>             <td>Least Squares</td>  <th>  F-statistic:       </th> <td>   4.579</td>\n",
              "</tr>\n",
              "<tr>\n",
              "  <th>Date:</th>             <td>Sun, 28 Mar 2021</td> <th>  Prob (F-statistic):</th>  <td>0.00225</td>\n",
              "</tr>\n",
              "<tr>\n",
              "  <th>Time:</th>                 <td>12:50:42</td>     <th>  Log-Likelihood:    </th> <td>  25.629</td>\n",
              "</tr>\n",
              "<tr>\n",
              "  <th>No. Observations:</th>      <td>    83</td>      <th>  AIC:               </th> <td>  -41.26</td>\n",
              "</tr>\n",
              "<tr>\n",
              "  <th>Df Residuals:</th>          <td>    78</td>      <th>  BIC:               </th> <td>  -29.16</td>\n",
              "</tr>\n",
              "<tr>\n",
              "  <th>Df Model:</th>              <td>     4</td>      <th>                     </th>     <td> </td>   \n",
              "</tr>\n",
              "<tr>\n",
              "  <th>Covariance Type:</th>      <td>nonrobust</td>    <th>                     </th>     <td> </td>   \n",
              "</tr>\n",
              "</table>\n",
              "<table class=\"simpletable\">\n",
              "<tr>\n",
              "        <td></td>           <th>coef</th>     <th>std err</th>      <th>t</th>      <th>P>|t|</th>  <th>[0.025</th>    <th>0.975]</th>  \n",
              "</tr>\n",
              "<tr>\n",
              "  <th>const</th>         <td>    0.5156</td> <td>    0.241</td> <td>    2.141</td> <td> 0.035</td> <td>    0.036</td> <td>    0.995</td>\n",
              "</tr>\n",
              "<tr>\n",
              "  <th>profitability</th> <td>   -0.7197</td> <td>    0.413</td> <td>   -1.744</td> <td> 0.085</td> <td>   -1.541</td> <td>    0.102</td>\n",
              "</tr>\n",
              "<tr>\n",
              "  <th>tangibility</th>   <td>   -0.0294</td> <td>    0.103</td> <td>   -0.286</td> <td> 0.775</td> <td>   -0.234</td> <td>    0.175</td>\n",
              "</tr>\n",
              "<tr>\n",
              "  <th>firm_size</th>     <td>    0.0076</td> <td>    0.029</td> <td>    0.261</td> <td> 0.795</td> <td>   -0.051</td> <td>    0.066</td>\n",
              "</tr>\n",
              "<tr>\n",
              "  <th>mb</th>            <td>   -0.1184</td> <td>    0.044</td> <td>   -2.680</td> <td> 0.009</td> <td>   -0.206</td> <td>   -0.030</td>\n",
              "</tr>\n",
              "</table>\n",
              "<table class=\"simpletable\">\n",
              "<tr>\n",
              "  <th>Omnibus:</th>       <td> 0.560</td> <th>  Durbin-Watson:     </th> <td>   2.150</td>\n",
              "</tr>\n",
              "<tr>\n",
              "  <th>Prob(Omnibus):</th> <td> 0.756</td> <th>  Jarque-Bera (JB):  </th> <td>   0.694</td>\n",
              "</tr>\n",
              "<tr>\n",
              "  <th>Skew:</th>          <td> 0.166</td> <th>  Prob(JB):          </th> <td>   0.707</td>\n",
              "</tr>\n",
              "<tr>\n",
              "  <th>Kurtosis:</th>      <td> 2.699</td> <th>  Cond. No.          </th> <td>    167.</td>\n",
              "</tr>\n",
              "</table><br/><br/>Warnings:<br/>[1] Standard Errors assume that the covariance matrix of the errors is correctly specified."
            ],
            "text/plain": [
              "<class 'statsmodels.iolib.summary.Summary'>\n",
              "\"\"\"\n",
              "                            OLS Regression Results                            \n",
              "==============================================================================\n",
              "Dep. Variable:         MarketLeverage   R-squared:                       0.190\n",
              "Model:                            OLS   Adj. R-squared:                  0.149\n",
              "Method:                 Least Squares   F-statistic:                     4.579\n",
              "Date:                Sun, 28 Mar 2021   Prob (F-statistic):            0.00225\n",
              "Time:                        12:50:42   Log-Likelihood:                 25.629\n",
              "No. Observations:                  83   AIC:                            -41.26\n",
              "Df Residuals:                      78   BIC:                            -29.16\n",
              "Df Model:                           4                                         \n",
              "Covariance Type:            nonrobust                                         \n",
              "=================================================================================\n",
              "                    coef    std err          t      P>|t|      [0.025      0.975]\n",
              "---------------------------------------------------------------------------------\n",
              "const             0.5156      0.241      2.141      0.035       0.036       0.995\n",
              "profitability    -0.7197      0.413     -1.744      0.085      -1.541       0.102\n",
              "tangibility      -0.0294      0.103     -0.286      0.775      -0.234       0.175\n",
              "firm_size         0.0076      0.029      0.261      0.795      -0.051       0.066\n",
              "mb               -0.1184      0.044     -2.680      0.009      -0.206      -0.030\n",
              "==============================================================================\n",
              "Omnibus:                        0.560   Durbin-Watson:                   2.150\n",
              "Prob(Omnibus):                  0.756   Jarque-Bera (JB):                0.694\n",
              "Skew:                           0.166   Prob(JB):                        0.707\n",
              "Kurtosis:                       2.699   Cond. No.                         167.\n",
              "==============================================================================\n",
              "\n",
              "Warnings:\n",
              "[1] Standard Errors assume that the covariance matrix of the errors is correctly specified.\n",
              "\"\"\""
            ]
          },
          "metadata": {
            "tags": []
          },
          "execution_count": 12
        }
      ]
    },
    {
      "cell_type": "markdown",
      "metadata": {
        "id": "6s2Y4wEH4a57"
      },
      "source": [
        "## Part 4: Estimate regression equation (1) for book and market leverage using robust standard errors."
      ]
    },
    {
      "cell_type": "code",
      "metadata": {
        "colab": {
          "base_uri": "https://localhost:8080/",
          "height": 486
        },
        "id": "70AfaMKIWWdQ",
        "outputId": "e4f598b3-2646-4b2a-b3d4-7458c5783ea7"
      },
      "source": [
        "# Model 1 robust standard errors (book leverage): \n",
        "model_robust_1 = sm.OLS(book_lev, X)\n",
        "results_robust_1 = model_robust_1.fit()\n",
        "results_robust_1.get_robustcov_results(cov_type='HC3').summary()"
      ],
      "execution_count": null,
      "outputs": [
        {
          "output_type": "execute_result",
          "data": {
            "text/html": [
              "<table class=\"simpletable\">\n",
              "<caption>OLS Regression Results</caption>\n",
              "<tr>\n",
              "  <th>Dep. Variable:</th>      <td>BookLeverage</td>   <th>  R-squared:         </th> <td>   0.070</td>\n",
              "</tr>\n",
              "<tr>\n",
              "  <th>Model:</th>                   <td>OLS</td>       <th>  Adj. R-squared:    </th> <td>   0.022</td>\n",
              "</tr>\n",
              "<tr>\n",
              "  <th>Method:</th>             <td>Least Squares</td>  <th>  F-statistic:       </th> <td>  0.6712</td>\n",
              "</tr>\n",
              "<tr>\n",
              "  <th>Date:</th>             <td>Sun, 28 Mar 2021</td> <th>  Prob (F-statistic):</th>  <td> 0.614</td> \n",
              "</tr>\n",
              "<tr>\n",
              "  <th>Time:</th>                 <td>13:09:58</td>     <th>  Log-Likelihood:    </th> <td>  34.610</td>\n",
              "</tr>\n",
              "<tr>\n",
              "  <th>No. Observations:</th>      <td>    83</td>      <th>  AIC:               </th> <td>  -59.22</td>\n",
              "</tr>\n",
              "<tr>\n",
              "  <th>Df Residuals:</th>          <td>    78</td>      <th>  BIC:               </th> <td>  -47.13</td>\n",
              "</tr>\n",
              "<tr>\n",
              "  <th>Df Model:</th>              <td>     4</td>      <th>                     </th>     <td> </td>   \n",
              "</tr>\n",
              "<tr>\n",
              "  <th>Covariance Type:</th>         <td>HC3</td>       <th>                     </th>     <td> </td>   \n",
              "</tr>\n",
              "</table>\n",
              "<table class=\"simpletable\">\n",
              "<tr>\n",
              "        <td></td>           <th>coef</th>     <th>std err</th>      <th>t</th>      <th>P>|t|</th>  <th>[0.025</th>    <th>0.975]</th>  \n",
              "</tr>\n",
              "<tr>\n",
              "  <th>const</th>         <td>    0.2229</td> <td>    0.200</td> <td>    1.115</td> <td> 0.268</td> <td>   -0.175</td> <td>    0.621</td>\n",
              "</tr>\n",
              "<tr>\n",
              "  <th>profitability</th> <td>   -0.5923</td> <td>    0.421</td> <td>   -1.408</td> <td> 0.163</td> <td>   -1.430</td> <td>    0.245</td>\n",
              "</tr>\n",
              "<tr>\n",
              "  <th>tangibility</th>   <td>   -0.0071</td> <td>    0.086</td> <td>   -0.083</td> <td> 0.934</td> <td>   -0.178</td> <td>    0.164</td>\n",
              "</tr>\n",
              "<tr>\n",
              "  <th>firm_size</th>     <td>    0.0103</td> <td>    0.021</td> <td>    0.481</td> <td> 0.632</td> <td>   -0.032</td> <td>    0.053</td>\n",
              "</tr>\n",
              "<tr>\n",
              "  <th>mb</th>            <td>    0.0866</td> <td>    0.126</td> <td>    0.685</td> <td> 0.495</td> <td>   -0.165</td> <td>    0.338</td>\n",
              "</tr>\n",
              "</table>\n",
              "<table class=\"simpletable\">\n",
              "<tr>\n",
              "  <th>Omnibus:</th>       <td> 0.368</td> <th>  Durbin-Watson:     </th> <td>   2.190</td>\n",
              "</tr>\n",
              "<tr>\n",
              "  <th>Prob(Omnibus):</th> <td> 0.832</td> <th>  Jarque-Bera (JB):  </th> <td>   0.441</td>\n",
              "</tr>\n",
              "<tr>\n",
              "  <th>Skew:</th>          <td> 0.151</td> <th>  Prob(JB):          </th> <td>   0.802</td>\n",
              "</tr>\n",
              "<tr>\n",
              "  <th>Kurtosis:</th>      <td> 2.810</td> <th>  Cond. No.          </th> <td>    167.</td>\n",
              "</tr>\n",
              "</table><br/><br/>Warnings:<br/>[1] Standard Errors are heteroscedasticity robust (HC3)"
            ],
            "text/plain": [
              "<class 'statsmodels.iolib.summary.Summary'>\n",
              "\"\"\"\n",
              "                            OLS Regression Results                            \n",
              "==============================================================================\n",
              "Dep. Variable:           BookLeverage   R-squared:                       0.070\n",
              "Model:                            OLS   Adj. R-squared:                  0.022\n",
              "Method:                 Least Squares   F-statistic:                    0.6712\n",
              "Date:                Sun, 28 Mar 2021   Prob (F-statistic):              0.614\n",
              "Time:                        13:09:58   Log-Likelihood:                 34.610\n",
              "No. Observations:                  83   AIC:                            -59.22\n",
              "Df Residuals:                      78   BIC:                            -47.13\n",
              "Df Model:                           4                                         \n",
              "Covariance Type:                  HC3                                         \n",
              "=================================================================================\n",
              "                    coef    std err          t      P>|t|      [0.025      0.975]\n",
              "---------------------------------------------------------------------------------\n",
              "const             0.2229      0.200      1.115      0.268      -0.175       0.621\n",
              "profitability    -0.5923      0.421     -1.408      0.163      -1.430       0.245\n",
              "tangibility      -0.0071      0.086     -0.083      0.934      -0.178       0.164\n",
              "firm_size         0.0103      0.021      0.481      0.632      -0.032       0.053\n",
              "mb                0.0866      0.126      0.685      0.495      -0.165       0.338\n",
              "==============================================================================\n",
              "Omnibus:                        0.368   Durbin-Watson:                   2.190\n",
              "Prob(Omnibus):                  0.832   Jarque-Bera (JB):                0.441\n",
              "Skew:                           0.151   Prob(JB):                        0.802\n",
              "Kurtosis:                       2.810   Cond. No.                         167.\n",
              "==============================================================================\n",
              "\n",
              "Warnings:\n",
              "[1] Standard Errors are heteroscedasticity robust (HC3)\n",
              "\"\"\""
            ]
          },
          "metadata": {
            "tags": []
          },
          "execution_count": 20
        }
      ]
    },
    {
      "cell_type": "code",
      "metadata": {
        "colab": {
          "base_uri": "https://localhost:8080/",
          "height": 486
        },
        "id": "5nN_19f543bs",
        "outputId": "d159b900-9f33-4bc3-9805-ee6176d629d2"
      },
      "source": [
        "# Model 2 robust standard errors  (book leverage): \n",
        "model_robust_2 = sm.OLS(mrkt_lev, X)\n",
        "results_robust_2 = model_robust_2.fit()\n",
        "results_robust_2.get_robustcov_results(cov_type='HC3').summary()"
      ],
      "execution_count": null,
      "outputs": [
        {
          "output_type": "execute_result",
          "data": {
            "text/html": [
              "<table class=\"simpletable\">\n",
              "<caption>OLS Regression Results</caption>\n",
              "<tr>\n",
              "  <th>Dep. Variable:</th>     <td>MarketLeverage</td>  <th>  R-squared:         </th> <td>   0.190</td>\n",
              "</tr>\n",
              "<tr>\n",
              "  <th>Model:</th>                   <td>OLS</td>       <th>  Adj. R-squared:    </th> <td>   0.149</td>\n",
              "</tr>\n",
              "<tr>\n",
              "  <th>Method:</th>             <td>Least Squares</td>  <th>  F-statistic:       </th> <td>   1.707</td>\n",
              "</tr>\n",
              "<tr>\n",
              "  <th>Date:</th>             <td>Sun, 28 Mar 2021</td> <th>  Prob (F-statistic):</th>  <td> 0.157</td> \n",
              "</tr>\n",
              "<tr>\n",
              "  <th>Time:</th>                 <td>13:23:44</td>     <th>  Log-Likelihood:    </th> <td>  25.629</td>\n",
              "</tr>\n",
              "<tr>\n",
              "  <th>No. Observations:</th>      <td>    83</td>      <th>  AIC:               </th> <td>  -41.26</td>\n",
              "</tr>\n",
              "<tr>\n",
              "  <th>Df Residuals:</th>          <td>    78</td>      <th>  BIC:               </th> <td>  -29.16</td>\n",
              "</tr>\n",
              "<tr>\n",
              "  <th>Df Model:</th>              <td>     4</td>      <th>                     </th>     <td> </td>   \n",
              "</tr>\n",
              "<tr>\n",
              "  <th>Covariance Type:</th>         <td>HC3</td>       <th>                     </th>     <td> </td>   \n",
              "</tr>\n",
              "</table>\n",
              "<table class=\"simpletable\">\n",
              "<tr>\n",
              "        <td></td>           <th>coef</th>     <th>std err</th>      <th>t</th>      <th>P>|t|</th>  <th>[0.025</th>    <th>0.975]</th>  \n",
              "</tr>\n",
              "<tr>\n",
              "  <th>const</th>         <td>    0.5156</td> <td>    0.246</td> <td>    2.094</td> <td> 0.040</td> <td>    0.025</td> <td>    1.006</td>\n",
              "</tr>\n",
              "<tr>\n",
              "  <th>profitability</th> <td>   -0.7197</td> <td>    0.440</td> <td>   -1.636</td> <td> 0.106</td> <td>   -1.596</td> <td>    0.156</td>\n",
              "</tr>\n",
              "<tr>\n",
              "  <th>tangibility</th>   <td>   -0.0294</td> <td>    0.095</td> <td>   -0.310</td> <td> 0.758</td> <td>   -0.219</td> <td>    0.160</td>\n",
              "</tr>\n",
              "<tr>\n",
              "  <th>firm_size</th>     <td>    0.0076</td> <td>    0.026</td> <td>    0.295</td> <td> 0.769</td> <td>   -0.044</td> <td>    0.059</td>\n",
              "</tr>\n",
              "<tr>\n",
              "  <th>mb</th>            <td>   -0.1184</td> <td>    0.102</td> <td>   -1.161</td> <td> 0.249</td> <td>   -0.321</td> <td>    0.085</td>\n",
              "</tr>\n",
              "</table>\n",
              "<table class=\"simpletable\">\n",
              "<tr>\n",
              "  <th>Omnibus:</th>       <td> 0.560</td> <th>  Durbin-Watson:     </th> <td>   2.150</td>\n",
              "</tr>\n",
              "<tr>\n",
              "  <th>Prob(Omnibus):</th> <td> 0.756</td> <th>  Jarque-Bera (JB):  </th> <td>   0.694</td>\n",
              "</tr>\n",
              "<tr>\n",
              "  <th>Skew:</th>          <td> 0.166</td> <th>  Prob(JB):          </th> <td>   0.707</td>\n",
              "</tr>\n",
              "<tr>\n",
              "  <th>Kurtosis:</th>      <td> 2.699</td> <th>  Cond. No.          </th> <td>    167.</td>\n",
              "</tr>\n",
              "</table><br/><br/>Warnings:<br/>[1] Standard Errors are heteroscedasticity robust (HC3)"
            ],
            "text/plain": [
              "<class 'statsmodels.iolib.summary.Summary'>\n",
              "\"\"\"\n",
              "                            OLS Regression Results                            \n",
              "==============================================================================\n",
              "Dep. Variable:         MarketLeverage   R-squared:                       0.190\n",
              "Model:                            OLS   Adj. R-squared:                  0.149\n",
              "Method:                 Least Squares   F-statistic:                     1.707\n",
              "Date:                Sun, 28 Mar 2021   Prob (F-statistic):              0.157\n",
              "Time:                        13:23:44   Log-Likelihood:                 25.629\n",
              "No. Observations:                  83   AIC:                            -41.26\n",
              "Df Residuals:                      78   BIC:                            -29.16\n",
              "Df Model:                           4                                         \n",
              "Covariance Type:                  HC3                                         \n",
              "=================================================================================\n",
              "                    coef    std err          t      P>|t|      [0.025      0.975]\n",
              "---------------------------------------------------------------------------------\n",
              "const             0.5156      0.246      2.094      0.040       0.025       1.006\n",
              "profitability    -0.7197      0.440     -1.636      0.106      -1.596       0.156\n",
              "tangibility      -0.0294      0.095     -0.310      0.758      -0.219       0.160\n",
              "firm_size         0.0076      0.026      0.295      0.769      -0.044       0.059\n",
              "mb               -0.1184      0.102     -1.161      0.249      -0.321       0.085\n",
              "==============================================================================\n",
              "Omnibus:                        0.560   Durbin-Watson:                   2.150\n",
              "Prob(Omnibus):                  0.756   Jarque-Bera (JB):                0.694\n",
              "Skew:                           0.166   Prob(JB):                        0.707\n",
              "Kurtosis:                       2.699   Cond. No.                         167.\n",
              "==============================================================================\n",
              "\n",
              "Warnings:\n",
              "[1] Standard Errors are heteroscedasticity robust (HC3)\n",
              "\"\"\""
            ]
          },
          "metadata": {
            "tags": []
          },
          "execution_count": 21
        }
      ]
    },
    {
      "cell_type": "code",
      "metadata": {
        "id": "VxqMxcHc4_y3"
      },
      "source": [
        ""
      ],
      "execution_count": null,
      "outputs": []
    }
  ]
}